{
  "nbformat": 4,
  "nbformat_minor": 0,
  "metadata": {
    "colab": {
      "name": "gensim_LDA_Mallet_for_bigram_threshold_70.ipynb",
      "provenance": [],
      "collapsed_sections": [],
      "toc_visible": true,
      "mount_file_id": "11J-sQYy4sUusje9BkIbbQkA1JSWfNMS7",
      "authorship_tag": "ABX9TyNoEdOXo375B5TitNJzYOCX",
      "include_colab_link": true
    },
    "kernelspec": {
      "name": "python3",
      "display_name": "Python 3"
    }
  },
  "cells": [
    {
      "cell_type": "markdown",
      "metadata": {
        "id": "view-in-github",
        "colab_type": "text"
      },
      "source": [
        "<a href=\"https://colab.research.google.com/github/monsund/unsupervised-classification-of-Linkedin-Profiles-using-KMeans-LDA-TFIDF/blob/master/gensim_LDA_Mallet.ipynb\" target=\"_parent\"><img src=\"https://colab.research.google.com/assets/colab-badge.svg\" alt=\"Open In Colab\"/></a>"
      ]
    },
    {
      "cell_type": "markdown",
      "metadata": {
        "id": "kQgY2RGwqtR-"
      },
      "source": [
        "# **Install LDA Mallet Package**"
      ]
    },
    {
      "cell_type": "code",
      "metadata": {
        "id": "q5Uvf3D7qaYX"
      },
      "source": [
        "!wget http://mallet.cs.umass.edu/dist/mallet-2.0.8.zip\n",
        "!unzip mallet-2.0.8.zip"
      ],
      "execution_count": null,
      "outputs": []
    },
    {
      "cell_type": "code",
      "metadata": {
        "id": "wWBDE3UHqkkS"
      },
      "source": [
        "mallet_path = '/content/mallet-2.0.8/bin/mallet'"
      ],
      "execution_count": null,
      "outputs": []
    },
    {
      "cell_type": "markdown",
      "metadata": {
        "id": "S1R245wDq1b_"
      },
      "source": [
        "# **Load LDA Corpus**"
      ]
    },
    {
      "cell_type": "code",
      "metadata": {
        "id": "gvqCP01nq8XR"
      },
      "source": [
        "import pickle\n",
        "with open(\"/content/drive/My Drive/NLP/with_swaraj/Data/lda_corpus_bigram_threshold_70.txt\", \"rb\") as fp:   # Unpickling\n",
        "  corpus = pickle.load(fp)"
      ],
      "execution_count": null,
      "outputs": []
    },
    {
      "cell_type": "code",
      "metadata": {
        "id": "dgNmMIyMtS3X"
      },
      "source": [
        "with open(\"/content/drive/My Drive/NLP/with_swaraj/Data/lda_id2word_bigram_threshold_70.txt\", \"rb\") as fp:   # Unpickling\n",
        "  id2word = pickle.load(fp)"
      ],
      "execution_count": null,
      "outputs": []
    },
    {
      "cell_type": "code",
      "metadata": {
        "id": "5eHKUICN02v9"
      },
      "source": [
        "with open(\"/content/drive/My Drive/NLP/with_swaraj/Data/data_list_for_lda_dictionary.json\", \"rb\") as fp:   # Unpickling\n",
        "  data_list_for_lda_dictionary = pickle.load(fp)"
      ],
      "execution_count": null,
      "outputs": []
    },
    {
      "cell_type": "code",
      "metadata": {
        "id": "qtKOTssBy7ym",
        "outputId": "176e845b-4b10-402f-8e90-46187362e007",
        "colab": {
          "base_uri": "https://localhost:8080/",
          "height": 204
        }
      },
      "source": [
        "import pandas as pd\n",
        "df = pd.read_csv('/content/drive/My Drive/NLP/with_swaraj/Data/linkedin_about_no_foreign_lang.csv')\n",
        "df = df.dropna()\n",
        "df = df.drop(['cleaned_about_us', 'cluster'], axis=1)\n",
        "df = df.reset_index(drop=True)\n",
        "df.head()"
      ],
      "execution_count": null,
      "outputs": [
        {
          "output_type": "execute_result",
          "data": {
            "text/html": [
              "<div>\n",
              "<style scoped>\n",
              "    .dataframe tbody tr th:only-of-type {\n",
              "        vertical-align: middle;\n",
              "    }\n",
              "\n",
              "    .dataframe tbody tr th {\n",
              "        vertical-align: top;\n",
              "    }\n",
              "\n",
              "    .dataframe thead th {\n",
              "        text-align: right;\n",
              "    }\n",
              "</style>\n",
              "<table border=\"1\" class=\"dataframe\">\n",
              "  <thead>\n",
              "    <tr style=\"text-align: right;\">\n",
              "      <th></th>\n",
              "      <th>url</th>\n",
              "      <th>username</th>\n",
              "      <th>title</th>\n",
              "      <th>about</th>\n",
              "    </tr>\n",
              "  </thead>\n",
              "  <tbody>\n",
              "    <tr>\n",
              "      <th>0</th>\n",
              "      <td>https://www.linkedin.com/in/lokesh-kumar-xess-...</td>\n",
              "      <td>lokesh-kumar-xess-54814068</td>\n",
              "      <td>Marketing &amp; Strategy at Mobistreak</td>\n",
              "      <td>I am a Google Adwords and Google Analytics cer...</td>\n",
              "    </tr>\n",
              "    <tr>\n",
              "      <th>1</th>\n",
              "      <td>https://in.linkedin.com/in/sujithnarayanan</td>\n",
              "      <td>sujithnarayanan</td>\n",
              "      <td>Reimagining Financial Services for India</td>\n",
              "      <td>Ideate. Execute. Disrupt. Iterate.</td>\n",
              "    </tr>\n",
              "    <tr>\n",
              "      <th>2</th>\n",
              "      <td>https://www.linkedin.com/in/adarshramakrishnan</td>\n",
              "      <td>adarshramakrishnan</td>\n",
              "      <td>Product Strategist | Product Manager | Triple ...</td>\n",
              "      <td>Over the past decade, I have co-founded 3 vent...</td>\n",
              "    </tr>\n",
              "    <tr>\n",
              "      <th>3</th>\n",
              "      <td>https://www.linkedin.com/in/rhythm-bhatnagar-4...</td>\n",
              "      <td>rhythm-bhatnagar-4350b551</td>\n",
              "      <td>Product Marketer | Ex-SHEROES | Early-Stage St...</td>\n",
              "      <td>Hey,I am Rhythm. I am passionate about startup...</td>\n",
              "    </tr>\n",
              "    <tr>\n",
              "      <th>4</th>\n",
              "      <td>https://www.linkedin.com/in/karthiksureshlbs</td>\n",
              "      <td>karthiksureshlbs</td>\n",
              "      <td>Product at Facebook | CMU MS | LBS MBA</td>\n",
              "      <td>I am a product-centric builder with experience...</td>\n",
              "    </tr>\n",
              "  </tbody>\n",
              "</table>\n",
              "</div>"
            ],
            "text/plain": [
              "                                                 url  ...                                              about\n",
              "0  https://www.linkedin.com/in/lokesh-kumar-xess-...  ...  I am a Google Adwords and Google Analytics cer...\n",
              "1         https://in.linkedin.com/in/sujithnarayanan  ...                 Ideate. Execute. Disrupt. Iterate.\n",
              "2     https://www.linkedin.com/in/adarshramakrishnan  ...  Over the past decade, I have co-founded 3 vent...\n",
              "3  https://www.linkedin.com/in/rhythm-bhatnagar-4...  ...  Hey,I am Rhythm. I am passionate about startup...\n",
              "4       https://www.linkedin.com/in/karthiksureshlbs  ...  I am a product-centric builder with experience...\n",
              "\n",
              "[5 rows x 4 columns]"
            ]
          },
          "metadata": {
            "tags": []
          },
          "execution_count": 6
        }
      ]
    },
    {
      "cell_type": "markdown",
      "metadata": {
        "id": "tCg0GoP8rGS5"
      },
      "source": [
        "# **Build LDA Mallet Model**"
      ]
    },
    {
      "cell_type": "code",
      "metadata": {
        "id": "dSqZKKslrPV0"
      },
      "source": [
        "import gensim"
      ],
      "execution_count": null,
      "outputs": []
    },
    {
      "cell_type": "code",
      "metadata": {
        "id": "YGYQJ4gurKhw",
        "outputId": "fba72d28-2c9c-43e6-8986-a98100f5f4d9",
        "colab": {
          "base_uri": "https://localhost:8080/",
          "height": 71
        }
      },
      "source": [
        "ldamallet = gensim.models.wrappers.LdaMallet(mallet_path, corpus=corpus, num_topics=18, id2word=id2word)"
      ],
      "execution_count": null,
      "outputs": [
        {
          "output_type": "stream",
          "text": [
            "/usr/local/lib/python3.6/dist-packages/smart_open/smart_open_lib.py:252: UserWarning: This function is deprecated, use smart_open.open instead. See the migration notes for details: https://github.com/RaRe-Technologies/smart_open/blob/master/README.rst#migrating-to-the-new-open-function\n",
            "  'See the migration notes for details: %s' % _MIGRATION_NOTES_URL\n"
          ],
          "name": "stderr"
        }
      ]
    },
    {
      "cell_type": "code",
      "metadata": {
        "id": "8AZvTXgnrTjH",
        "outputId": "7c3f8a97-aa38-4775-8f71-514adbebee61",
        "colab": {
          "base_uri": "https://localhost:8080/",
          "height": 649
        }
      },
      "source": [
        "# display topics\n",
        "ldamallet.print_topics()"
      ],
      "execution_count": null,
      "outputs": [
        {
          "output_type": "execute_result",
          "data": {
            "text/plain": [
              "[(0,\n",
              "  '0.052*\"work\" + 0.041*\"learn\" + 0.041*\"time\" + 0.039*\"good\" + 0.033*\"problem\" + 0.028*\"passionate\" + 0.026*\"challenge\" + 0.025*\"solve\" + 0.023*\"understand\" + 0.020*\"opportunity\"'),\n",
              " (1,\n",
              "  '0.027*\"school\" + 0.025*\"social\" + 0.024*\"education\" + 0.021*\"world\" + 0.018*\"health\" + 0.016*\"student\" + 0.016*\"award\" + 0.016*\"university\" + 0.015*\"impact\" + 0.015*\"healthcare\"'),\n",
              " (2,\n",
              "  '0.050*\"people\" + 0.042*\"make\" + 0.037*\"love\" + 0.028*\"life\" + 0.023*\"world\" + 0.018*\"thing\" + 0.016*\"find\" + 0.016*\"live\" + 0.014*\"great\" + 0.014*\"learn\"'),\n",
              " (3,\n",
              "  '0.191*\"management\" + 0.068*\"customer\" + 0.048*\"manage\" + 0.039*\"process\" + 0.034*\"operation\" + 0.031*\"program\" + 0.027*\"client\" + 0.025*\"team\" + 0.024*\"support\" + 0.020*\"delivery\"'),\n",
              " (4,\n",
              "  '0.094*\"team\" + 0.047*\"build\" + 0.041*\"lead\" + 0.030*\"leadership\" + 0.028*\"organization\" + 0.028*\"leader\" + 0.027*\"role\" + 0.027*\"people\" + 0.025*\"talent\" + 0.024*\"hr\"'),\n",
              " (5,\n",
              "  '0.169*\"marketing\" + 0.090*\"digital\" + 0.055*\"brand\" + 0.037*\"medium\" + 0.032*\"content\" + 0.028*\"online\" + 0.025*\"creative\" + 0.024*\"strategy\" + 0.020*\"event\" + 0.020*\"communication\"'),\n",
              " (6,\n",
              "  '0.129*\"work\" + 0.084*\"professional\" + 0.062*\"strong\" + 0.057*\"focus\" + 0.050*\"experience\" + 0.046*\"management\" + 0.038*\"demonstrated_history\" + 0.035*\"experienced\" + 0.033*\"industry\" + 0.031*\"engineering\"'),\n",
              " (7,\n",
              "  '0.074*\"datum\" + 0.046*\"solution\" + 0.038*\"analytic\" + 0.036*\"data\" + 0.029*\"enterprise\" + 0.028*\"science\" + 0.026*\"cloud\" + 0.022*\"ai\" + 0.021*\"deep\" + 0.021*\"system\"'),\n",
              " (8,\n",
              "  '0.267*\"product\" + 0.093*\"design\" + 0.061*\"team\" + 0.044*\"build\" + 0.041*\"user\" + 0.029*\"mobile\" + 0.028*\"lead\" + 0.027*\"customer\" + 0.016*\"manager\" + 0.015*\"year\"'),\n",
              " (9,\n",
              "  '0.070*\"business\" + 0.060*\"service\" + 0.056*\"financial\" + 0.039*\"finance\" + 0.037*\"client\" + 0.028*\"management\" + 0.025*\"industry\" + 0.023*\"analysis\" + 0.020*\"corporate\" + 0.020*\"year\"'),\n",
              " (10,\n",
              "  '0.080*\"software\" + 0.040*\"application\" + 0.039*\"web\" + 0.031*\"system\" + 0.028*\"engineer\" + 0.025*\"technology\" + 0.024*\"technical\" + 0.024*\"knowledge\" + 0.024*\"developer\" + 0.021*\"engineering\"'),\n",
              " (11,\n",
              "  '0.046*\"company\" + 0.040*\"investment\" + 0.029*\"lead\" + 0.027*\"venture\" + 0.024*\"fund\" + 0.022*\"startup\" + 0.022*\"firm\" + 0.022*\"partner\" + 0.021*\"capital\" + 0.019*\"investor\"'),\n",
              " (12,\n",
              "  '0.227*\"business\" + 0.101*\"sale\" + 0.096*\"strategy\" + 0.060*\"growth\" + 0.048*\"market\" + 0.030*\"strategic\" + 0.024*\"revenue\" + 0.022*\"lead\" + 0.020*\"partnership\" + 0.015*\"operation\"'),\n",
              " (13,\n",
              "  '0.054*\"drive\" + 0.031*\"leader\" + 0.030*\"high\" + 0.027*\"deliver\" + 0.026*\"change\" + 0.026*\"create\" + 0.024*\"innovative\" + 0.024*\"innovation\" + 0.024*\"solution\" + 0.024*\"organization\"'),\n",
              " (14,\n",
              "  '0.072*\"startup\" + 0.059*\"tech\" + 0.036*\"build\" + 0.034*\"start\" + 0.033*\"entrepreneur\" + 0.032*\"platform\" + 0.025*\"company\" + 0.024*\"scale\" + 0.021*\"grow\" + 0.019*\"founder\"'),\n",
              " (15,\n",
              "  '0.131*\"work\" + 0.056*\"year\" + 0.040*\"project\" + 0.039*\"research\" + 0.021*\"area\" + 0.020*\"include\" + 0.019*\"field\" + 0.019*\"interest\" + 0.018*\"develop\" + 0.015*\"involve\"'),\n",
              " (16,\n",
              "  '0.079*\"india\" + 0.041*\"global\" + 0.040*\"year\" + 0.031*\"international\" + 0.025*\"sector\" + 0.021*\"include\" + 0.019*\"industry\" + 0.018*\"corporate\" + 0.015*\"group\" + 0.015*\"practice\"'),\n",
              " (17,\n",
              "  '0.078*\"skill\" + 0.029*\"ability\" + 0.028*\"environment\" + 0.028*\"communication\" + 0.024*\"professional\" + 0.022*\"strong\" + 0.021*\"management\" + 0.020*\"result\" + 0.018*\"leadership\" + 0.017*\"highly\"')]"
            ]
          },
          "metadata": {
            "tags": []
          },
          "execution_count": 23
        }
      ]
    },
    {
      "cell_type": "markdown",
      "metadata": {
        "id": "LIFKFs7XwBXI"
      },
      "source": [
        "# **calculate the coherence score**"
      ]
    },
    {
      "cell_type": "code",
      "metadata": {
        "id": "Y0PBohWxwITN",
        "outputId": "16ff0888-39d2-4d16-8ca7-09614d4c957c",
        "colab": {
          "base_uri": "https://localhost:8080/",
          "height": 34
        }
      },
      "source": [
        "from gensim.models.coherencemodel import CoherenceModel\n",
        "\n",
        "# Compute Coherence Score\n",
        "coherence_model_ldamallet = CoherenceModel(model=ldamallet, texts=data_list_for_lda_dictionary, dictionary=id2word, coherence='c_v')\n",
        "coherence_ldamallet = coherence_model_ldamallet.get_coherence()\n",
        "print('Coherence Score: ', coherence_ldamallet)"
      ],
      "execution_count": null,
      "outputs": [
        {
          "output_type": "stream",
          "text": [
            "Coherence Score:  0.5177203109259058\n"
          ],
          "name": "stdout"
        }
      ]
    },
    {
      "cell_type": "markdown",
      "metadata": {
        "id": "1oRG99ID4mrB"
      },
      "source": [
        "# **Coherence Score for N number of topics**"
      ]
    },
    {
      "cell_type": "code",
      "metadata": {
        "id": "FHMWwReI47M_",
        "outputId": "9bf4a435-c4a1-4dee-a8ac-edc132097e36",
        "colab": {
          "base_uri": "https://localhost:8080/",
          "height": 34
        }
      },
      "source": [
        "num_topics = [x for x in range(12,21,2)]\n",
        "num_topics"
      ],
      "execution_count": null,
      "outputs": [
        {
          "output_type": "execute_result",
          "data": {
            "text/plain": [
              "[12, 14, 16, 18, 20]"
            ]
          },
          "metadata": {
            "tags": []
          },
          "execution_count": 10
        }
      ]
    },
    {
      "cell_type": "code",
      "metadata": {
        "id": "g5kuiIKg8x_5"
      },
      "source": [
        "from gensim.models.coherencemodel import CoherenceModel\n",
        "\n",
        "def get_coherence_score(model=ldamallet, num_topics_list=num_topics):\n",
        "  coherence_score = []\n",
        "  for num in num_topics:\n",
        "    ldamallet = gensim.models.wrappers.LdaMallet(mallet_path, corpus=corpus, num_topics=num, id2word=id2word)\n",
        "    \n",
        "    coherence_model_ldamallet = CoherenceModel(model=ldamallet, texts=data_list_for_lda_dictionary, dictionary=id2word, coherence='c_v')\n",
        "    coherence_ldamallet = coherence_model_ldamallet.get_coherence()\n",
        "    print(f'Coherence Score for {num}  topics : {coherence_ldamallet}')\n",
        "\n",
        "    dic= {'no. of topics':num, 'coherence_score':coherence_ldamallet}\n",
        "    coherence_score.append(dic)\n",
        "  \n",
        "  return coherence_score\n"
      ],
      "execution_count": null,
      "outputs": []
    },
    {
      "cell_type": "code",
      "metadata": {
        "id": "aTCAA5jr9u0R",
        "outputId": "4026de3e-7210-4d6c-af78-c11110eb0855",
        "colab": {
          "base_uri": "https://localhost:8080/",
          "height": 241
        }
      },
      "source": [
        "get_coherence_score(model=ldamallet, num_topics_list=num_topics)"
      ],
      "execution_count": null,
      "outputs": [
        {
          "output_type": "stream",
          "text": [
            "/usr/local/lib/python3.6/dist-packages/smart_open/smart_open_lib.py:252: UserWarning: This function is deprecated, use smart_open.open instead. See the migration notes for details: https://github.com/RaRe-Technologies/smart_open/blob/master/README.rst#migrating-to-the-new-open-function\n",
            "  'See the migration notes for details: %s' % _MIGRATION_NOTES_URL\n"
          ],
          "name": "stderr"
        },
        {
          "output_type": "stream",
          "text": [
            "Coherence Score for 12  topics : 0.5101425051979438\n",
            "Coherence Score for 14  topics : 0.5113855810214268\n",
            "Coherence Score for 16  topics : 0.514498337646117\n",
            "Coherence Score for 18  topics : 0.5154999664261368\n",
            "Coherence Score for 20  topics : 0.5141675518935245\n"
          ],
          "name": "stdout"
        },
        {
          "output_type": "execute_result",
          "data": {
            "text/plain": [
              "[{'coherence_score': 0.5101425051979438, 'no. of topics': 12},\n",
              " {'coherence_score': 0.5113855810214268, 'no. of topics': 14},\n",
              " {'coherence_score': 0.514498337646117, 'no. of topics': 16},\n",
              " {'coherence_score': 0.5154999664261368, 'no. of topics': 18},\n",
              " {'coherence_score': 0.5141675518935245, 'no. of topics': 20}]"
            ]
          },
          "metadata": {
            "tags": []
          },
          "execution_count": 14
        }
      ]
    },
    {
      "cell_type": "markdown",
      "metadata": {
        "id": "neEZesm5yQxg"
      },
      "source": [
        "# **Topic Distribution**"
      ]
    },
    {
      "cell_type": "code",
      "metadata": {
        "id": "ythUc9mIwIsr",
        "outputId": "b0b721b0-5b75-49b6-d2e0-de5018445cb4",
        "colab": {
          "base_uri": "https://localhost:8080/",
          "height": 71
        }
      },
      "source": [
        "tm_results = ldamallet[corpus]"
      ],
      "execution_count": null,
      "outputs": [
        {
          "output_type": "stream",
          "text": [
            "/usr/local/lib/python3.6/dist-packages/smart_open/smart_open_lib.py:252: UserWarning: This function is deprecated, use smart_open.open instead. See the migration notes for details: https://github.com/RaRe-Technologies/smart_open/blob/master/README.rst#migrating-to-the-new-open-function\n",
            "  'See the migration notes for details: %s' % _MIGRATION_NOTES_URL\n"
          ],
          "name": "stderr"
        }
      ]
    },
    {
      "cell_type": "code",
      "metadata": {
        "id": "akpL2hg35IrC",
        "outputId": "2ad2a2a3-e1ec-4ddf-c6f8-10a59a10259b",
        "colab": {
          "base_uri": "https://localhost:8080/",
          "height": 34
        }
      },
      "source": [
        "len(tm_results)"
      ],
      "execution_count": null,
      "outputs": [
        {
          "output_type": "execute_result",
          "data": {
            "text/plain": [
              "9044"
            ]
          },
          "metadata": {
            "tags": []
          },
          "execution_count": 27
        }
      ]
    },
    {
      "cell_type": "markdown",
      "metadata": {
        "id": "wYEf5mTS0igB"
      },
      "source": [
        "# **Most probable words for the given Topic ID**"
      ]
    },
    {
      "cell_type": "code",
      "metadata": {
        "id": "bSzRyuWQ1X5T",
        "outputId": "5653a695-4cdb-4d6a-da77-b9f2df5d8a04",
        "colab": {
          "base_uri": "https://localhost:8080/",
          "height": 54
        }
      },
      "source": [
        "# top probable words for topic id 1\n",
        "print(f'top probable words of Topic 1: {ldamallet.show_topic(1, topn=10)}')"
      ],
      "execution_count": null,
      "outputs": [
        {
          "output_type": "stream",
          "text": [
            "top probable words of Topic 1: [('school', 0.026901331387926317), ('social', 0.02548787160313697), ('education', 0.023800838956775486), ('world', 0.02060915557176728), ('health', 0.018055808863760715), ('student', 0.016004012401969723), ('award', 0.015912821448112346), ('university', 0.015684844063468904), ('impact', 0.01513769834032464), ('healthcare', 0.014590552617180376)]\n"
          ],
          "name": "stdout"
        }
      ]
    },
    {
      "cell_type": "code",
      "metadata": {
        "id": "kbdjfwOL0wBH"
      },
      "source": [
        "# Topic wise Top probable words with word probability\n",
        "topics_with_word_prob = [[(term, round(wt, 3)) for term, wt in ldamallet.show_topic(n, topn=20)] for n in range(0, ldamallet.num_topics)]"
      ],
      "execution_count": null,
      "outputs": []
    },
    {
      "cell_type": "code",
      "metadata": {
        "id": "Rj3kzh2e9WKr"
      },
      "source": [
        "# Topic wise keywords only\n",
        "topics_keywords = topics_with_word_prob = [[term for term, wt in ldamallet.show_topic(n, topn=20)] for n in range(0, ldamallet.num_topics)]"
      ],
      "execution_count": null,
      "outputs": []
    },
    {
      "cell_type": "code",
      "metadata": {
        "id": "K0Vdy0DjASNT"
      },
      "source": [
        ""
      ],
      "execution_count": null,
      "outputs": []
    },
    {
      "cell_type": "markdown",
      "metadata": {
        "id": "yCRau1Cvyjok"
      },
      "source": [
        "# **Find Dominant topic for a given documents**"
      ]
    },
    {
      "cell_type": "code",
      "metadata": {
        "id": "XQ27IEF3yiy5"
      },
      "source": [
        "dominant_topics = [sorted(topics, key=lambda record: -record[1])[0] for topics in tm_results]"
      ],
      "execution_count": null,
      "outputs": []
    },
    {
      "cell_type": "code",
      "metadata": {
        "id": "H8u5-wHd7Jgh"
      },
      "source": [
        "dominant_topics_df = pd.DataFrame(dominant_topics, columns=['topic', 'topic_probability'])"
      ],
      "execution_count": null,
      "outputs": []
    },
    {
      "cell_type": "code",
      "metadata": {
        "id": "ytJMT4-4B9uK",
        "outputId": "fae5a509-5611-4dca-8937-d258fbad9750",
        "colab": {
          "base_uri": "https://localhost:8080/",
          "height": 34
        }
      },
      "source": [
        "dominant_topics_df['topic'].isnull().values.any()\n",
        "# dominant_topics_df.topic.tolist()"
      ],
      "execution_count": null,
      "outputs": [
        {
          "output_type": "execute_result",
          "data": {
            "text/plain": [
              "False"
            ]
          },
          "metadata": {
            "tags": []
          },
          "execution_count": 33
        }
      ]
    },
    {
      "cell_type": "code",
      "metadata": {
        "id": "Wt2NWHSdyw3D"
      },
      "source": [
        "df['dominant_topic'] = dominant_topics_df.topic.tolist()\n",
        "df['topic_prob'] = dominant_topics_df.topic_probability.tolist()"
      ],
      "execution_count": null,
      "outputs": []
    },
    {
      "cell_type": "code",
      "metadata": {
        "id": "MELdHHDoHGXx"
      },
      "source": [
        "df['keywords'] = df.dominant_topic.apply(lambda x: topics_keywords[x])"
      ],
      "execution_count": null,
      "outputs": []
    },
    {
      "cell_type": "code",
      "metadata": {
        "id": "onAHTltXHVTh",
        "outputId": "7d9e3271-e7a7-4cc5-8811-23cdaca0edc1",
        "colab": {
          "base_uri": "https://localhost:8080/",
          "height": 145
        }
      },
      "source": [
        "df.head(2)"
      ],
      "execution_count": null,
      "outputs": [
        {
          "output_type": "execute_result",
          "data": {
            "text/html": [
              "<div>\n",
              "<style scoped>\n",
              "    .dataframe tbody tr th:only-of-type {\n",
              "        vertical-align: middle;\n",
              "    }\n",
              "\n",
              "    .dataframe tbody tr th {\n",
              "        vertical-align: top;\n",
              "    }\n",
              "\n",
              "    .dataframe thead th {\n",
              "        text-align: right;\n",
              "    }\n",
              "</style>\n",
              "<table border=\"1\" class=\"dataframe\">\n",
              "  <thead>\n",
              "    <tr style=\"text-align: right;\">\n",
              "      <th></th>\n",
              "      <th>url</th>\n",
              "      <th>username</th>\n",
              "      <th>title</th>\n",
              "      <th>about</th>\n",
              "      <th>dominant_topic</th>\n",
              "      <th>topic_prob</th>\n",
              "      <th>keywords</th>\n",
              "    </tr>\n",
              "  </thead>\n",
              "  <tbody>\n",
              "    <tr>\n",
              "      <th>0</th>\n",
              "      <td>https://www.linkedin.com/in/lokesh-kumar-xess-...</td>\n",
              "      <td>lokesh-kumar-xess-54814068</td>\n",
              "      <td>Marketing &amp; Strategy at Mobistreak</td>\n",
              "      <td>I am a Google Adwords and Google Analytics cer...</td>\n",
              "      <td>5</td>\n",
              "      <td>0.184839</td>\n",
              "      <td>[marketing, digital, brand, medium, content, o...</td>\n",
              "    </tr>\n",
              "    <tr>\n",
              "      <th>1</th>\n",
              "      <td>https://in.linkedin.com/in/sujithnarayanan</td>\n",
              "      <td>sujithnarayanan</td>\n",
              "      <td>Reimagining Financial Services for India</td>\n",
              "      <td>Ideate. Execute. Disrupt. Iterate.</td>\n",
              "      <td>12</td>\n",
              "      <td>0.066239</td>\n",
              "      <td>[business, sale, strategy, growth, market, str...</td>\n",
              "    </tr>\n",
              "  </tbody>\n",
              "</table>\n",
              "</div>"
            ],
            "text/plain": [
              "                                                 url  ...                                           keywords\n",
              "0  https://www.linkedin.com/in/lokesh-kumar-xess-...  ...  [marketing, digital, brand, medium, content, o...\n",
              "1         https://in.linkedin.com/in/sujithnarayanan  ...  [business, sale, strategy, growth, market, str...\n",
              "\n",
              "[2 rows x 7 columns]"
            ]
          },
          "metadata": {
            "tags": []
          },
          "execution_count": 36
        }
      ]
    },
    {
      "cell_type": "markdown",
      "metadata": {
        "id": "VzNdUFgoHdLk"
      },
      "source": [
        "# **Export Dataframe**"
      ]
    },
    {
      "cell_type": "code",
      "metadata": {
        "id": "xAF4-hqSHhsl"
      },
      "source": [
        "df.to_csv('/content/drive/My Drive/NLP/with_swaraj/Data/lda_mallet_prediction/18_topics_pred_bigram_threshold_70.csv', index=False)"
      ],
      "execution_count": null,
      "outputs": []
    },
    {
      "cell_type": "markdown",
      "metadata": {
        "id": "wYQM9y6j2SIo"
      },
      "source": [
        "# **Visualization with pyLDAvis**"
      ]
    },
    {
      "cell_type": "markdown",
      "metadata": {
        "id": "Un6p_0v63Zg2"
      },
      "source": [
        "“pyLDAvis” is also a visualization library for presenting topic models. To use this library, you need to convert LdaMallet model to a gensim model. Below is the conversion method that I found on stackvverflow:\n"
      ]
    },
    {
      "cell_type": "code",
      "metadata": {
        "id": "Lncadr2X3BQw",
        "outputId": "fa286f4d-f416-4619-b544-cda53b4c0667",
        "colab": {
          "base_uri": "https://localhost:8080/",
          "height": 544
        }
      },
      "source": [
        "!pip install pyLDAvis"
      ],
      "execution_count": null,
      "outputs": [
        {
          "output_type": "stream",
          "text": [
            "Collecting pyLDAvis\n",
            "\u001b[?25l  Downloading https://files.pythonhosted.org/packages/a5/3a/af82e070a8a96e13217c8f362f9a73e82d61ac8fff3a2561946a97f96266/pyLDAvis-2.1.2.tar.gz (1.6MB)\n",
            "\u001b[K     |████████████████████████████████| 1.6MB 4.2MB/s \n",
            "\u001b[?25hRequirement already satisfied: wheel>=0.23.0 in /usr/local/lib/python3.6/dist-packages (from pyLDAvis) (0.35.1)\n",
            "Requirement already satisfied: numpy>=1.9.2 in /usr/local/lib/python3.6/dist-packages (from pyLDAvis) (1.18.5)\n",
            "Requirement already satisfied: scipy>=0.18.0 in /usr/local/lib/python3.6/dist-packages (from pyLDAvis) (1.4.1)\n",
            "Requirement already satisfied: pandas>=0.17.0 in /usr/local/lib/python3.6/dist-packages (from pyLDAvis) (1.1.2)\n",
            "Requirement already satisfied: joblib>=0.8.4 in /usr/local/lib/python3.6/dist-packages (from pyLDAvis) (0.16.0)\n",
            "Requirement already satisfied: jinja2>=2.7.2 in /usr/local/lib/python3.6/dist-packages (from pyLDAvis) (2.11.2)\n",
            "Requirement already satisfied: numexpr in /usr/local/lib/python3.6/dist-packages (from pyLDAvis) (2.7.1)\n",
            "Requirement already satisfied: pytest in /usr/local/lib/python3.6/dist-packages (from pyLDAvis) (3.6.4)\n",
            "Requirement already satisfied: future in /usr/local/lib/python3.6/dist-packages (from pyLDAvis) (0.16.0)\n",
            "Collecting funcy\n",
            "  Downloading https://files.pythonhosted.org/packages/66/89/479de0afbbfb98d1c4b887936808764627300208bb771fcd823403645a36/funcy-1.15-py2.py3-none-any.whl\n",
            "Requirement already satisfied: pytz>=2017.2 in /usr/local/lib/python3.6/dist-packages (from pandas>=0.17.0->pyLDAvis) (2018.9)\n",
            "Requirement already satisfied: python-dateutil>=2.7.3 in /usr/local/lib/python3.6/dist-packages (from pandas>=0.17.0->pyLDAvis) (2.8.1)\n",
            "Requirement already satisfied: MarkupSafe>=0.23 in /usr/local/lib/python3.6/dist-packages (from jinja2>=2.7.2->pyLDAvis) (1.1.1)\n",
            "Requirement already satisfied: pluggy<0.8,>=0.5 in /usr/local/lib/python3.6/dist-packages (from pytest->pyLDAvis) (0.7.1)\n",
            "Requirement already satisfied: atomicwrites>=1.0 in /usr/local/lib/python3.6/dist-packages (from pytest->pyLDAvis) (1.4.0)\n",
            "Requirement already satisfied: six>=1.10.0 in /usr/local/lib/python3.6/dist-packages (from pytest->pyLDAvis) (1.15.0)\n",
            "Requirement already satisfied: py>=1.5.0 in /usr/local/lib/python3.6/dist-packages (from pytest->pyLDAvis) (1.9.0)\n",
            "Requirement already satisfied: attrs>=17.4.0 in /usr/local/lib/python3.6/dist-packages (from pytest->pyLDAvis) (20.2.0)\n",
            "Requirement already satisfied: more-itertools>=4.0.0 in /usr/local/lib/python3.6/dist-packages (from pytest->pyLDAvis) (8.5.0)\n",
            "Requirement already satisfied: setuptools in /usr/local/lib/python3.6/dist-packages (from pytest->pyLDAvis) (50.3.0)\n",
            "Building wheels for collected packages: pyLDAvis\n",
            "  Building wheel for pyLDAvis (setup.py) ... \u001b[?25l\u001b[?25hdone\n",
            "  Created wheel for pyLDAvis: filename=pyLDAvis-2.1.2-py2.py3-none-any.whl size=97712 sha256=f2fbee86419f46f999685f4144a30dc9fdfc531ee4eaf40dfcb4b88ce9fda772\n",
            "  Stored in directory: /root/.cache/pip/wheels/98/71/24/513a99e58bb6b8465bae4d2d5e9dba8f0bef8179e3051ac414\n",
            "Successfully built pyLDAvis\n",
            "Installing collected packages: funcy, pyLDAvis\n",
            "Successfully installed funcy-1.15 pyLDAvis-2.1.2\n"
          ],
          "name": "stdout"
        }
      ]
    },
    {
      "cell_type": "code",
      "metadata": {
        "id": "1Jv2k46m2WQK"
      },
      "source": [
        "import pyLDAvis\n",
        "import pyLDAvis.gensim"
      ],
      "execution_count": null,
      "outputs": []
    },
    {
      "cell_type": "code",
      "metadata": {
        "id": "4gmthfLY3GkW"
      },
      "source": [
        "# Converting lda_mallet to lda_model for pyLDAvis visualtization\n",
        "from gensim.models.ldamodel import LdaModel\n",
        "\n",
        "def convertldaMallet_to_ldagensim(mallet_model):\n",
        "    model_gensim = LdaModel(\n",
        "        id2word=mallet_model.id2word, num_topics=mallet_model.num_topics,\n",
        "        alpha=mallet_model.alpha) \n",
        "    model_gensim.state.sstats[...] = mallet_model.wordtopics\n",
        "    model_gensim.sync_state()\n",
        "    return model_gensim"
      ],
      "execution_count": null,
      "outputs": []
    },
    {
      "cell_type": "code",
      "metadata": {
        "id": "mPYeNKAM3jsg"
      },
      "source": [
        "ldagensim = convertldaMallet_to_ldagensim(ldamallet)"
      ],
      "execution_count": null,
      "outputs": []
    },
    {
      "cell_type": "code",
      "metadata": {
        "id": "Attoef5k3pdr",
        "outputId": "6bbb862d-dd57-4fc4-cf59-62e32afeb3b2",
        "colab": {
          "base_uri": "https://localhost:8080/",
          "height": 861
        }
      },
      "source": [
        "import pyLDAvis.gensim as gensimvis\n",
        "vis_data = gensimvis.prepare(ldagensim, corpus, id2word, sort_topics=False)\n",
        "pyLDAvis.display(vis_data)"
      ],
      "execution_count": null,
      "outputs": [
        {
          "output_type": "execute_result",
          "data": {
            "text/html": [
              "\n",
              "<link rel=\"stylesheet\" type=\"text/css\" href=\"https://cdn.rawgit.com/bmabey/pyLDAvis/files/ldavis.v1.0.0.css\">\n",
              "\n",
              "\n",
              "<div id=\"ldavis_el1011405890946463128718382583\"></div>\n",
              "<script type=\"text/javascript\">\n",
              "\n",
              "var ldavis_el1011405890946463128718382583_data = {\"mdsDat\": {\"x\": [0.1053658052200714, 0.15261127368042246, 0.235321260171086, -0.22514448089061426, 0.012574294462871583, 0.016902083195256774, -0.1530527088795965, 0.028146703511309417, 0.0350515378822695, -0.20734574954211, -0.028803699123306357, 0.14687658997995964, -0.07333575143559919, -0.04454626887651417, 0.26146721291032426, -0.039978543724929476, -0.00858570626877956, -0.2135238522721222], \"y\": [0.27488836695358676, -0.010394526957348634, 0.15556773472535387, 0.021782231129419707, -0.05223772974567064, -0.13136624574846537, 0.19346914911734658, -0.017498555661822696, -0.06342918322173484, -0.08180686131865124, 0.09203951885693201, -0.17038023146131334, -0.2561686011273524, -0.036901204246467756, -0.07576160624660142, 0.19606113425614974, -0.06846727804927444, 0.030603888745913008], \"topics\": [1, 2, 3, 4, 5, 6, 7, 8, 9, 10, 11, 12, 13, 14, 15, 16, 17, 18], \"cluster\": [1, 1, 1, 1, 1, 1, 1, 1, 1, 1, 1, 1, 1, 1, 1, 1, 1, 1], \"Freq\": [5.545200353165196, 5.89733101194495, 5.951295659566249, 5.717704762996044, 5.513247046750208, 5.574439477158974, 4.714073754753468, 5.355904228675347, 5.4293871983956326, 5.428159498574452, 5.405615954045824, 5.7781032916587565, 5.841403538624361, 5.774244022015662, 5.55323963156592, 5.471156706099856, 5.62773948605115, 5.421754377957954]}, \"tinfo\": {\"Term\": [\"product\", \"business\", \"work\", \"management\", \"marketing\", \"team\", \"sale\", \"strategy\", \"design\", \"digital\", \"professional\", \"india\", \"build\", \"software\", \"startup\", \"skill\", \"customer\", \"datum\", \"year\", \"service\", \"strong\", \"lead\", \"growth\", \"people\", \"tech\", \"drive\", \"focus\", \"financial\", \"company\", \"brand\", \"hard\", \"understand\", \"action\", \"face\", \"strive\", \"require\", \"challenge\", \"meaningful\", \"constantly\", \"interact\", \"type\", \"curious\", \"message\", \"powerful\", \"evolve\", \"save\", \"excite\", \"solve\", \"point\", \"quick\", \"send\", \"case\", \"learner\", \"difficult\", \"behaviour\", \"opinion\", \"excited\", \"intuitive\", \"add_value\", \"lie\", \"fortunate\", \"solve_problem\", \"problem\", \"simple\", \"ready\", \"good\", \"time\", \"contact\", \"efficient\", \"learn\", \"enjoy\", \"advice\", \"passionate\", \"real\", \"individual\", \"apply\", \"meet\", \"opportunity\", \"understanding\", \"seek\", \"interested\", \"work\", \"job\", \"goal\", \"bring\", \"engage\", \"idea\", \"connect\", \"provide\", \"passion\", \"create\", \"knowledge\", \"find\", \"make\", \"client\", \"school\", \"health\", \"student\", \"award\", \"education\", \"woman\", \"economic\", \"speaker\", \"society\", \"non_profit\", \"state\", \"youth\", \"fellow\", \"magazine\", \"harvard\", \"art\", \"artist\", \"volunteer\", \"patient\", \"forbes\", \"summit\", \"young\", \"forum\", \"conference\", \"teaching\", \"nonprofit\", \"chair\", \"award_winning\", \"journal\", \"american\", \"author\", \"medical\", \"select\", \"topic\", \"social\", \"news\", \"publish\", \"foundation\", \"public\", \"healthcare\", \"member\", \"impact\", \"university\", \"serve\", \"community\", \"world\", \"study\", \"teach\", \"college\", \"write\", \"program\", \"innovation\", \"national\", \"director\", \"include\", \"international\", \"love\", \"life\", \"thing\", \"personal\", \"human\", \"day\", \"sport\", \"story\", \"play\", \"lot\", \"long\", \"inspire\", \"important\", \"money\", \"exciting\", \"connection\", \"dream\", \"discover\", \"fun\", \"happy\", \"begin\", \"interesting\", \"break\", \"leave\", \"step\", \"chat\", \"proud\", \"live\", \"bear\", \"word\", \"feel\", \"read\", \"put\", \"make\", \"free\", \"place\", \"people\", \"purpose\", \"find\", \"great\", \"journey\", \"move\", \"world\", \"mission\", \"reach\", \"call\", \"career\", \"learn\", \"passion\", \"give\", \"time\", \"grow\", \"write\", \"create\", \"delivery\", \"vendor\", \"maintain\", \"retention\", \"process_improvement\", \"procurement\", \"supply_chain\", \"supplier\", \"inventory\", \"internal_external\", \"contract_negotiation\", \"procedure\", \"offshore\", \"identification\", \"six_sigma\", \"customer_satisfaction\", \"scope\", \"salesforce\", \"expense\", \"onboarding\", \"enhancement\", \"cycle\", \"day_day\", \"personnel\", \"iso\", \"scheduling\", \"client_facing\", \"packaging\", \"ticket\", \"usage\", \"basis\", \"budget\", \"facilitate\", \"ensure\", \"management\", \"key\", \"customer\", \"manage\", \"program\", \"process\", \"account\", \"crm\", \"operation\", \"support\", \"stakeholder\", \"relationship\", \"resource\", \"implementation\", \"client\", \"internal\", \"plan\", \"quality\", \"manager\", \"target\", \"team\", \"service\", \"technical\", \"handle\", \"performance\", \"include\", \"solution\", \"talent\", \"hr\", \"employee\", \"recruitment\", \"source\", \"recruit\", \"culture\", \"candidate\", \"transition\", \"recruiting\", \"recruiter\", \"sourcing\", \"selection\", \"talent_acquisition\", \"employee_engagement\", \"hire\", \"workplace\", \"human_resource\", \"remote\", \"critical\", \"employer\", \"trainer\", \"diversity\", \"coaching\", \"fulfil\", \"staffing\", \"europe_asia\", \"mncs\", \"hiring\", \"ambition\", \"builder\", \"assessment\", \"impactful\", \"world_class\", \"intervention\", \"high_performing\", \"search\", \"team\", \"role\", \"function\", \"organization\", \"leadership\", \"leader\", \"excellence\", \"build\", \"building\", \"lead\", \"career\", \"people\", \"multiple\", \"organisation\", \"senior\", \"executive\", \"process\", \"year\", \"successful\", \"level\", \"high\", \"support\", \"passionate\", \"training\", \"set\", \"digital\", \"marketing\", \"brand\", \"medium\", \"content\", \"social_media\", \"campaign\", \"advertising\", \"agency\", \"email\", \"entertainment\", \"ad\", \"marketer\", \"online\", \"audience\", \"lead_generation\", \"search_engine\", \"media\", \"seo\", \"ecommerce\", \"fashion\", \"pr\", \"promotion\", \"di\", \"affiliate\", \"storytelling\", \"messaging\", \"film\", \"adobe\", \"advertise\", \"branding\", \"influencer\", \"event\", \"creative\", \"video\", \"music\", \"website\", \"communication\", \"channel\", \"production\", \"strategy\", \"market\", \"commerce\", \"specialty\", \"consumer\", \"demonstrated_history\", \"experienced\", \"master\", \"industry_skilled\", \"industry_skille\", \"hospitality\", \"bachelor\", \"teamwork\", \"professional_bachelor\", \"indian_institute\", \"microsoft_word\", \"computer_science\", \"electronics\", \"master_degree\", \"certificate\", \"mechanical_engineering\", \"bachelor_degree\", \"administration_mba\", \"national_institute\", \"civil\", \"university_california\", \"sc\", \"mechanical\", \"diploma\", \"skills\", \"microsoft_excel\", \"microsoft_office\", \"msc\", \"chief_operating\", \"university_michigan\", \"degree\", \"biotechnology\", \"computer\", \"services\", \"experience\", \"skilled\", \"professional\", \"medical_devices\", \"strong\", \"information\", \"graduate\", \"electronic\", \"mba\", \"focus\", \"engineering\", \"work\", \"administration\", \"manager\", \"industry\", \"university\", \"engineer\", \"management\", \"service\", \"senior\", \"college\", \"research\", \"datum\", \"science\", \"cloud\", \"ai\", \"deep\", \"security\", \"machine_learning\", \"infrastructure\", \"data\", \"iot\", \"intelligence\", \"ibm\", \"algorithm\", \"patent\", \"data_scientist\", \"computer_vision\", \"machine_learne\", \"cutting_edge\", \"nlp\", \"cto\", \"next_generation\", \"ml\", \"natural_language\", \"ai_ml\", \"bi\", \"engine\", \"recommendation\", \"computing\", \"automate\", \"processing\", \"analytic\", \"artificial_intelligence\", \"advance\", \"advanced\", \"intelligent\", \"enterprise\", \"big\", \"solution\", \"analytics\", \"network\", \"model\", \"system\", \"base\", \"analysis\", \"power\", \"platform\", \"optimization\", \"complex\", \"domain\", \"healthcare\", \"enable\", \"information\", \"product\", \"user\", \"roadmap\", \"ux\", \"visual\", \"craft\", \"interactive\", \"mobile_app\", \"designer\", \"mobile_apps\", \"ui_ux\", \"ideation\", \"user_interface\", \"ship\", \"prototype\", \"conceptualize\", \"obsess\", \"competitive_analysis\", \"definition\", \"ux_designer\", \"offline\", \"delightful\", \"generalist\", \"shipping\", \"ebay\", \"ux_ui\", \"centric\", \"usability\", \"multimedia\", \"apps\", \"pm\", \"design\", \"mobile\", \"empathy\", \"define\", \"app\", \"scratch\", \"team\", \"build\", \"launch\", \"lifecycle\", \"customer\", \"consumer\", \"seasoned\", \"manager\", \"agile\", \"lead\", \"cross_functional\", \"multiple\", \"building\", \"feature\", \"interaction\", \"vision\", \"research\", \"create\", \"experience\", \"year\", \"passionate\", \"saas\", \"strategy\", \"commerce\", \"specialty\", \"drive\", \"finance\", \"risk\", \"bank\", \"financial\", \"banking\", \"compliance\", \"insurance\", \"payment\", \"manufacturing\", \"accounting\", \"credit\", \"tax\", \"wealth\", \"construction\", \"structure\", \"trading\", \"regulatory\", \"investment_banke\", \"price\", \"comprehensive\", \"cfo\", \"quantitative\", \"mergers_acquisition\", \"audit\", \"reporting\", \"cash\", \"card\", \"lending\", \"license\", \"treasury\", \"valuation\", \"sme\", \"debt\", \"asset\", \"due_diligence\", \"service\", \"real_estate\", \"analysis\", \"client\", \"certify\", \"control\", \"corporate\", \"provide\", \"advisory\", \"business\", \"office\", \"industry\", \"fintech\", \"commercial\", \"planning\", \"retail\", \"management\", \"year\", \"consulting\", \"specialty\", \"include\", \"market\", \"operation\", \"portfolio\", \"expertise\", \"developer\", \"application\", \"architecture\", \"test\", \"software\", \"code\", \"java\", \"testing\", \"programming\", \"database\", \"aws\", \"hardware\", \"android\", \"sql\", \"server\", \"javascript\", \"sap\", \"distribute\", \"deployment\", \"stack\", \"release\", \"api\", \"backend\", \"front_end\", \"workflow\", \"custom\", \"full_stack\", \"framework\", \"oracle\", \"ui\", \"web\", \"devops\", \"technology\", \"tool\", \"knowledge\", \"requirement\", \"engineer\", \"system\", \"technical\", \"methodology\", \"engineering\", \"integration\", \"hand\", \"automation\", \"design\", \"quality\", \"develop\", \"expertise\", \"mobile\", \"investment\", \"venture\", \"fund\", \"firm\", \"investor\", \"invest\", \"acquire\", \"advisor\", \"capital\", \"raise\", \"equity\", \"vc\", \"venture_capital\", \"private_equity\", \"exit\", \"series\", \"chief\", \"prior\", \"vice_president\", \"angel\", \"accelerator\", \"fundraising\", \"fund_raise\", \"ipo\", \"board_member\", \"funding\", \"early_stage\", \"founding\", \"incubator\", \"return\", \"ceo\", \"silicon_valley\", \"company\", \"previously\", \"partner\", \"co_founder\", \"director\", \"portfolio\", \"emerge\", \"board\", \"lead\", \"startup\", \"group\", \"founder\", \"found\", \"serve\", \"include\", \"focus\", \"entrepreneur\", \"base\", \"global\", \"manage\", \"sale\", \"go_market\", \"revenue\", \"alliance\", \"apac\", \"prospect\", \"strategic_alliance\", \"market_entry\", \"selling\", \"profitability\", \"aggressive\", \"territory\", \"pivot\", \"cxo\", \"exponential\", \"oem\", \"scaling\", \"multi_million\", \"gtm\", \"minded\", \"consultative\", \"mid_size\", \"level_executive\", \"quota\", \"geo\", \"expansion\", \"mm\", \"cxos\", \"distributor\", \"various_stage\", \"tactic\", \"playbook\", \"growth\", \"semiconductor\", \"partnership\", \"strategy\", \"business\", \"dollar\", \"market\", \"execute\", \"line\", \"strategic\", \"north_america\", \"acquisition\", \"generate\", \"cross_cultural\", \"saas\", \"execution\", \"accelerate\", \"executive\", \"creation\", \"operation\", \"transformation\", \"planning\", \"channel\", \"lead\", \"consulting\", \"enterprise\", \"successful\", \"drive\", \"grow\", \"expertise\", \"scale\", \"initiative\", \"large\", \"model\", \"collaboration\", \"efficiency\", \"outcome\", \"align\", \"direction\", \"discipline\", \"driver\", \"integrity\", \"results_oriented\", \"bottom_line\", \"thought_leadership\", \"best_practice\", \"accountability\", \"reward\", \"tactical\", \"measurement\", \"savvy\", \"innovative\", \"mark\", \"translate\", \"season\", \"cultivate\", \"matrix\", \"unlock\", \"eye\", \"driving\", \"address\", \"big_picture\", \"skillset\", \"maximum\", \"foster\", \"commit\", \"innovate\", \"combine\", \"landscape\", \"change\", \"deliver\", \"deep_understande\", \"leverage\", \"drive\", \"mindset\", \"identify\", \"high\", \"increase\", \"empower\", \"performance\", \"unique\", \"leader\", \"innovation\", \"organization\", \"improve\", \"success\", \"create\", \"vision\", \"approach\", \"establish\", \"solution\", \"impact\", \"develop\", \"strategic\", \"focus\", \"opportunity\", \"industry\", \"business\", \"result\", \"leadership\", \"growth\", \"global\", \"tech\", \"www\", \"ecosystem\", \"https\", \"blockchain\", \"https_www\", \"home\", \"twitter\", \"economy\", \"pitch\", \"http\", \"startup_ecosystem\", \"get_touch\", \"edtech\", \"gaming\", \"thousand\", \"stint\", \"guy\", \"simplify\", \"flipkart\", \"worldwide\", \"https_medium\", \"fast_growe\", \"monthly\", \"please_reach\", \"shop\", \"speed\", \"half\", \"acceleration\", \"uber\", \"million\", \"small\", \"run\", \"exchange\", \"startup\", \"space\", \"entrepreneur\", \"start\", \"access\", \"scale\", \"platform\", \"facebook\", \"internet\", \"founder\", \"mentor\", \"grow\", \"sell\", \"community\", \"early\", \"build\", \"join\", \"company\", \"top\", \"large\", \"connect\", \"launch\", \"building\", \"world\", \"part\", \"create\", \"field\", \"complete\", \"train\", \"department\", \"pursue\", \"variety\", \"organize\", \"assistant\", \"intern\", \"previous\", \"operator\", \"internship\", \"clinical\", \"portal\", \"hotel\", \"technological\", \"environmental\", \"specialization\", \"progress\", \"post\", \"option\", \"water\", \"scientific\", \"well_verse\", \"chemical\", \"facility\", \"equipment\", \"update\", \"spanish\", \"finally\", \"interest\", \"full_time\", \"conduct\", \"transportation\", \"involve\", \"safety\", \"practical\", \"project\", \"directly\", \"method\", \"travel\", \"relate\", \"research\", \"activity\", \"work\", \"area\", \"major\", \"food\", \"follow\", \"year\", \"part\", \"site\", \"concept\", \"effort\", \"develop\", \"include\", \"consultant\", \"position\", \"improve\", \"provide\", \"opportunity\", \"training\", \"career\", \"sector\", \"law\", \"legal\", \"distribution\", \"europe\", \"region\", \"regional\", \"australia\", \"usa\", \"bangalore\", \"energy\", \"singapore\", \"mumbai\", \"uk\", \"assignment\", \"represent\", \"privacy\", \"health_care\", \"centre\", \"lawyer\", \"cross_border\", \"pvt_ltd\", \"keen_interest\", \"pharma\", \"south_east\", \"multinational\", \"mckinsey\", \"rural\", \"south\", \"vehicle\", \"india\", \"middle_east\", \"international\", \"country\", \"indian\", \"practice\", \"global\", \"head\", \"range\", \"asia\", \"group\", \"corporate\", \"year\", \"issue\", \"large\", \"include\", \"set\", \"industry\", \"base\", \"retail\", \"role\", \"consult\", \"general\", \"market\", \"skill\", \"ability\", \"highly\", \"analytical\", \"environment\", \"demonstrate\", \"problem_solve\", \"exceptional\", \"orient\", \"possess\", \"thinker\", \"objective\", \"proven_track\", \"record\", \"problem_solving\", \"acumen\", \"accomplish\", \"team_player\", \"proven_ability\", \"adapt\", \"team_members\", \"result_oriented\", \"capable\", \"accomplished\", \"versatile\", \"interpersonal_skill\", \"self_motivate\", \"continuous_improvement\", \"confident\", \"fast_paced\", \"development\", \"excellent\", \"adept\", \"prove\", \"expectation\", \"strength\", \"effective\", \"result\", \"organizational\", \"implement\", \"communication\", \"dynamic\", \"diverse\", \"excel\", \"background\", \"extensive\", \"execution\", \"hand\", \"strong\", \"relationship\", \"professional\", \"leadership\", \"level\", \"expertise\", \"management\", \"success\", \"develop\", \"business\"], \"Freq\": [5663.0, 7364.0, 6376.0, 6171.0, 3688.0, 3869.0, 2299.0, 2903.0, 2420.0, 1962.0, 2105.0, 1798.0, 2721.0, 1699.0, 2064.0, 1650.0, 2097.0, 1559.0, 3735.0, 2140.0, 1612.0, 2685.0, 1614.0, 1741.0, 1292.0, 1677.0, 1847.0, 1193.0, 1639.0, 1191.0, 192.92872338272565, 493.5455335229708, 135.82230805531918, 126.12498666236498, 114.272710628063, 111.0402735646635, 565.7366823535901, 104.57538923510877, 88.41319371535555, 84.10327933128215, 80.87084226788265, 78.71588252515703, 77.6384001031053, 69.01856113220282, 64.70864674812942, 64.70864674812942, 63.63116432607769, 542.0321302849862, 100.26546974965753, 46.39149148565058, 44.23653174292496, 85.18075665195605, 79.79335984583092, 38.84913238611091, 37.7716525147481, 35.61669277202248, 35.61669277202248, 33.46173047860793, 33.46173047860793, 32.38425060724512, 55.01132535517521, 55.01132535517521, 715.5063615168204, 98.11051510830977, 61.47620458335207, 844.8039256748463, 881.438266808071, 136.8997802746152, 129.35742372576448, 883.5931704356403, 308.219046662346, 80.87084226788265, 603.4484753005996, 240.3378275199336, 219.86571251472913, 178.92150290983162, 161.68181476527093, 434.2841737569723, 150.90702115302068, 133.66734321121572, 192.92872338272565, 1127.1036468705247, 181.07644734842367, 254.34506839833904, 234.95044601794203, 163.83677960937442, 219.86571251472913, 196.16116044612517, 240.3378275199336, 206.93596426113112, 269.42978149604056, 181.07644734842367, 170.30165373617342, 190.7737789441336, 159.52686012392317, 620.9649853756586, 416.80249890368896, 369.44522804926606, 367.3404623847406, 549.402865976593, 232.63530794601127, 195.80188711551557, 164.23035874503378, 135.81600057264, 129.50169272841367, 116.87308789061089, 112.66354571091003, 107.40163154959633, 102.13970653763272, 101.08732370536998, 192.64471691742756, 93.72063302888091, 75.83010860443947, 70.56818901780083, 70.56818901780083, 69.51580618553808, 211.58762959945668, 65.30626943116218, 202.11618410909202, 64.25388659889944, 54.782430257884876, 52.677664593359395, 51.62528176109666, 50.572898928833915, 50.572898928833915, 104.2444722021582, 118.97785355513636, 72.67296010765126, 88.4587188675672, 588.341074172914, 82.14441644866582, 109.5063972141218, 146.3398397459173, 256.8401564906539, 336.82131684652154, 270.5211333100695, 349.44991083367444, 362.0785265221271, 269.46872877650696, 312.61649000317874, 475.735980913002, 178.96374009801195, 151.601753907231, 190.53995125290209, 201.06380127682928, 274.7306646391205, 269.46872877650696, 161.07321024824557, 160.0208274159828, 194.74950428325283, 149.49698824270553, 858.2428719680302, 649.9152544946171, 419.82213303406206, 300.62970570653806, 255.0256768341044, 240.51529704291315, 209.42162606178906, 208.38517036241825, 181.43732217877735, 137.90618280520363, 121.32289161527078, 119.24998021652917, 99.55732192848392, 96.44796578031233, 95.41151008094153, 94.37505438157072, 91.2656818084879, 85.04694761226308, 81.93758051415067, 75.71884631792585, 75.71884631792585, 71.57302352044265, 71.57302352044265, 64.31783362484701, 62.24492222610541, 58.099099428622196, 58.099099428622196, 362.81704766878624, 56.02618802988059, 56.02618802988059, 107.84896752345034, 132.7239043083496, 97.4844105297423, 976.3987778965384, 149.30719549828245, 158.6352967926197, 1168.1431041800186, 99.55732192848392, 362.81704766878624, 324.46818679206655, 222.8955501536095, 137.90618280520363, 536.9416051630811, 170.03630948569852, 196.9841576693394, 141.01554990331604, 267.46312332667236, 315.14008549772933, 215.64036025801386, 155.52592969450728, 235.33301854605912, 214.60390455864305, 165.8904866882153, 173.14567658381094, 445.32876344628886, 196.18968538161423, 141.06103290373613, 101.83487208441576, 95.4738733169625, 70.02988350722487, 113.49670140472162, 49.88671899026433, 48.82655603573911, 44.58588843741176, 43.525722852848794, 42.46555726828583, 37.16472408539552, 33.98422470166888, 32.92405648706817, 67.90955233809893, 31.863890902505204, 128.3390353688296, 30.803722687904497, 28.683391518778567, 26.563057719614893, 77.45105048927886, 24.442726550488963, 22.32239275132529, 22.32239275132529, 21.26222585174345, 21.26222585174345, 19.14189336759865, 19.14189336759865, 18.081726468016814, 47.7663878211384, 174.98635265005296, 82.75188104213143, 214.21251346937333, 4277.830368294699, 416.7042742528246, 1518.2171871562384, 1082.4887768457643, 700.8288928791716, 881.0571737567628, 385.95946967046086, 147.42203167118942, 760.1982287356035, 536.5030826198362, 224.81417457507848, 410.34328600552226, 158.02369277689456, 229.0548474334813, 594.8122397415164, 123.03820481597701, 308.56730572626986, 213.15235577492362, 327.6503125487806, 120.9178683867756, 560.8868989548976, 415.6441375986768, 248.13783321569016, 148.48219988579012, 181.34735141750625, 188.76851839956024, 173.92619495560322, 544.1757081354857, 524.4693538723897, 366.8183574641971, 333.97437282858635, 186.1765941277978, 154.42742723917593, 391.99871931052564, 111.73028575994512, 110.63547815692021, 109.54068069785933, 86.54991376965258, 70.1279366677932, 56.99035194311647, 56.99035194311647, 54.800751953012686, 366.8183574641971, 48.23196212666533, 99.68749342234729, 94.21350612704283, 142.3846450455421, 42.75796975937887, 41.66316976432697, 69.03313413675029, 96.40310104516462, 28.525585039650263, 28.525585039650263, 28.525585039650263, 26.335987585537477, 26.335987585537477, 25.241190126476585, 108.44588323879843, 96.40310104516462, 47.13716466760444, 79.98112394330522, 37.2839773920924, 87.64471122871348, 194.93497380028498, 2022.153779174363, 578.1144496543014, 211.35695597412635, 613.148008920106, 656.9399884342537, 608.7688190838625, 128.1522577898225, 1008.3703176875763, 454.4022353407806, 874.8049059545793, 372.2923244715736, 572.640482646925, 304.4148211460142, 183.98699920967604, 271.5708770862595, 330.68998045140364, 395.28309139978035, 522.2797589542679, 203.6933737607001, 223.39974831172418, 265.0020923318941, 233.2529254432722, 238.7269127385767, 187.27139158685873, 187.27139158685873, 1961.5875222983361, 3685.042815829896, 1190.4319714020594, 803.3014768298273, 700.8257890513413, 393.3986026372412, 342.6783249516604, 316.8006096486543, 305.4144198384773, 243.30793182961247, 176.02590486276785, 173.9556810743331, 157.39396256272983, 606.6309143741661, 124.27049476986267, 123.2353828756453, 114.95451849156689, 112.88430495968566, 108.74386763936971, 203.97382344110167, 80.7959490610359, 68.37465248491829, 67.3395405907009, 62.164001632721096, 62.164001632721096, 56.988462674741285, 55.95335078052391, 54.9182440145833, 53.88313724864269, 51.812918588484706, 139.79712190035562, 84.9363812530751, 438.9433618779492, 537.2786841319938, 220.53555220925847, 138.76201000613827, 166.70992858447207, 438.9433618779492, 203.97382344110167, 138.76201000613827, 516.5764872738605, 328.1867994588313, 205.00893533531902, 208.11427101797113, 191.5525217367073, 692.8207512924057, 644.9722054353953, 304.831865835195, 208.09471203396308, 181.049905902038, 99.91551352689676, 85.35292694409782, 79.11181716953475, 133.20142075984023, 60.38849651939021, 58.30812948571741, 267.3852245349059, 39.58480449880053, 75.99126661902555, 35.4240660946826, 35.4240660946826, 33.34369689262363, 25.022217916001594, 25.022217916001594, 23.982034399165194, 23.982034399165194, 23.982034399165194, 22.94184871394263, 21.901665197106226, 21.901665197106226, 64.54923492350814, 38.54462098196413, 17.74092570879521, 17.74092570879521, 17.74092570879521, 261.1441234338875, 33.34369689262363, 258.0235728833783, 106.15662330145982, 928.9426004322512, 384.9260833670445, 1547.8524694863934, 32.303511207401066, 1146.3412503515776, 429.6540266322777, 326.6757370358487, 103.03606407740595, 199.77324389927185, 1044.403092230717, 571.1191236987428, 2371.6787862578253, 126.96031098527716, 433.8147606996233, 615.8470669639761, 292.3496636331582, 330.83647110319436, 844.6876488330562, 322.5150029685031, 177.92935535152878, 134.24160427667664, 156.08548415087503, 1558.5973106533124, 576.4906529436031, 535.1616971078248, 463.379843042677, 443.80296300185677, 381.80950953925935, 351.3565718920302, 316.55324273652525, 747.2445247988509, 213.2308531470794, 238.24576199110408, 108.82085582609963, 101.20762141429235, 92.5067891254161, 88.15636805374552, 85.9811624451427, 82.71834910500598, 78.36793296056787, 69.66709574445917, 64.22907679571964, 60.96626345558293, 60.96626345558293, 60.96626345558293, 58.79105291974764, 51.17782343517282, 50.09022063087141, 47.91501009503611, 47.91501009503611, 95.76960246555281, 46.8274072907347, 785.3106672944925, 165.37627063102764, 112.08366916623633, 97.94480807415563, 79.45553576486928, 608.0312081768311, 354.6193852321669, 953.8893433956024, 170.81429943423208, 398.1235762399429, 304.58960696197727, 435.10210114958574, 365.49544283857585, 303.5020090849083, 163.2010650224248, 320.90367366266076, 142.53658710453564, 195.82918856932693, 180.6027394546422, 199.09200190946362, 169.72668184823328, 146.8869983217413, 5662.87274091511, 860.0854116581037, 165.48942160271446, 145.3408304004113, 99.74140187470984, 94.43913577427841, 81.71371711257926, 64.74648557053496, 198.3634414563849, 62.6255791303624, 53.08151513408803, 52.02106191400174, 52.02106191400174, 50.960608693915454, 47.77925402849067, 43.5374461429796, 41.41654220022406, 40.35608898013777, 38.23518503738224, 32.93292393178488, 32.93292393178488, 28.691116046273805, 28.691116046273805, 26.570212103518266, 24.44930816076273, 24.44930816076273, 46.71880080840438, 22.328404218007194, 20.207501523960172, 20.207501523960172, 39.29563825746852, 1982.0436598112085, 605.5769585067754, 45.6583475883181, 167.610328042887, 224.87472201020137, 102.92275154530056, 1285.3266434396292, 932.1961906652984, 290.62274173820595, 77.47190922706818, 573.7634218421957, 267.29281085498025, 72.16964812147083, 337.28260350465746, 124.13179596769, 588.6097469440674, 146.4012836204976, 213.2097665582566, 251.38602254335407, 107.16456442564571, 88.07642644342884, 127.31314563828072, 229.1165348905465, 237.60016065123676, 203.6656975671482, 318.19448550177685, 178.2148402644136, 130.49450529853956, 184.57755958493132, 128.37359885836702, 127.31314563828072, 135.79676140930286, 835.1308621470198, 366.33749219614117, 340.70868146730925, 1189.6624775649475, 269.1616580903214, 245.66859490543786, 197.61461473851506, 300.1297577797501, 132.47476408150743, 120.72823248906565, 112.18530223772785, 104.71023577095497, 102.5744982144159, 98.303033088747, 200.81821607961905, 92.96370417851318, 91.89584039394828, 80.14930880150649, 64.13131208339581, 64.13131208339581, 64.13131208339581, 61.995579520561364, 60.92771074229182, 58.791978179457374, 53.45264926922356, 45.977582802450684, 41.70611767678179, 40.63825139536456, 39.57038511394734, 38.5025163356778, 82.28504136434094, 61.995579520561364, 60.92771074229182, 208.29327255898266, 89.76010283740919, 1283.6347303044818, 152.76421593787776, 490.20997085312996, 777.466038007148, 137.81409299174123, 150.62848836874792, 431.4773328657395, 352.4552330345696, 153.8320897098519, 1479.054292262914, 168.7822226433977, 530.7888945406891, 169.85007644055335, 169.85007644055335, 243.53286733630802, 196.5467409665409, 594.8608814131318, 417.59507370416793, 189.07168448717727, 212.56474767206083, 207.22539878700852, 183.73235557694346, 176.25727912276133, 158.1035548355208, 159.17141862008572, 501.6993652769522, 853.6745977858272, 397.44866470358255, 280.8117196307621, 1691.8090367373354, 192.0438097628096, 184.818508759739, 169.33573794618343, 164.1748043957341, 144.56328873100523, 136.30579902865864, 129.08050797151887, 129.08050797151887, 117.72647206320579, 111.53335975941124, 98.1149464525461, 95.01839030064883, 88.82527799685428, 87.79309924350906, 81.59998196674911, 79.53561451412786, 78.50342581485184, 70.24594605843603, 67.14938990653876, 66.11720120726274, 66.11720120726274, 132.17706412341613, 185.85069745901504, 58.89190517715756, 55.795349025260286, 834.0630522833059, 80.56779824043848, 525.4396257928544, 430.4785837292457, 510.9890635704365, 189.97943236425752, 582.209845118143, 660.6559077770585, 514.0855898845414, 102.24369130371942, 437.70390462417794, 157.98169209193955, 194.10818716136163, 170.36792664545948, 437.70390462417794, 206.49439187708913, 309.7129236430444, 185.85069745901504, 135.27362027531342, 900.4095212279743, 608.6289023760805, 545.0624394201242, 508.5898354854381, 427.30808832115116, 408.55076859479556, 330.3952342973814, 274.12325385575514, 463.7806922558373, 175.1262756395365, 174.08419759639239, 167.83176123136712, 311.6379145710258, 229.31411062615436, 109.4756353347324, 108.43355729158831, 107.39148987972398, 294.9647296683989, 92.80245043210547, 85.50793602393611, 84.46586329643189, 80.29756707077516, 79.25549434327095, 74.04512539011, 71.96097993510159, 68.83475643694906, 191.79944991088365, 56.32987307561875, 54.24572762061033, 54.24572762061033, 380.4147890052622, 93.84452847524958, 1049.4261285710322, 281.41777889520426, 492.9587498885148, 257.45009021568774, 294.9647296683989, 291.83851680152617, 137.61162555554554, 172.00005214138397, 661.7746699508341, 508.5898354854381, 249.11350839565404, 253.2817993056709, 182.42079004770585, 195.9677408209005, 291.83851680152617, 280.37570085206016, 210.55679089979878, 205.34642194663783, 208.47263481351058, 193.88360599717186, 2297.8403878240897, 223.90163320362612, 556.0233248928882, 92.71875421382109, 59.402472689526135, 50.03226935048596, 47.950000747616194, 40.6620633245089, 36.49752880570625, 111.45917163964896, 25.045054176859434, 24.00391987542455, 21.92165127255479, 21.92165127255479, 20.880518314588347, 19.839384013153463, 19.839384013153463, 39.62092902307402, 72.93721323430584, 17.75711675375214, 35.45639450427137, 14.633715192915934, 14.633715192915934, 13.592580891481052, 13.592580891481052, 104.17123152960478, 25.045054176859434, 11.510313632079729, 11.510313632079729, 11.510313632079729, 22.96278557398967, 11.510313632079729, 1373.3133860958549, 39.62092902307402, 460.23901215186913, 2199.9738064802004, 5193.2335258983085, 57.320204086656375, 1092.2072536814069, 178.09173468823883, 121.87050390625025, 679.918242277154, 44.82659784331155, 186.42079835197038, 106.25350013247454, 35.45639450427137, 207.243484380668, 198.91440996918897, 63.56700989526566, 270.75263377720574, 87.51308808052043, 345.7142604895272, 174.9683317839342, 222.86049890219124, 145.816582091505, 501.88434121827436, 164.5569887695854, 239.51862622965433, 168.7215259753249, 314.4802529419758, 173.9271974824993, 160.39246231159336, 146.8577163929399, 129.15844401629442, 126.03504111198978, 120.82936960481537, 208.37168279553774, 131.84867496477796, 130.78585334576036, 109.52946346212475, 104.21536599121585, 74.4564190917081, 64.89104045681837, 61.70258091185514, 50.01156435101976, 45.760288499128436, 45.760288499128436, 44.69746688011085, 40.44619102821953, 39.383372065246704, 39.383372065246704, 38.32055044622912, 37.257731483256286, 552.7252074097778, 36.19491252028346, 71.26795954674486, 71.26795954674486, 30.88081239332981, 29.817993430356978, 29.817993430356978, 28.755174467384148, 28.755174467384148, 86.14743034045398, 25.566714922420907, 25.566714922420907, 25.566714922420907, 74.4564190917081, 90.3987061923453, 54.26284551500058, 152.04224322939598, 54.26284551500058, 592.0495435683542, 620.7456635367549, 50.01156435101976, 273.2036528171041, 1226.5527964687278, 84.02179241450833, 229.62807267917333, 672.8238166268263, 240.25626762099114, 140.35122666856057, 387.9881751874228, 149.9166106155398, 698.3314929865322, 550.5995641717426, 535.7201040022125, 267.88958721873223, 319.9677190604457, 588.8610574629434, 200.93195271077266, 211.56014765259047, 166.9217140231051, 543.1598340869775, 266.82676559971463, 415.6214947851639, 341.22410894408125, 368.85742854182234, 251.94728418182652, 308.2767024996103, 420.9355816318938, 191.36655813961445, 225.37678620310302, 231.7537159172085, 182.8640064358318, 1291.7964231527312, 239.9076038170642, 234.52986340901356, 196.88557837718534, 177.52565568993774, 173.22345518945932, 133.4280699073919, 99.01043525092246, 71.04611667149172, 69.97056654637211, 63.5172606868808, 62.441705452987506, 57.063954827389495, 54.9128494683766, 45.23289323352649, 45.23289323352649, 44.157343108406884, 43.08179298328728, 40.93069017866123, 40.93069017866123, 79.65052278122222, 38.77958737403518, 36.62848456940913, 35.55293444428953, 35.55293444428953, 35.55293444428953, 34.47738431916993, 32.32627896015703, 30.175178709917827, 58.1395049525091, 64.59281081200041, 231.3032028161074, 310.8939529451475, 58.1395049525091, 1555.3063979404342, 381.8803020732308, 714.2255257387777, 744.3409701123161, 153.8635325022117, 516.3241801062023, 690.5634025510517, 95.78378487556364, 310.8939529451475, 413.0712863543414, 253.88976566116642, 452.86667163640885, 189.35671728380072, 337.78271629068496, 150.6368821268529, 779.8341140237156, 150.6368821268529, 539.9863032939284, 242.0587040673034, 285.08072950718224, 201.18777887766373, 218.39658087957739, 260.343066411884, 281.85406891427607, 191.50781753403993, 229.15210256586818, 414.69463741106796, 246.86672822857483, 211.76545433436866, 171.17961771902878, 147.0474994666527, 143.7567537807558, 127.30303541779197, 102.07399858127664, 73.5542210921248, 71.36039399036714, 69.16656185534903, 62.5850755168156, 59.294329830918656, 57.100502729161, 53.80975704326406, 52.712843492385225, 51.6159299415064, 50.51901639062757, 49.42209780648829, 142.6598452631374, 45.03443856971251, 45.03443856971251, 43.93752501883368, 43.93752501883368, 43.93752501883368, 41.74369791707603, 38.45295223117908, 38.45295223117908, 37.35603868030026, 36.25912512942143, 410.30700334059446, 91.10485300596743, 103.17091716541591, 63.68198906769443, 331.32914714515147, 61.48816196593677, 86.71719880245212, 863.3326974811268, 64.77890261857326, 95.49251727600365, 265.5142736932963, 207.37780013085333, 833.716026574138, 190.92409183441043, 2799.3870425210143, 438.82678586300676, 193.11790886964718, 156.91973652434356, 192.0210003520288, 1188.019470936013, 319.2630729191821, 109.75239847068889, 131.69069968782821, 122.91538121427666, 386.17485488865566, 425.66380311941896, 188.73025466613188, 152.53207225430734, 170.0827092014104, 166.79196351551346, 147.0474994666527, 137.1752724754828, 137.1752724754828, 550.8883575454931, 264.58849706924167, 262.4113136295462, 172.05811804521133, 147.0204877794702, 136.13456022637124, 133.95737678667575, 129.6030099072848, 125.24863267327227, 116.53989891449035, 214.5132365377594, 103.47677756707435, 101.29959412737887, 185.12122903800577, 81.70492763818721, 80.61633591833947, 72.99618870209453, 67.55322492554504, 66.4646332056973, 65.37604148584957, 62.11026114899556, 57.75588909229382, 52.312925315744344, 52.312925315744344, 51.2243335958966, 51.2243335958966, 50.13574187604886, 49.04715015620113, 49.04715015620113, 44.692778099499385, 1741.8087138118333, 65.37604148584957, 680.4308861082113, 289.62611698036125, 291.80330042005676, 323.3724913595059, 907.9467315849555, 308.1321865723944, 200.36153382511725, 161.17219049211238, 333.1698271927571, 391.9538214830213, 889.4407034114085, 142.66612090007922, 300.51203417883863, 451.8264385569979, 211.24745102359464, 428.96596066708753, 303.77781969300344, 207.981686218673, 191.6527793570922, 152.46345673333045, 138.31174366606672, 143.75471261992698, 1649.8140770303817, 617.9324661858876, 351.3368992844616, 298.017805855425, 598.0684843345068, 217.51641307134147, 206.0162141021867, 160.01541822556752, 143.28785246111536, 119.24197916862144, 114.01461237332407, 222.74377986663885, 107.74178019946666, 327.291035967592, 97.2870466088719, 88.92326372664581, 79.51401047804755, 75.3321190369345, 68.01381150889276, 58.60455826029449, 55.46813718555363, 52.331721098624925, 51.28624574444059, 50.240775378068406, 48.14982965751188, 42.922467850026656, 41.87699249584232, 40.83151963556406, 40.83151963556406, 38.74057640891362, 71.15023258363361, 189.28864833773451, 91.0142144350145, 257.2443767741032, 52.331721098624925, 150.6061599891571, 226.9256613321276, 430.7928266899851, 197.6524312199606, 265.6081596563293, 592.8410975879608, 187.19769762936585, 264.56269427776925, 119.24197916862144, 258.28986210391184, 252.01700997880585, 250.9715446002458, 219.60736377971014, 465.29344354869806, 294.8813897684963, 498.7485750776024, 375.38278255257984, 254.1079606871745, 296.97232052561634, 453.7932246282947, 221.69831448807884, 245.74417780494844, 269.79004112181804], \"Total\": [5663.0, 7364.0, 6376.0, 6171.0, 3688.0, 3869.0, 2299.0, 2903.0, 2420.0, 1962.0, 2105.0, 1798.0, 2721.0, 1699.0, 2064.0, 1650.0, 2097.0, 1559.0, 3735.0, 2140.0, 1612.0, 2685.0, 1614.0, 1741.0, 1292.0, 1677.0, 1847.0, 1193.0, 1639.0, 1191.0, 193.92982135413482, 496.66740949972984, 136.82340602672835, 127.1260846337742, 115.27380859947222, 112.04137153607272, 570.92481610436, 105.576487206518, 89.41429168676477, 85.10437730269138, 81.87194023929187, 79.71698049656625, 78.63949807451452, 70.01965910361204, 65.70974471953865, 65.70974471953865, 64.6322622974869, 551.290710135063, 102.3541720266343, 47.39258945705978, 45.237629714334155, 87.24467425553686, 81.82664312188452, 39.850230357520104, 38.77275048615729, 36.61779074343168, 36.61779074343168, 34.46282845001713, 34.46282845001713, 33.385348578654316, 57.0488790152619, 57.05789611379901, 795.8673539926737, 104.36543156225439, 64.55767175682026, 1052.7408482814835, 1117.7148024521641, 153.77831548502067, 144.99514049898718, 1206.2023986723389, 406.64697429012216, 88.4034958266965, 1029.6982946434364, 339.2233111062166, 321.2321913612388, 246.26844052808204, 216.01700397622716, 834.1600701476092, 203.51738464317663, 181.83577218774877, 327.60755181570045, 6376.491515588019, 306.8845885892248, 575.8543057352754, 507.4651375123153, 274.2095985749284, 501.5431084553981, 439.7485118297731, 760.4658564335028, 594.6337965867092, 1520.6918562723401, 693.0092652619636, 537.2213877689314, 1169.1615467259205, 1553.3901765282633, 621.967477557386, 417.8049910854164, 370.4477202309935, 368.34295456646805, 551.4732246006677, 233.6378001277387, 196.804379297243, 165.23285092676122, 136.81849275436744, 130.5041849101411, 117.87558007233835, 113.66603789263749, 108.40412373132379, 103.14219871936018, 102.08981588709744, 194.67939440379936, 94.72312521060837, 76.83260078616694, 71.5706811995283, 71.5706811995283, 70.51829836726554, 214.7797190322195, 66.30876161288964, 205.22933552752787, 65.2563787806269, 55.784922439612316, 53.680156775086836, 52.6277739428241, 51.575391110561355, 51.575391110561355, 107.44079371718654, 123.11676401083125, 74.76404499008417, 91.63641962193576, 673.1873348302055, 86.33063227360917, 120.16891134172644, 174.43624641533307, 355.79757507585464, 538.9256049750968, 426.7926103800406, 620.4237221686798, 655.372894303622, 466.3810687973418, 651.3419456448522, 1295.4168134679724, 274.6230315155191, 205.4634861473512, 326.78671163953794, 367.8991992733967, 976.5031515663279, 980.2375557184563, 283.998082573126, 455.930156284316, 1760.7771380355082, 831.9119628706817, 859.2462490522751, 650.918631578862, 420.82551011830697, 301.63308279078296, 256.02905391834923, 241.518674127158, 210.4250031460339, 209.3885474466631, 182.4406992630222, 138.90955988944847, 122.32626869951565, 120.25335730077404, 100.56069901272879, 97.4513428645572, 96.4148871651864, 95.3784314658156, 92.26905889273277, 86.05032469650796, 82.94095759839554, 76.72222340217073, 76.72222340217073, 72.57640060468752, 72.57640060468752, 65.32121070909189, 63.24829931035026, 59.10247651286705, 59.10247651286705, 369.2685348798952, 57.02956511412545, 57.02956511412545, 109.94925928909153, 136.99666167420597, 100.57005545590802, 1169.1615467259205, 162.37663346839037, 176.06065331163754, 1741.7261417679406, 105.99872000165051, 537.2213877689314, 473.27308950168657, 328.2273705011833, 169.3901553170742, 1295.4168134679724, 244.37423851298902, 337.7282688273819, 201.1742292344507, 804.919847257478, 1206.2023986723389, 594.6337965867092, 296.60167433331156, 1117.7148024521641, 843.3463767914456, 367.8991992733967, 1520.6918562723401, 446.33082327021754, 197.19174520554284, 142.06309272766475, 102.8369319083444, 96.47593314089113, 71.0319433311535, 115.55921319027249, 50.88877881419293, 49.828615859667714, 45.587948261340365, 44.5277826767774, 43.46761709221443, 38.166783909324124, 34.98628452559748, 33.926116310996775, 70.00641076525626, 32.86595072643381, 132.4603509139562, 31.80578251183311, 29.685451342707182, 27.565117543543508, 80.59845652728117, 25.44478637441758, 23.324452575253904, 23.324452575253904, 22.264285675672067, 22.264285675672067, 20.143953191527267, 20.143953191527267, 19.08378629194543, 50.89408673821983, 189.50024129718207, 89.17019075248793, 253.98461875226718, 6171.998987230703, 522.5412634696978, 2097.084916889093, 1512.267190094583, 976.5031515663279, 1277.281502837224, 524.7162965778144, 183.6774645770252, 1283.0546614917216, 891.7213991875582, 327.22709062829193, 771.7600915035994, 251.16658449132316, 416.4103530942723, 1553.3901765282633, 181.21814787499395, 712.5991992193386, 495.99345484915267, 1099.6330345441056, 187.21918461090792, 3869.2496452500764, 2140.140082409577, 857.2606879970975, 298.2243063725858, 619.8362499864065, 1760.7771380355082, 1678.3228424452172, 545.1758439498581, 525.469489686762, 367.8184932785695, 334.97450864295877, 187.1767299421701, 155.42756305354823, 395.07922432695705, 112.73042157431745, 111.63561397129254, 110.54081651223166, 87.5500495840249, 71.12807248216552, 57.99048775748878, 57.99048775748878, 55.80088776738499, 374.15954764210244, 49.23209794103764, 101.75549567906677, 96.24875022981294, 145.52051366170542, 43.75810557375117, 42.66330557869928, 71.1088208994333, 99.51152927892315, 29.525720854022577, 29.525720854022577, 29.525720854022577, 27.33612339990979, 27.33612339990979, 26.2413259408489, 113.75593780131348, 102.79063516020636, 50.28840235365291, 89.58378420752234, 39.38102788786102, 103.52432016602167, 258.05683361279785, 3869.2496452500764, 907.8212202310659, 291.37920590341946, 1150.8615872102043, 1259.6427320604137, 1308.0414023551223, 170.68137391838238, 2721.2820913607297, 967.0127932801583, 2685.8652155581685, 804.919847257478, 1741.7261417679406, 694.7407235894402, 305.831089377028, 597.4756012391243, 863.7650951167357, 1277.281502837224, 3735.637004088044, 490.53443164174075, 637.622170624327, 988.9567212632513, 891.7213991875582, 1029.6982946434364, 452.6058291976444, 468.42797654113394, 1962.590974244386, 3688.1285356178655, 1191.4354233481092, 804.3049287758771, 701.8292409973911, 394.4020545832911, 343.6817768977103, 317.8040615947042, 306.41787178452716, 244.31138377566228, 177.02935680881765, 174.95913302038292, 158.39741450877963, 610.9187622983077, 125.27394671591247, 124.23883482169511, 115.9579704376167, 113.88775690573547, 109.74731958541952, 206.03744179360123, 81.7994010070857, 69.3781044309681, 68.34299253675071, 63.16745357877089, 63.16745357877089, 57.99191462079108, 56.956802726573706, 55.921695960633095, 54.88658919469248, 52.8163705345345, 142.9777591568089, 87.01538414743558, 492.60222250990836, 628.1927933381737, 244.14693605176615, 166.07506012379892, 220.35482977557928, 1032.7298295912597, 350.73601670687333, 204.79313580483458, 2903.0600233009795, 1753.011061639602, 558.8632913367707, 795.002216284285, 701.4551170176788, 693.8239212166354, 645.975375359625, 305.83503575942484, 209.09788195819283, 182.05307582626776, 100.91868345112653, 86.35609686832758, 80.11498709376451, 135.27245712641715, 61.39166644361994, 59.31129940994714, 273.5897181842421, 40.58797442303026, 78.08204084882287, 36.42723601891233, 36.42723601891233, 34.346866816853364, 26.025387840231335, 26.025387840231335, 24.985204323394935, 24.985204323394935, 24.985204323394935, 23.94501863817237, 22.904835121335967, 22.904835121335967, 67.62262134440412, 40.62334185450454, 18.74409563302495, 18.74409563302495, 18.74409563302495, 279.31963653218395, 35.43545951755881, 283.7991891720728, 116.94823159085755, 1134.5876622125331, 453.88498297946694, 2105.855288720753, 34.40147973485951, 1612.5797820038051, 578.5202281076444, 444.49352907479664, 126.20236179714101, 265.67446953141587, 1847.7942606742583, 1010.8463343905714, 6376.491515588019, 180.94674648367877, 1099.6330345441056, 1892.331898068934, 655.372894303622, 913.9921425172615, 6171.998987230703, 2140.140082409577, 597.4756012391243, 326.78671163953794, 1220.8961604439176, 1559.5978461516509, 577.4911884419414, 536.1622326061631, 464.3803785410155, 444.80349850019525, 382.81004503759783, 352.3571073903687, 317.5537782348637, 750.3749240720738, 214.2313886454178, 240.28743136579556, 109.82139132443805, 102.20815691263077, 93.50732462375453, 89.15690355208395, 86.98169794348112, 83.7188846033444, 79.36846845890629, 70.6676312427976, 65.22961229405806, 61.96679895392133, 61.96679895392133, 61.96679895392133, 59.791588418086036, 52.17835893351121, 51.0907561292098, 48.9155455933745, 48.9155455933745, 97.81032263268278, 47.82794278907309, 802.2179824317861, 170.58634176582834, 115.18852679559942, 101.10030305616533, 84.65867200021674, 878.1851843999068, 473.75505917609973, 1678.3228424452172, 215.28938312540635, 653.4210500195007, 529.9447073840125, 1096.701200796677, 973.5594524484269, 829.6386816806006, 281.8476694395717, 1137.302278373352, 233.59154193063523, 482.8202305405171, 407.4693952949262, 538.9256049750968, 385.7343596253473, 578.5202281076444, 5663.874784873236, 861.08745561623, 166.4914655608409, 146.34287435853776, 100.7434458328363, 95.44117973240488, 82.71576107070572, 65.74852952866142, 201.52044489818263, 63.627623088488825, 54.08355909221446, 53.02310587212817, 53.02310587212817, 51.96265265204188, 48.7812979866171, 44.539490101106026, 42.418586158350486, 41.3581329382642, 39.237228995508666, 33.934967889911306, 33.934967889911306, 29.693160004400248, 29.693160004400248, 27.57225606164471, 25.451352118889172, 25.451352118889172, 48.80844907209837, 23.330448176133636, 21.209545482086614, 21.209545482086614, 41.386274916300394, 2420.692264765207, 741.7952791119096, 50.9116697275626, 217.50207451546027, 332.1918485489841, 149.4984149428947, 3869.2496452500764, 2721.2820913607297, 622.4040681667241, 107.09844657028155, 2097.084916889093, 701.4551170176788, 100.35398271084385, 1099.6330345441056, 232.4811112057488, 2685.8652155581685, 324.0882297479436, 694.7407235894402, 967.0127932801583, 223.92884766622748, 153.72725716347367, 332.3452485644861, 1220.8961604439176, 1520.6918562723401, 1134.5876622125331, 3735.637004088044, 1029.6982946434364, 456.9966572064141, 2903.0600233009795, 558.8632913367707, 795.002216284285, 1677.714968476705, 836.1324941963238, 367.33912424544536, 341.71031351661344, 1193.8212614012027, 270.1632901396256, 246.670226954742, 198.6162467878192, 302.17252370540734, 133.47639613081157, 121.7298645383698, 113.186934287032, 105.71186782025912, 103.57613026372005, 99.30466513805115, 202.90745243449075, 93.96533622781733, 92.89747244325243, 81.15094085081064, 65.13294413269996, 65.13294413269996, 65.13294413269996, 62.99721156986548, 61.929342791595936, 59.79361022876149, 54.45428131852768, 46.9792148517548, 42.7077497260859, 41.639883444668676, 40.57201716325145, 39.50414838498191, 85.47627066468047, 64.0920101730942, 62.981726794754, 229.09430468780576, 100.14039772436541, 2140.140082409577, 190.23843031150784, 829.6386816806006, 1553.3901765282633, 184.2318782559976, 210.01038468239474, 958.7998181030888, 760.4658564335028, 236.1154738912822, 7364.917584613837, 275.30296328080163, 1892.331898068934, 292.1297041535858, 304.62984711262817, 651.3403572377572, 460.9374039115035, 6171.998987230703, 3735.637004088044, 447.11975914650407, 795.002216284285, 1760.7771380355082, 1753.011061639602, 1283.0546614917216, 450.88581070455797, 909.6092978660777, 502.7029796062669, 855.7305961182999, 398.45227903289725, 281.8153339600768, 1699.150535911336, 193.04742409212426, 185.82212308905366, 170.3393522754981, 165.17841872504877, 145.5669030603199, 137.3094133579733, 130.08412230083354, 130.08412230083354, 118.73008639252048, 112.53697408872593, 99.1185607818608, 96.02200462996352, 89.82889232616897, 88.79671357282375, 82.6035962960638, 80.53922884344254, 79.50704014416652, 71.24956038775072, 68.15300423585344, 67.12081553657742, 67.12081553657742, 134.2157867411286, 188.98308915782673, 59.89551950647222, 56.798963354574944, 882.799177294227, 82.6318645313754, 639.5540847061924, 529.447000488914, 693.0092652619636, 224.81720686002927, 913.9921425172615, 1096.701200796677, 857.2606879970975, 110.78966367642914, 1010.8463343905714, 260.24987578786045, 414.6610834496863, 321.5511166692795, 2420.692264765207, 495.99345484915267, 1358.0789984011753, 909.6092978660777, 741.7952791119096, 901.4125862038014, 609.6319673519076, 546.0655043959513, 509.59290046126523, 428.3111532969783, 409.5538335706227, 331.3982992732086, 275.1263188315823, 465.8442091932867, 176.12934061536365, 175.08726257221954, 168.83482620719428, 313.7037991790246, 231.41197420521024, 110.47870031055956, 109.43662226741547, 108.39455485555114, 298.0500624861469, 93.80551540793263, 86.51100099976327, 85.46892827225905, 81.30063204660232, 80.25855931909811, 75.04819036593716, 72.96404491092875, 69.83782141277622, 194.88010445174137, 57.33293805144589, 55.248792596437475, 55.248792596437475, 387.87115922692914, 95.8999774542348, 1639.289038287317, 367.66394304059264, 844.3676700083855, 369.2348992055615, 455.930156284316, 450.88581070455797, 172.62491959606564, 266.66528437019923, 2685.8652155581685, 2064.83954557096, 583.2259231936622, 667.2963978051006, 368.9943609124341, 466.3810687973418, 1760.7771380355082, 1847.7942606742583, 925.7256287836648, 973.5594524484269, 1385.5398936157717, 1512.267190094583, 2299.9383036131553, 224.90475038946323, 560.2303114310054, 93.72187139965821, 60.40558987536324, 51.03538653632307, 48.9531179334533, 41.665180510346005, 37.50064599154336, 114.59802162727709, 26.048171362696543, 25.00703706126166, 22.9247684583919, 22.9247684583919, 21.883635500425456, 20.842501198990572, 20.842501198990572, 41.6562315135555, 77.04565512507764, 18.76023393958925, 37.49461997850625, 15.636832378753045, 15.636832378753045, 14.595698077318163, 14.595698077318163, 112.76607070929629, 27.145086044092857, 12.51343081791684, 12.51343081791684, 12.51343081791684, 25.02606916627654, 12.51343081791684, 1614.3252907483525, 43.720601996577535, 559.4960549913446, 2903.0600233009795, 7364.917584613837, 67.70198411014556, 1753.011061639602, 242.9549297110025, 169.54838391597573, 1280.2278065533944, 55.208377866800724, 317.5716800529295, 161.0822485553839, 41.76177099093181, 456.9966572064141, 456.30625240538114, 93.61000283516213, 863.7650951167357, 152.92772969799634, 1283.0546614917216, 445.71321542343424, 651.3403572377572, 350.73601670687333, 2685.8652155581685, 447.11975914650407, 878.1851843999068, 490.53443164174075, 1677.714968476705, 843.3463767914456, 909.6092978660777, 707.9100127759389, 490.749532598197, 827.7967419751591, 529.9447073840125, 209.37359522351315, 132.85058739275337, 131.78776577373577, 110.53137589010016, 105.21727841919126, 75.45833151968351, 65.89295288479379, 62.70449333983054, 51.01347677899516, 46.76220092710384, 46.76220092710384, 45.69937930808626, 41.448103456194936, 40.38528449322211, 40.38528449322211, 39.322462874204525, 38.25964391123169, 567.7092810682038, 37.196824948258865, 73.30205727936465, 73.3473517464468, 31.882724821305217, 30.819905858332387, 30.819905858332387, 29.757086895359556, 29.757086895359556, 89.28507557022041, 26.568627350396316, 26.568627350396316, 26.568627350396316, 77.5312428221854, 94.66343153702338, 57.337669245477876, 167.79274211594287, 57.4050293334193, 698.8303902296884, 755.6174116177795, 53.13438079003945, 329.6733872926411, 1677.714968476705, 93.31534982793197, 283.63830534744807, 988.9567212632513, 309.5753265223144, 179.4474638209202, 619.8362499864065, 196.41815470539666, 1308.0414023551223, 980.2375557184563, 1150.8615872102043, 478.15674045650474, 633.7841770008188, 1520.6918562723401, 332.3452485644861, 364.4503551237285, 265.7902114002929, 1678.3228424452172, 620.4237221686798, 1358.0789984011753, 1280.2278065533944, 1847.7942606742583, 834.1600701476092, 1892.331898068934, 7364.917584613837, 625.223548331963, 1259.6427320604137, 1614.3252907483525, 1385.5398936157717, 1292.7976282796126, 240.9088089439456, 235.53106853589495, 197.88678350406673, 178.52686081681912, 174.2246603163407, 134.42927503427327, 100.01164037780386, 72.04732179837312, 70.97177167325351, 64.5184658137622, 63.4429105798689, 58.06515995427089, 55.914054595257994, 46.234098360407884, 46.234098360407884, 45.15854823528828, 44.082998110168674, 41.931895305542625, 41.931895305542625, 81.6928617844567, 39.780792500916576, 37.62968969629053, 36.55413957117092, 36.55413957117092, 36.55413957117092, 35.47858944605132, 33.32748408703843, 31.17638383679922, 60.17289538403487, 67.7149199499261, 252.4529954674551, 356.21226199019986, 61.3159186520316, 2064.83954557096, 459.55380238163826, 925.7256287836648, 994.9788930238835, 178.2843682850715, 707.9100127759389, 1137.302278373352, 112.31161320660111, 471.7015054341235, 667.2963978051006, 377.40481527591754, 843.3463767914456, 277.8131697194194, 651.3419456448522, 222.4981626283874, 2721.2820913607297, 236.20070970722378, 1639.289038287317, 502.3326379759289, 827.7967419751591, 439.7485118297731, 622.4040681667241, 967.0127932801583, 1295.4168134679724, 633.5778139053278, 1520.6918562723401, 415.69465566908156, 247.86674648658834, 212.76547259238217, 172.1796359770423, 148.04751772466622, 144.7567720387693, 128.3030536758055, 103.0740168392902, 74.55423935013836, 72.3604122483807, 70.16658011336258, 63.58509377482914, 60.294348088932196, 58.10052098717454, 54.8097753012776, 53.712861750398766, 52.61594819951994, 51.51903464864111, 50.42211606450183, 145.79052993046992, 46.03445682772605, 46.03445682772605, 44.93754327684722, 44.93754327684722, 44.93754327684722, 42.74371617508957, 39.45297048919262, 39.45297048919262, 38.3560569383138, 37.25914338743497, 430.4445044667435, 94.20787556494413, 107.37453450663772, 65.74987376805514, 355.09364831643785, 63.52931410030338, 91.00161303855745, 1059.2851833804748, 67.90455996973964, 105.19336924717157, 328.70163330403983, 250.83293308943928, 1220.8961604439176, 230.09010162869077, 6376.491515588019, 685.5387804448955, 263.4772135683939, 217.16634964621608, 295.1292323590595, 3735.637004088044, 633.5778139053278, 140.68578918416827, 194.1489397137874, 174.90419207386932, 1358.0789984011753, 1760.7771380355082, 413.2824833575946, 311.26130420410084, 478.15674045650474, 760.4658564335028, 834.1600701476092, 452.6058291976444, 804.919847257478, 551.8888381325373, 265.58897765628586, 263.4117942165904, 173.0585986322555, 148.02096836651435, 137.1350408134154, 134.95785737371992, 130.60349049432895, 126.24911326031645, 117.54037950153453, 216.57388353125333, 104.47725815411853, 102.30007471442305, 187.21650822827863, 82.7054082252314, 81.61681650538365, 73.99666928913871, 68.55370551258922, 67.46511379274148, 66.37652207289375, 63.110741736039735, 58.75636967933799, 53.31340590278852, 53.31340590278852, 52.224814182940776, 52.224814182940776, 51.136222463093034, 50.0476307432453, 50.0476307432453, 45.69325868654356, 1798.039101765199, 67.45207302120443, 831.9119628706817, 355.2942635574297, 358.37329467704, 415.04938608991904, 1385.5398936157717, 424.90907220614645, 269.36860806937483, 212.19220949231703, 583.2259231936622, 958.7998181030888, 3735.637004088044, 221.20879815969684, 827.7967419751591, 1760.7771380355082, 468.42797654113394, 1892.331898068934, 973.5594524484269, 460.9374039115035, 907.8212202310659, 456.677509346312, 261.2382744767396, 1753.011061639602, 1650.8169531673018, 618.9353423228077, 352.3397754213818, 299.0206819923452, 600.1318124330492, 218.51928920826163, 207.01909023910684, 161.01829436248767, 144.2907285980355, 120.2448553055416, 115.01748851024423, 224.7817642919568, 108.74465633638683, 330.4488715881834, 98.28992274579207, 89.92613986356598, 80.51688661496772, 76.33499517385467, 69.01668764581292, 59.607434397214654, 56.471013322473794, 53.33459723554509, 52.28912188136076, 51.24365151498857, 49.152705794432045, 43.92534398694682, 42.87986863276249, 41.83439577248422, 41.83439577248422, 39.74345254583378, 73.21327512700353, 197.51682138377035, 94.19427588233813, 291.1946603566987, 54.42220154111264, 172.86542701091724, 273.5081981529852, 625.223548331963, 253.90118105085, 360.53989376631665, 1032.7298295912597, 253.03256869345952, 422.2919203104674, 147.66771974517454, 439.7239939413565, 449.85738726235365, 456.30625240538114, 414.6610834496863, 1612.5797820038051, 771.7600915035994, 2105.855288720753, 1259.6427320604137, 637.622170624327, 909.6092978660777, 6171.998987230703, 633.7841770008188, 1358.0789984011753, 7364.917584613837], \"Category\": [\"Default\", \"Default\", \"Default\", \"Default\", \"Default\", \"Default\", \"Default\", \"Default\", \"Default\", \"Default\", \"Default\", \"Default\", \"Default\", \"Default\", \"Default\", \"Default\", \"Default\", \"Default\", \"Default\", \"Default\", \"Default\", \"Default\", \"Default\", \"Default\", \"Default\", \"Default\", \"Default\", \"Default\", \"Default\", \"Default\", \"Topic1\", \"Topic1\", \"Topic1\", \"Topic1\", \"Topic1\", \"Topic1\", \"Topic1\", \"Topic1\", \"Topic1\", \"Topic1\", \"Topic1\", \"Topic1\", \"Topic1\", \"Topic1\", \"Topic1\", \"Topic1\", \"Topic1\", \"Topic1\", \"Topic1\", \"Topic1\", \"Topic1\", \"Topic1\", \"Topic1\", \"Topic1\", \"Topic1\", \"Topic1\", \"Topic1\", \"Topic1\", \"Topic1\", \"Topic1\", \"Topic1\", \"Topic1\", \"Topic1\", \"Topic1\", \"Topic1\", \"Topic1\", \"Topic1\", \"Topic1\", \"Topic1\", \"Topic1\", \"Topic1\", \"Topic1\", \"Topic1\", \"Topic1\", \"Topic1\", \"Topic1\", \"Topic1\", \"Topic1\", \"Topic1\", \"Topic1\", \"Topic1\", \"Topic1\", \"Topic1\", \"Topic1\", \"Topic1\", \"Topic1\", \"Topic1\", \"Topic1\", \"Topic1\", \"Topic1\", \"Topic1\", \"Topic1\", \"Topic1\", \"Topic1\", \"Topic1\", \"Topic2\", \"Topic2\", \"Topic2\", \"Topic2\", \"Topic2\", \"Topic2\", \"Topic2\", \"Topic2\", \"Topic2\", \"Topic2\", \"Topic2\", \"Topic2\", \"Topic2\", \"Topic2\", \"Topic2\", \"Topic2\", \"Topic2\", \"Topic2\", \"Topic2\", \"Topic2\", \"Topic2\", \"Topic2\", \"Topic2\", \"Topic2\", \"Topic2\", \"Topic2\", \"Topic2\", \"Topic2\", \"Topic2\", \"Topic2\", \"Topic2\", \"Topic2\", \"Topic2\", \"Topic2\", \"Topic2\", \"Topic2\", \"Topic2\", \"Topic2\", \"Topic2\", \"Topic2\", \"Topic2\", \"Topic2\", \"Topic2\", \"Topic2\", \"Topic2\", \"Topic2\", \"Topic2\", \"Topic2\", \"Topic2\", \"Topic2\", \"Topic2\", \"Topic2\", \"Topic2\", \"Topic2\", \"Topic2\", \"Topic2\", \"Topic3\", \"Topic3\", \"Topic3\", \"Topic3\", \"Topic3\", \"Topic3\", \"Topic3\", \"Topic3\", \"Topic3\", \"Topic3\", \"Topic3\", \"Topic3\", \"Topic3\", \"Topic3\", \"Topic3\", \"Topic3\", \"Topic3\", \"Topic3\", \"Topic3\", \"Topic3\", \"Topic3\", \"Topic3\", \"Topic3\", \"Topic3\", \"Topic3\", \"Topic3\", \"Topic3\", \"Topic3\", \"Topic3\", \"Topic3\", \"Topic3\", \"Topic3\", \"Topic3\", \"Topic3\", \"Topic3\", \"Topic3\", \"Topic3\", \"Topic3\", \"Topic3\", \"Topic3\", \"Topic3\", \"Topic3\", \"Topic3\", \"Topic3\", \"Topic3\", \"Topic3\", \"Topic3\", \"Topic3\", \"Topic3\", \"Topic3\", \"Topic3\", \"Topic3\", \"Topic3\", \"Topic3\", \"Topic4\", \"Topic4\", \"Topic4\", \"Topic4\", \"Topic4\", \"Topic4\", \"Topic4\", \"Topic4\", \"Topic4\", \"Topic4\", \"Topic4\", \"Topic4\", \"Topic4\", \"Topic4\", \"Topic4\", \"Topic4\", \"Topic4\", \"Topic4\", \"Topic4\", \"Topic4\", \"Topic4\", \"Topic4\", \"Topic4\", \"Topic4\", \"Topic4\", \"Topic4\", \"Topic4\", \"Topic4\", \"Topic4\", \"Topic4\", \"Topic4\", \"Topic4\", \"Topic4\", \"Topic4\", \"Topic4\", \"Topic4\", \"Topic4\", \"Topic4\", \"Topic4\", \"Topic4\", \"Topic4\", \"Topic4\", \"Topic4\", \"Topic4\", \"Topic4\", \"Topic4\", \"Topic4\", \"Topic4\", \"Topic4\", \"Topic4\", \"Topic4\", \"Topic4\", \"Topic4\", \"Topic4\", \"Topic4\", \"Topic4\", \"Topic4\", \"Topic4\", \"Topic4\", \"Topic4\", \"Topic4\", \"Topic5\", \"Topic5\", \"Topic5\", \"Topic5\", \"Topic5\", \"Topic5\", \"Topic5\", \"Topic5\", \"Topic5\", \"Topic5\", \"Topic5\", \"Topic5\", \"Topic5\", \"Topic5\", \"Topic5\", \"Topic5\", \"Topic5\", \"Topic5\", \"Topic5\", \"Topic5\", \"Topic5\", \"Topic5\", \"Topic5\", \"Topic5\", \"Topic5\", \"Topic5\", \"Topic5\", \"Topic5\", \"Topic5\", \"Topic5\", \"Topic5\", \"Topic5\", \"Topic5\", \"Topic5\", \"Topic5\", \"Topic5\", \"Topic5\", \"Topic5\", \"Topic5\", \"Topic5\", \"Topic5\", \"Topic5\", \"Topic5\", \"Topic5\", \"Topic5\", \"Topic5\", \"Topic5\", \"Topic5\", \"Topic5\", \"Topic5\", \"Topic5\", \"Topic5\", \"Topic5\", \"Topic5\", \"Topic5\", \"Topic5\", \"Topic5\", \"Topic5\", \"Topic5\", \"Topic5\", \"Topic5\", \"Topic5\", \"Topic6\", \"Topic6\", \"Topic6\", \"Topic6\", \"Topic6\", \"Topic6\", \"Topic6\", \"Topic6\", \"Topic6\", \"Topic6\", \"Topic6\", \"Topic6\", \"Topic6\", \"Topic6\", \"Topic6\", \"Topic6\", \"Topic6\", \"Topic6\", \"Topic6\", \"Topic6\", \"Topic6\", \"Topic6\", \"Topic6\", \"Topic6\", \"Topic6\", \"Topic6\", \"Topic6\", \"Topic6\", \"Topic6\", \"Topic6\", \"Topic6\", \"Topic6\", \"Topic6\", \"Topic6\", \"Topic6\", \"Topic6\", \"Topic6\", \"Topic6\", \"Topic6\", \"Topic6\", \"Topic6\", \"Topic6\", \"Topic6\", \"Topic6\", \"Topic6\", \"Topic7\", \"Topic7\", \"Topic7\", \"Topic7\", \"Topic7\", \"Topic7\", \"Topic7\", \"Topic7\", \"Topic7\", \"Topic7\", \"Topic7\", \"Topic7\", \"Topic7\", \"Topic7\", \"Topic7\", \"Topic7\", \"Topic7\", \"Topic7\", \"Topic7\", \"Topic7\", \"Topic7\", \"Topic7\", \"Topic7\", \"Topic7\", \"Topic7\", \"Topic7\", \"Topic7\", \"Topic7\", \"Topic7\", \"Topic7\", \"Topic7\", \"Topic7\", \"Topic7\", \"Topic7\", \"Topic7\", \"Topic7\", \"Topic7\", \"Topic7\", \"Topic7\", \"Topic7\", \"Topic7\", \"Topic7\", \"Topic7\", \"Topic7\", \"Topic7\", \"Topic7\", \"Topic7\", \"Topic7\", \"Topic7\", \"Topic7\", \"Topic7\", \"Topic7\", \"Topic7\", \"Topic7\", \"Topic7\", \"Topic7\", \"Topic8\", \"Topic8\", \"Topic8\", \"Topic8\", \"Topic8\", \"Topic8\", \"Topic8\", \"Topic8\", \"Topic8\", \"Topic8\", \"Topic8\", \"Topic8\", \"Topic8\", \"Topic8\", \"Topic8\", \"Topic8\", \"Topic8\", \"Topic8\", \"Topic8\", \"Topic8\", \"Topic8\", \"Topic8\", \"Topic8\", \"Topic8\", \"Topic8\", \"Topic8\", \"Topic8\", \"Topic8\", \"Topic8\", \"Topic8\", \"Topic8\", \"Topic8\", \"Topic8\", \"Topic8\", \"Topic8\", \"Topic8\", \"Topic8\", \"Topic8\", \"Topic8\", \"Topic8\", \"Topic8\", \"Topic8\", \"Topic8\", \"Topic8\", \"Topic8\", \"Topic8\", \"Topic8\", \"Topic8\", \"Topic8\", \"Topic8\", \"Topic8\", \"Topic8\", \"Topic9\", \"Topic9\", \"Topic9\", \"Topic9\", \"Topic9\", \"Topic9\", \"Topic9\", \"Topic9\", \"Topic9\", \"Topic9\", \"Topic9\", \"Topic9\", \"Topic9\", \"Topic9\", \"Topic9\", \"Topic9\", \"Topic9\", \"Topic9\", \"Topic9\", \"Topic9\", \"Topic9\", \"Topic9\", \"Topic9\", \"Topic9\", \"Topic9\", \"Topic9\", \"Topic9\", \"Topic9\", \"Topic9\", \"Topic9\", \"Topic9\", \"Topic9\", \"Topic9\", \"Topic9\", \"Topic9\", \"Topic9\", \"Topic9\", \"Topic9\", \"Topic9\", \"Topic9\", \"Topic9\", \"Topic9\", \"Topic9\", \"Topic9\", \"Topic9\", \"Topic9\", \"Topic9\", \"Topic9\", \"Topic9\", \"Topic9\", \"Topic9\", \"Topic9\", \"Topic9\", \"Topic9\", \"Topic9\", \"Topic9\", \"Topic9\", \"Topic9\", \"Topic9\", \"Topic9\", \"Topic9\", \"Topic9\", \"Topic9\", \"Topic10\", \"Topic10\", \"Topic10\", \"Topic10\", \"Topic10\", \"Topic10\", \"Topic10\", \"Topic10\", \"Topic10\", \"Topic10\", \"Topic10\", \"Topic10\", \"Topic10\", \"Topic10\", \"Topic10\", \"Topic10\", \"Topic10\", \"Topic10\", \"Topic10\", \"Topic10\", \"Topic10\", \"Topic10\", \"Topic10\", \"Topic10\", \"Topic10\", \"Topic10\", \"Topic10\", \"Topic10\", \"Topic10\", \"Topic10\", \"Topic10\", \"Topic10\", \"Topic10\", \"Topic10\", \"Topic10\", \"Topic10\", \"Topic10\", \"Topic10\", \"Topic10\", \"Topic10\", \"Topic10\", \"Topic10\", \"Topic10\", \"Topic10\", \"Topic10\", \"Topic10\", \"Topic10\", \"Topic10\", \"Topic10\", \"Topic10\", \"Topic10\", \"Topic10\", \"Topic10\", \"Topic10\", \"Topic10\", \"Topic10\", \"Topic10\", \"Topic10\", \"Topic10\", \"Topic10\", \"Topic11\", \"Topic11\", \"Topic11\", \"Topic11\", \"Topic11\", \"Topic11\", \"Topic11\", \"Topic11\", \"Topic11\", \"Topic11\", \"Topic11\", \"Topic11\", \"Topic11\", \"Topic11\", \"Topic11\", \"Topic11\", \"Topic11\", \"Topic11\", \"Topic11\", \"Topic11\", \"Topic11\", \"Topic11\", \"Topic11\", \"Topic11\", \"Topic11\", \"Topic11\", \"Topic11\", \"Topic11\", \"Topic11\", \"Topic11\", \"Topic11\", \"Topic11\", \"Topic11\", \"Topic11\", \"Topic11\", \"Topic11\", \"Topic11\", \"Topic11\", \"Topic11\", \"Topic11\", \"Topic11\", \"Topic11\", \"Topic11\", \"Topic11\", \"Topic11\", \"Topic11\", \"Topic11\", \"Topic11\", \"Topic11\", \"Topic12\", \"Topic12\", \"Topic12\", \"Topic12\", \"Topic12\", \"Topic12\", \"Topic12\", \"Topic12\", \"Topic12\", \"Topic12\", \"Topic12\", \"Topic12\", \"Topic12\", \"Topic12\", \"Topic12\", \"Topic12\", \"Topic12\", \"Topic12\", \"Topic12\", \"Topic12\", \"Topic12\", \"Topic12\", \"Topic12\", \"Topic12\", \"Topic12\", \"Topic12\", \"Topic12\", \"Topic12\", \"Topic12\", \"Topic12\", \"Topic12\", \"Topic12\", \"Topic12\", \"Topic12\", \"Topic12\", \"Topic12\", \"Topic12\", \"Topic12\", \"Topic12\", \"Topic12\", \"Topic12\", \"Topic12\", \"Topic12\", \"Topic12\", \"Topic12\", \"Topic12\", \"Topic12\", \"Topic12\", \"Topic12\", \"Topic12\", \"Topic12\", \"Topic12\", \"Topic13\", \"Topic13\", \"Topic13\", \"Topic13\", \"Topic13\", \"Topic13\", \"Topic13\", \"Topic13\", \"Topic13\", \"Topic13\", \"Topic13\", \"Topic13\", \"Topic13\", \"Topic13\", \"Topic13\", \"Topic13\", \"Topic13\", \"Topic13\", \"Topic13\", \"Topic13\", \"Topic13\", \"Topic13\", \"Topic13\", \"Topic13\", \"Topic13\", \"Topic13\", \"Topic13\", \"Topic13\", \"Topic13\", \"Topic13\", \"Topic13\", \"Topic13\", \"Topic13\", \"Topic13\", \"Topic13\", \"Topic13\", \"Topic13\", \"Topic13\", \"Topic13\", \"Topic13\", \"Topic13\", \"Topic13\", \"Topic13\", \"Topic13\", \"Topic13\", \"Topic13\", \"Topic13\", \"Topic13\", \"Topic13\", \"Topic13\", \"Topic13\", \"Topic13\", \"Topic13\", \"Topic13\", \"Topic13\", \"Topic13\", \"Topic13\", \"Topic13\", \"Topic13\", \"Topic13\", \"Topic13\", \"Topic13\", \"Topic13\", \"Topic13\", \"Topic13\", \"Topic13\", \"Topic14\", \"Topic14\", \"Topic14\", \"Topic14\", \"Topic14\", \"Topic14\", \"Topic14\", \"Topic14\", \"Topic14\", \"Topic14\", \"Topic14\", \"Topic14\", \"Topic14\", \"Topic14\", \"Topic14\", \"Topic14\", \"Topic14\", \"Topic14\", \"Topic14\", \"Topic14\", \"Topic14\", \"Topic14\", \"Topic14\", \"Topic14\", \"Topic14\", \"Topic14\", \"Topic14\", \"Topic14\", \"Topic14\", \"Topic14\", \"Topic14\", \"Topic14\", \"Topic14\", \"Topic14\", \"Topic14\", \"Topic14\", \"Topic14\", \"Topic14\", \"Topic14\", \"Topic14\", \"Topic14\", \"Topic14\", \"Topic14\", \"Topic14\", \"Topic14\", \"Topic14\", \"Topic14\", \"Topic14\", \"Topic14\", \"Topic14\", \"Topic14\", \"Topic14\", \"Topic14\", \"Topic14\", \"Topic14\", \"Topic14\", \"Topic14\", \"Topic14\", \"Topic14\", \"Topic14\", \"Topic14\", \"Topic14\", \"Topic14\", \"Topic14\", \"Topic14\", \"Topic14\", \"Topic14\", \"Topic14\", \"Topic15\", \"Topic15\", \"Topic15\", \"Topic15\", \"Topic15\", \"Topic15\", \"Topic15\", \"Topic15\", \"Topic15\", \"Topic15\", \"Topic15\", \"Topic15\", \"Topic15\", \"Topic15\", \"Topic15\", \"Topic15\", \"Topic15\", \"Topic15\", \"Topic15\", \"Topic15\", \"Topic15\", \"Topic15\", \"Topic15\", \"Topic15\", \"Topic15\", \"Topic15\", \"Topic15\", \"Topic15\", \"Topic15\", \"Topic15\", \"Topic15\", \"Topic15\", \"Topic15\", \"Topic15\", \"Topic15\", \"Topic15\", \"Topic15\", \"Topic15\", \"Topic15\", \"Topic15\", \"Topic15\", \"Topic15\", \"Topic15\", \"Topic15\", \"Topic15\", \"Topic15\", \"Topic15\", \"Topic15\", \"Topic15\", \"Topic15\", \"Topic15\", \"Topic15\", \"Topic15\", \"Topic15\", \"Topic15\", \"Topic15\", \"Topic15\", \"Topic15\", \"Topic15\", \"Topic15\", \"Topic16\", \"Topic16\", \"Topic16\", \"Topic16\", \"Topic16\", \"Topic16\", \"Topic16\", \"Topic16\", \"Topic16\", \"Topic16\", \"Topic16\", \"Topic16\", \"Topic16\", \"Topic16\", \"Topic16\", \"Topic16\", \"Topic16\", \"Topic16\", \"Topic16\", \"Topic16\", \"Topic16\", \"Topic16\", \"Topic16\", \"Topic16\", \"Topic16\", \"Topic16\", \"Topic16\", \"Topic16\", \"Topic16\", \"Topic16\", \"Topic16\", \"Topic16\", \"Topic16\", \"Topic16\", \"Topic16\", \"Topic16\", \"Topic16\", \"Topic16\", \"Topic16\", \"Topic16\", \"Topic16\", \"Topic16\", \"Topic16\", \"Topic16\", \"Topic16\", \"Topic16\", \"Topic16\", \"Topic16\", \"Topic16\", \"Topic16\", \"Topic16\", \"Topic16\", \"Topic16\", \"Topic16\", \"Topic16\", \"Topic16\", \"Topic16\", \"Topic16\", \"Topic16\", \"Topic16\", \"Topic16\", \"Topic16\", \"Topic16\", \"Topic17\", \"Topic17\", \"Topic17\", \"Topic17\", \"Topic17\", \"Topic17\", \"Topic17\", \"Topic17\", \"Topic17\", \"Topic17\", \"Topic17\", \"Topic17\", \"Topic17\", \"Topic17\", \"Topic17\", \"Topic17\", \"Topic17\", \"Topic17\", \"Topic17\", \"Topic17\", \"Topic17\", \"Topic17\", \"Topic17\", \"Topic17\", \"Topic17\", \"Topic17\", \"Topic17\", \"Topic17\", \"Topic17\", \"Topic17\", \"Topic17\", \"Topic17\", \"Topic17\", \"Topic17\", \"Topic17\", \"Topic17\", \"Topic17\", \"Topic17\", \"Topic17\", \"Topic17\", \"Topic17\", \"Topic17\", \"Topic17\", \"Topic17\", \"Topic17\", \"Topic17\", \"Topic17\", \"Topic17\", \"Topic17\", \"Topic17\", \"Topic17\", \"Topic17\", \"Topic17\", \"Topic17\", \"Topic18\", \"Topic18\", \"Topic18\", \"Topic18\", \"Topic18\", \"Topic18\", \"Topic18\", \"Topic18\", \"Topic18\", \"Topic18\", \"Topic18\", \"Topic18\", \"Topic18\", \"Topic18\", \"Topic18\", \"Topic18\", \"Topic18\", \"Topic18\", \"Topic18\", \"Topic18\", \"Topic18\", \"Topic18\", \"Topic18\", \"Topic18\", \"Topic18\", \"Topic18\", \"Topic18\", \"Topic18\", \"Topic18\", \"Topic18\", \"Topic18\", \"Topic18\", \"Topic18\", \"Topic18\", \"Topic18\", \"Topic18\", \"Topic18\", \"Topic18\", \"Topic18\", \"Topic18\", \"Topic18\", \"Topic18\", \"Topic18\", \"Topic18\", \"Topic18\", \"Topic18\", \"Topic18\", \"Topic18\", \"Topic18\", \"Topic18\", \"Topic18\", \"Topic18\", \"Topic18\", \"Topic18\", \"Topic18\", \"Topic18\", \"Topic18\", \"Topic18\"], \"logprob\": [30.0, 29.0, 28.0, 27.0, 26.0, 25.0, 24.0, 23.0, 22.0, 21.0, 20.0, 19.0, 18.0, 17.0, 16.0, 15.0, 14.0, 13.0, 12.0, 11.0, 10.0, 9.0, 8.0, 7.0, 6.0, 5.0, 4.0, 3.0, 2.0, 1.0, -4.732399940490723, -3.793100118637085, -5.083399772644043, -5.157400131225586, -5.256100177764893, -5.284800052642822, -3.656599998474121, -5.344799995422363, -5.512700080871582, -5.562699794769287, -5.601900100708008, -5.628900051116943, -5.642600059509277, -5.760300159454346, -5.82480001449585, -5.82480001449585, -5.841599941253662, -3.699399948120117, -5.386899948120117, -6.157599925994873, -6.2052001953125, -5.549900054931641, -5.615300178527832, -6.335000038146973, -6.3632001876831055, -6.421899795532227, -6.421899795532227, -6.484300136566162, -6.484300136566162, -6.517000198364258, -5.987199783325195, -5.987199783325195, -3.4217000007629395, -5.408599853515625, -5.876100063323975, -3.2555999755859375, -3.213200092315674, -5.075500011444092, -5.1321001052856445, -3.210700035095215, -4.263899803161621, -5.601900100708008, -3.5920000076293945, -4.512700080871582, -4.6016998291015625, -4.807799816131592, -4.90910005569458, -3.9210000038146973, -4.978000164031982, -5.099400043487549, -4.732399940490723, -2.9672999382019043, -4.79580020904541, -4.455999851226807, -4.535299777984619, -4.8958001136779785, -4.6016998291015625, -4.715799808502197, -4.512700080871582, -4.662300109863281, -4.398399829864502, -4.79580020904541, -4.857100009918213, -4.743599891662598, -4.922500133514404, -3.625, -4.02370023727417, -4.1442999839782715, -4.150000095367432, -3.7474000453948975, -4.606800079345703, -4.779200077056885, -4.954999923706055, -5.144999980926514, -5.192599773406982, -5.295199871063232, -5.331900119781494, -5.379700183868408, -5.429900169372559, -5.440299987792969, -4.795400142669678, -5.515999794006348, -5.727799892425537, -5.799699783325195, -5.799699783325195, -5.814700126647949, -4.701600074768066, -5.877200126647949, -4.747399806976318, -5.893400192260742, -6.0528998374938965, -6.092100143432617, -6.112299919128418, -6.132900238037109, -6.132900238037109, -5.4095001220703125, -5.277299880981445, -5.770299911499023, -5.573699951171875, -3.678999900817871, -5.647799968719482, -5.360300064086914, -5.070300102233887, -4.507800102233887, -4.236700057983398, -4.455900192260742, -4.199900150299072, -4.164400100708008, -4.459799766540527, -4.311299800872803, -3.891400098800659, -4.869100093841553, -5.034999847412109, -4.806399822235107, -4.752699851989746, -4.440499782562256, -4.459799766540527, -4.974400043487549, -4.980999946594238, -4.784599781036377, -5.048999786376953, -3.310499906539917, -3.5885000228881836, -4.025599956512451, -4.359499931335449, -4.52400016784668, -4.582600116729736, -4.7210001945495605, -4.72599983215332, -4.864500045776367, -5.138800144195557, -5.266900062561035, -5.284200191497803, -5.464700222015381, -5.496399879455566, -5.507199764251709, -5.518099784851074, -5.551599979400635, -5.622200012207031, -5.65939998626709, -5.738399982452393, -5.738399982452393, -5.7947001457214355, -5.7947001457214355, -5.901500225067139, -5.934299945831299, -6.003200054168701, -6.003200054168701, -4.171500205993652, -6.039599895477295, -6.039599895477295, -5.384699821472168, -5.17710018157959, -5.4857001304626465, -3.18149995803833, -5.0594000816345215, -4.998799800872803, -3.00219988822937, -5.464700222015381, -4.171500205993652, -4.283199787139893, -4.658699989318848, -5.138800144195557, -3.7795000076293945, -4.9293999671936035, -4.782299995422363, -5.116499900817871, -4.476399898529053, -4.312399864196777, -4.691800117492676, -5.018599987030029, -4.604400157928467, -4.696599960327148, -4.954100131988525, -4.911300182342529, -3.926500082015991, -4.746300220489502, -5.076200008392334, -5.4019999504089355, -5.4664998054504395, -5.776400089263916, -5.293600082397461, -6.115600109100342, -6.1371002197265625, -6.22790002822876, -6.251999855041504, -6.276700019836426, -6.409999847412109, -6.4994001388549805, -6.531099796295166, -5.807199954986572, -6.563899993896484, -5.1707000732421875, -6.597700119018555, -6.669000148773193, -6.745800018310547, -5.6757001876831055, -6.828999996185303, -6.9197998046875, -6.9197998046875, -6.968400001525879, -6.968400001525879, -7.073500156402588, -7.073500156402588, -7.13040018081665, -6.158999919891357, -4.860599994659424, -5.609499931335449, -4.658400058746338, -1.6641000509262085, -3.993000030517578, -2.7000999450683594, -3.038300037384033, -3.473099946975708, -3.2441999912261963, -4.0696001052856445, -5.0320000648498535, -3.3917999267578125, -3.740299940109253, -4.610099792480469, -4.008399963378906, -4.962600231170654, -4.591400146484375, -3.6370999813079834, -5.212800025939941, -4.293399810791016, -4.663300037384033, -4.233399868011475, -5.230199813842773, -3.6958000659942627, -3.995500087738037, -4.51140022277832, -5.024899959564209, -4.824900150299072, -4.784800052642822, -4.866700172424316, -3.68969988822937, -3.7265000343322754, -4.084099769592285, -4.1778998374938965, -4.762199878692627, -4.94920015335083, -4.0177001953125, -5.272799968719482, -5.282700061798096, -5.292600154876709, -5.528200149536133, -5.73859977722168, -5.946000099182129, -5.946000099182129, -5.985199928283691, -4.084099769592285, -6.1128997802734375, -5.386899948120117, -5.443399906158447, -5.030399799346924, -6.233399868011475, -6.259300231933594, -5.754300117492676, -5.420400142669678, -6.6381001472473145, -6.6381001472473145, -6.6381001472473145, -6.7179999351501465, -6.7179999351501465, -6.760499954223633, -5.302700042724609, -5.420400142669678, -6.135900020599365, -5.607100009918213, -6.3703999519348145, -5.515600204467773, -4.716300010681152, -2.377000093460083, -3.629199981689453, -4.63539981842041, -3.5703001022338867, -3.501300096511841, -3.577500104904175, -5.135700225830078, -3.0727999210357666, -3.8698999881744385, -3.214900016784668, -4.069300174713135, -3.638700008392334, -4.270500183105469, -4.774099826812744, -4.384699821472168, -4.187699794769287, -4.009300231933594, -3.7307000160217285, -4.672299861907959, -4.579999923706055, -4.409200191497803, -4.536799907684326, -4.513599872589111, -4.756400108337402, -4.756400108337402, -2.4184999465942383, -1.7878999710083008, -2.9179000854492188, -3.311199903488159, -3.447700023651123, -4.025100231170654, -4.1631999015808105, -4.241700172424316, -4.278299808502197, -4.5055999755859375, -4.8292999267578125, -4.84119987487793, -4.941199779510498, -3.5920000076293945, -5.177499771118164, -5.1859002113342285, -5.25540018081665, -5.273600101470947, -5.310999870300293, -4.682000160217285, -5.607999801635742, -5.775000095367432, -5.790200233459473, -5.870200157165527, -5.870200157165527, -5.957099914550781, -5.975500106811523, -5.994100093841553, -6.013199806213379, -6.052299976348877, -5.059800148010254, -5.55810022354126, -3.915600061416626, -3.7135000228881836, -4.603899955749512, -5.067200183868408, -4.883699893951416, -3.915600061416626, -4.682000160217285, -5.067200183868408, -3.752700090408325, -4.206399917602539, -4.6768999099731445, -4.661900043487549, -4.744800090789795, -3.291599988937378, -3.363100051879883, -4.112599849700928, -4.49429988861084, -4.633600234985352, -5.228000164031982, -5.385499954223633, -5.46150016784668, -4.940499782562256, -5.731500148773193, -5.766600131988525, -4.243599891662598, -6.153900146484375, -5.501699924468994, -6.264900207519531, -6.264900207519531, -6.325500011444092, -6.612599849700928, -6.612599849700928, -6.65500020980835, -6.65500020980835, -6.65500020980835, -6.699399948120117, -6.745800018310547, -6.745800018310547, -5.664899826049805, -6.180500030517578, -6.956500053405762, -6.956500053405762, -6.956500053405762, -4.267300128936768, -6.325500011444092, -4.279300212860107, -5.167399883270264, -2.998300075531006, -3.879300117492676, -2.4876999855041504, -6.3572001457214355, -2.7880001068115234, -3.7692999839782715, -4.043399810791016, -5.197299957275391, -4.535099983215332, -2.8810999393463135, -3.4846999645233154, -2.061000108718872, -4.988500118255615, -3.759700059890747, -3.4093000888824463, -4.154399871826172, -4.030700206756592, -3.093400001525879, -4.05620002746582, -4.650899887084961, -4.932700157165527, -4.781899929046631, -2.6084001064300537, -3.6029999256134033, -3.6774001121520996, -3.8213999271392822, -3.8645999431610107, -4.015100002288818, -4.098199844360352, -4.202499866485596, -3.343600034713745, -4.597599983215332, -4.486700057983398, -5.270299911499023, -5.342800140380859, -5.432700157165527, -5.480899810791016, -5.505799770355225, -5.54449987411499, -5.598599910736084, -5.71619987487793, -5.797500133514404, -5.849699974060059, -5.849699974060059, -5.849699974060059, -5.886000156402588, -6.024700164794922, -6.046199798583984, -6.0904998779296875, -6.0904998779296875, -5.3979997634887695, -6.113500118255615, -3.2939000129699707, -4.851799964904785, -5.240699768066406, -5.3755998611450195, -5.584799766540527, -3.549799919128418, -4.088900089263916, -3.099400043487549, -4.819399833679199, -3.9732000827789307, -4.241000175476074, -3.884399890899658, -4.058700084686279, -4.24459981918335, -4.864999771118164, -4.188799858093262, -5.000400066375732, -4.682700157165527, -4.763700008392334, -4.666200160980225, -4.825799942016602, -4.970300197601318, -1.3319000005722046, -3.216599941253662, -4.864699840545654, -4.994500160217285, -5.370999813079834, -5.425600051879883, -5.570400238037109, -5.803100109100342, -4.683499813079834, -5.836400032043457, -6.001800060272217, -6.021999835968018, -6.021999835968018, -6.042600154876709, -6.10699987411499, -6.199999809265137, -6.249899864196777, -6.275899887084961, -6.329800128936768, -6.479100227355957, -6.479100227355957, -6.617000102996826, -6.617000102996826, -6.69379997253418, -6.7769999504089355, -6.7769999504089355, -6.129499912261963, -6.867700099945068, -6.96750020980835, -6.96750020980835, -6.302499771118164, -2.381700038909912, -3.5673999786376953, -6.152400016784668, -4.8520002365112305, -4.55810022354126, -5.339600086212158, -2.8148000240325928, -3.1361000537872314, -4.301599979400635, -5.623700141906738, -3.6214001178741455, -4.385300159454346, -5.6946001052856445, -4.152699947357178, -5.152299880981445, -3.5957999229431152, -4.987299919128418, -4.611299991607666, -4.446599960327148, -5.299200057983398, -5.4953999519348145, -5.126999855041504, -4.539400100708008, -4.502999782562256, -4.657100200653076, -4.210899829864502, -4.790599822998047, -5.10230016708374, -4.755499839782715, -5.11870002746582, -5.126999855041504, -5.062399864196777, -3.245800018310547, -4.069799900054932, -4.142300128936768, -2.8919999599456787, -4.3780999183654785, -4.469399929046631, -4.687099933624268, -4.269199848175049, -5.086999893188477, -5.179800033569336, -5.253200054168701, -5.322199821472168, -5.342800140380859, -5.385300159454346, -4.671000003814697, -5.441199779510498, -5.452700138092041, -5.5894999504089355, -5.812399864196777, -5.812399864196777, -5.812399864196777, -5.84630012512207, -5.863699913024902, -5.899400234222412, -5.99459981918335, -6.145199775695801, -6.242700099945068, -6.268700122833252, -6.295300006866455, -6.322700023651123, -5.563199996948242, -5.84630012512207, -5.863699913024902, -4.634399890899658, -5.476200103759766, -2.8159000873565674, -4.944499969482422, -3.7785000801086426, -3.3173000812530518, -5.047500133514404, -4.958600044250488, -3.9061999320983887, -4.108500003814697, -4.9375, -2.6742000579833984, -4.844799995422363, -3.6989998817443848, -4.838500022888184, -4.838500022888184, -4.478099822998047, -4.692500114440918, -3.5850000381469727, -3.9388999938964844, -4.731299877166748, -4.614099979400635, -4.639599800109863, -4.759900093078613, -4.801400184631348, -4.910099983215332, -4.90339994430542, -3.751199960708618, -3.2197000980377197, -3.984100103378296, -4.331500053405762, -2.5357000827789307, -4.71150016784668, -4.749800205230713, -4.837299823760986, -4.868299961090088, -4.995500087738037, -5.054299831390381, -5.108799934387207, -5.108799934387207, -5.200900077819824, -5.254899978637695, -5.3831000328063965, -5.41510009765625, -5.482500076293945, -5.494200229644775, -5.567399978637695, -5.5929999351501465, -5.606100082397461, -5.717199802398682, -5.76230001449585, -5.7778000831604, -5.7778000831604, -5.085100173950195, -4.74429988861084, -5.893499851226807, -5.947500228881836, -3.2428998947143555, -5.580100059509277, -3.7049999237060547, -3.9042999744415283, -3.7328999042510986, -4.722300052642822, -3.602400064468384, -3.4760000705718994, -3.726799964904785, -5.341899871826172, -3.887700080871582, -4.906700134277344, -4.700799942016602, -4.831299781799316, -3.887700080871582, -4.638899803161621, -4.23360013961792, -4.74429988861084, -5.0619001388549805, -3.2330000400543213, -3.6245999336242676, -3.734999895095825, -3.8041999340057373, -3.978300094604492, -4.023200035095215, -4.235599994659424, -4.422299861907959, -3.896399974822998, -4.870299816131592, -4.876299858093262, -4.912899971008301, -4.294000148773193, -4.600800037384033, -5.340199947357178, -5.349699974060059, -5.359399795532227, -4.348999977111816, -5.50540018081665, -5.587200164794922, -5.5995001792907715, -5.650100231170654, -5.6631999015808105, -5.731200218200684, -5.759699821472168, -5.804100036621094, -4.779399871826172, -6.0046000480651855, -6.042300224304199, -6.042300224304199, -4.094600200653076, -5.494200229644775, -3.079900026321411, -4.395999908447266, -3.835400104522705, -4.485000133514404, -4.348999977111816, -4.3597002029418945, -5.111400127410889, -4.888400077819824, -3.5408999919891357, -3.8041999340057373, -4.517899990081787, -4.501399993896484, -4.829500198364258, -4.757900238037109, -4.3597002029418945, -4.399700164794922, -4.686100006103516, -4.71120023727417, -4.696000099182129, -4.768599987030029, -2.306999921798706, -4.635499954223633, -3.7258999347686768, -5.517199993133545, -5.962399959564209, -6.134099960327148, -6.176599979400635, -6.3414998054504395, -6.44950008392334, -5.333099842071533, -6.826099872589111, -6.868500232696533, -6.9593000411987305, -6.9593000411987305, -7.007900238037109, -7.059100151062012, -7.059100151062012, -6.367400169372559, -5.7571001052856445, -7.170000076293945, -6.478400230407715, -7.363399982452393, -7.363399982452393, -7.43720006942749, -7.43720006942749, -5.400700092315674, -6.826099872589111, -7.603499889373779, -7.603499889373779, -7.603499889373779, -6.912899971008301, -7.603499889373779, -2.8217999935150146, -6.367400169372559, -3.9149999618530273, -2.3505001068115234, -1.4916000366210938, -5.9980998039245605, -3.050800085067749, -4.8643999099731445, -5.243800163269043, -3.5248000621795654, -6.243899822235107, -4.818699836730957, -5.380899906158447, -6.478400230407715, -4.712900161743164, -4.753900051116943, -5.894700050354004, -4.445499897003174, -5.574999809265137, -4.201099872589111, -4.8821001052856445, -4.640200138092041, -5.0644001960754395, -3.828399896621704, -4.94350004196167, -4.5680999755859375, -4.918499946594238, -4.29580020904541, -4.8881001472473145, -4.969099998474121, -5.057300090789795, -5.185699939727783, -5.21019983291626, -5.252399921417236, -4.695899963378906, -5.153500080108643, -5.161600112915039, -5.339000225067139, -5.388700008392334, -5.724999904632568, -5.862500190734863, -5.912899971008301, -6.122900009155273, -6.2118000984191895, -6.2118000984191895, -6.235300064086914, -6.33519983291626, -6.361800193786621, -6.361800193786621, -6.389200210571289, -6.417300224304199, -3.7202999591827393, -6.446300029754639, -5.768700122833252, -5.768700122833252, -6.605000019073486, -6.640100002288818, -6.640100002288818, -6.676400184631348, -6.676400184631348, -5.579100131988525, -6.793900012969971, -6.793900012969971, -6.793900012969971, -5.724999904632568, -5.531000137329102, -6.041299819946289, -5.011000156402588, -6.041299819946289, -3.651599884033203, -3.604300022125244, -6.122900009155273, -4.425000190734863, -2.9231998920440674, -5.604100227355957, -4.598700046539307, -3.523699998855591, -4.553500175476074, -5.091000080108643, -4.07420015335083, -5.025100231170654, -3.4865000247955322, -3.7242000102996826, -3.7516000270843506, -4.4446001052856445, -4.267000198364258, -3.6570000648498535, -4.7322001457214355, -4.680699825286865, -4.917699813842773, -3.737799882888794, -4.448599815368652, -4.00540018081665, -4.202600002288818, -4.124800205230713, -4.50600004196167, -4.304200172424316, -3.9927000999450684, -4.781000137329102, -4.617400169372559, -4.5894999504089355, -4.826399803161621, -2.83240008354187, -4.515900135040283, -4.538599967956543, -4.713500022888184, -4.816999912261963, -4.841599941253662, -5.10260009765625, -5.400899887084961, -5.732800006866455, -5.7480998039245605, -5.844799995422363, -5.8618998527526855, -5.952000141143799, -5.9903998374938965, -6.184299945831299, -6.184299945831299, -6.208399772644043, -6.233099937438965, -6.284299850463867, -6.284299850463867, -5.618500232696533, -6.3383002281188965, -6.395299911499023, -6.425099849700928, -6.425099849700928, -6.425099849700928, -6.455900192260742, -6.520299911499023, -6.589099884033203, -5.933300018310547, -5.828100204467773, -4.5524001121521, -4.256700038909912, -5.933300018310547, -2.646699905395508, -4.05109977722168, -3.424999952316284, -3.383699893951416, -4.960100173950195, -3.7493999004364014, -3.458699941635132, -5.434100151062012, -4.256700038909912, -3.9725000858306885, -4.4593000411987305, -3.8805999755859375, -4.752500057220459, -4.173799991607666, -4.981299877166748, -3.337100028991699, -4.981299877166748, -3.7046000957489014, -4.506999969482422, -4.343400001525879, -4.69189977645874, -4.609799861907959, -4.434199810028076, -4.354800224304199, -4.741199970245361, -4.561800003051758, -3.953700065612793, -4.472400188446045, -4.625800132751465, -4.838600158691406, -4.990499973297119, -5.0131001472473145, -5.134699821472168, -5.355599880218506, -5.683199882507324, -5.713500022888184, -5.744699954986572, -5.844699859619141, -5.898799896240234, -5.936500072479248, -5.995800018310547, -6.01639986038208, -6.037399768829346, -6.058899879455566, -6.080900192260742, -5.0208001136779785, -6.173799991607666, -6.173799991607666, -6.198500156402588, -6.198500156402588, -6.198500156402588, -6.24970006942749, -6.3317999839782715, -6.3317999839782715, -6.360799789428711, -6.390600204467773, -3.964400053024292, -5.469299793243408, -5.344900131225586, -5.827400207519531, -4.178199768066406, -5.862400054931641, -5.518599987030029, -3.2204999923706055, -5.810299873352051, -5.4222002029418945, -4.399600028991699, -4.646699905395508, -3.2553999423980713, -4.729400157928467, -2.044100046157837, -3.897200107574463, -4.7179999351501465, -4.92549991607666, -4.723700046539307, -2.90120005607605, -4.2153000831604, -5.2829999923706055, -5.100800037384033, -5.1697998046875, -4.025000095367432, -3.9275999069213867, -4.740900039672852, -4.95389986038208, -4.84499979019165, -4.864500045776367, -4.990499973297119, -5.059999942779541, -5.059999942779541, -3.697999954223633, -4.431300163269043, -4.439599990844727, -4.861700057983398, -5.018899917602539, -5.095799922943115, -5.111999988555908, -5.144999980926514, -5.179200172424316, -5.251299858093262, -4.64109992980957, -5.370100021362305, -5.39139986038208, -4.78849983215332, -5.606400012969971, -5.619800090789795, -5.719099998474121, -5.796599864959717, -5.81279993057251, -5.8292999267578125, -5.8805999755859375, -5.9532999992370605, -6.052199840545654, -6.052199840545654, -6.073299884796143, -6.073299884796143, -6.094799995422363, -6.116700172424316, -6.116700172424316, -6.209700107574463, -2.546799898147583, -5.8292999267578125, -3.486799955368042, -4.34089994430542, -4.333399772644043, -4.2307000160217285, -3.1982998847961426, -4.2789998054504395, -4.709400177001953, -4.927000045776367, -4.200799942016602, -4.038300037384033, -3.218899965286255, -5.048999786376953, -4.303999900817871, -3.896199941635132, -4.656499862670898, -3.9481000900268555, -4.2932000160217285, -4.671999931335449, -4.753799915313721, -4.982600212097168, -5.079999923706055, -5.041399955749512, -2.563800096511841, -3.545799970626831, -4.110499858856201, -4.275000095367432, -3.5785000324249268, -4.589900016784668, -4.644199848175049, -4.896900177001953, -5.007299900054932, -5.190999984741211, -5.235899925231934, -4.566199779510498, -5.292500019073486, -4.181300163269043, -5.394499778747559, -5.484399795532227, -5.59630012512207, -5.650300025939941, -5.752500057220459, -5.901400089263916, -5.956399917602539, -6.014599800109863, -6.034800052642822, -6.0553998947143555, -6.097899913787842, -6.212800025939941, -6.237500190734863, -6.262700080871582, -6.262700080871582, -6.315299987792969, -5.707399845123291, -4.728899955749512, -5.46120023727417, -4.4222002029418945, -6.014599800109863, -4.957499980926514, -4.547599792480469, -3.906599998474121, -4.685699939727783, -4.390200138092041, -3.5873000621795654, -4.739999771118164, -4.394100189208984, -5.190999984741211, -4.418099880218506, -4.442699909210205, -4.446899890899658, -4.580399990081787, -3.8294999599456787, -4.285600185394287, -3.7600998878479004, -4.044300079345703, -4.4344000816345215, -4.278600215911865, -3.854599952697754, -4.570899963378906, -4.467899799346924, -4.374599933624268], \"loglift\": [30.0, 29.0, 28.0, 27.0, 26.0, 25.0, 24.0, 23.0, 22.0, 21.0, 20.0, 19.0, 18.0, 17.0, 16.0, 15.0, 14.0, 13.0, 12.0, 11.0, 10.0, 9.0, 8.0, 7.0, 6.0, 5.0, 4.0, 3.0, 2.0, 1.0, 2.8871, 2.8859, 2.8849, 2.8843, 2.8835, 2.8833, 2.8831, 2.8827, 2.881, 2.8804, 2.8799, 2.8796, 2.8794, 2.8778, 2.8769, 2.8769, 2.8766, 2.8753, 2.8716, 2.8709, 2.8699, 2.8683, 2.8671, 2.8668, 2.8661, 2.8645, 2.8645, 2.8628, 2.8628, 2.8618, 2.8559, 2.8557, 2.7858, 2.8304, 2.8433, 2.6722, 2.6548, 2.776, 2.7781, 2.581, 2.6151, 2.8032, 2.3579, 2.5476, 2.5131, 2.5728, 2.6025, 2.2395, 2.5931, 2.5845, 2.3627, 1.1593, 2.3647, 2.0751, 2.1222, 2.3772, 2.0676, 2.085, 1.7404, 1.8367, 1.1616, 1.5501, 1.7434, 1.0793, 0.6163, 2.8291, 2.8283, 2.828, 2.8279, 2.8269, 2.8264, 2.8256, 2.8246, 2.8233, 2.823, 2.8221, 2.8218, 2.8214, 2.8209, 2.8208, 2.8202, 2.82, 2.8175, 2.8166, 2.8166, 2.8164, 2.8157, 2.8154, 2.8154, 2.8152, 2.8125, 2.8118, 2.8114, 2.811, 2.811, 2.8005, 2.7965, 2.8023, 2.7954, 2.696, 2.781, 2.7378, 2.655, 2.5048, 2.3606, 2.3747, 2.2566, 2.2373, 2.2821, 2.0966, 1.8289, 2.4025, 2.5267, 2.2912, 2.2265, 1.5625, 1.5393, 2.2636, 1.7836, 0.6289, 1.1142, 2.8204, 2.82, 2.8192, 2.8182, 2.8176, 2.8174, 2.8168, 2.8168, 2.816, 2.8143, 2.8133, 2.8132, 2.8115, 2.8112, 2.8111, 2.811, 2.8106, 2.8098, 2.8094, 2.8084, 2.8084, 2.8076, 2.8076, 2.8061, 2.8056, 2.8044, 2.8044, 2.8039, 2.8038, 2.8038, 2.8023, 2.7899, 2.7904, 2.6414, 2.7376, 2.7173, 2.4221, 2.7589, 2.429, 2.4441, 2.4346, 2.6159, 1.9409, 2.4589, 2.2824, 2.4663, 1.7198, 1.4793, 1.8072, 2.176, 1.2635, 1.453, 2.0251, 0.6488, 2.8594, 2.8565, 2.8545, 2.8518, 2.8512, 2.8474, 2.8436, 2.8417, 2.8413, 2.8394, 2.8388, 2.8383, 2.835, 2.8325, 2.8316, 2.8312, 2.8306, 2.83, 2.8296, 2.8273, 2.8246, 2.8218, 2.8214, 2.8177, 2.8177, 2.8156, 2.8156, 2.8106, 2.8106, 2.8077, 2.7982, 2.7819, 2.7869, 2.6913, 2.495, 2.6353, 2.5386, 2.5273, 2.5299, 2.4902, 2.5545, 2.6417, 2.3382, 2.3535, 2.4862, 2.2299, 2.3982, 2.2639, 1.9017, 2.4744, 2.0246, 2.017, 1.6508, 2.4244, 0.9303, 1.2228, 1.6218, 2.1642, 1.6326, 0.6286, 0.5947, 2.8962, 2.8961, 2.8953, 2.895, 2.8927, 2.8916, 2.8902, 2.8891, 2.889, 2.8889, 2.8865, 2.8839, 2.8806, 2.8806, 2.8799, 2.8782, 2.8775, 2.8775, 2.8766, 2.8762, 2.8749, 2.8743, 2.8684, 2.8663, 2.8636, 2.8636, 2.8636, 2.8607, 2.8607, 2.8592, 2.8502, 2.8339, 2.8333, 2.7846, 2.8433, 2.7315, 2.6175, 2.2491, 2.4467, 2.5769, 2.2684, 2.247, 2.1332, 2.6114, 1.9052, 2.1428, 1.7763, 2.127, 1.7856, 2.0729, 2.3898, 2.1095, 1.9379, 1.7251, 0.9305, 2.0191, 1.8492, 1.5811, 1.557, 1.4363, 2.0156, 1.9812, 2.8865, 2.8861, 2.8861, 2.8857, 2.8855, 2.8844, 2.8841, 2.8838, 2.8837, 2.8829, 2.8813, 2.8812, 2.8806, 2.8799, 2.8789, 2.8789, 2.8783, 2.8781, 2.8778, 2.8769, 2.8746, 2.8724, 2.8722, 2.871, 2.871, 2.8695, 2.8692, 2.8689, 2.8685, 2.8678, 2.8645, 2.8628, 2.7716, 2.7306, 2.7853, 2.7073, 2.608, 2.0314, 2.3449, 2.4977, 1.1607, 1.2115, 1.8841, 1.5467, 1.589, 3.0532, 3.0531, 3.0513, 3.0498, 3.0491, 3.0446, 3.0429, 3.042, 3.0392, 3.0381, 3.0376, 3.0317, 3.0296, 3.0275, 3.0267, 3.0267, 3.025, 3.0153, 3.0153, 3.0136, 3.0136, 3.0136, 3.0118, 3.0098, 3.0098, 3.0081, 3.0021, 2.9996, 2.9996, 2.9996, 2.9873, 2.9938, 2.9594, 2.9578, 2.8546, 2.8898, 2.7468, 2.9917, 2.7134, 2.7571, 2.7467, 2.8518, 2.7695, 2.4841, 2.4837, 2.0656, 2.7003, 2.1245, 1.9321, 2.2474, 2.0384, 1.0658, 1.1621, 1.8433, 2.165, 0.9977, 2.9263, 2.9252, 2.9251, 2.9248, 2.9247, 2.9244, 2.9241, 2.9238, 2.9228, 2.9223, 2.9184, 2.9178, 2.9171, 2.9162, 2.9157, 2.9154, 2.9149, 2.9143, 2.9127, 2.9115, 2.9107, 2.9107, 2.9107, 2.9101, 2.9076, 2.9072, 2.9063, 2.9063, 2.9059, 2.9058, 2.9057, 2.896, 2.8996, 2.8953, 2.8635, 2.5593, 2.6373, 2.362, 2.6956, 2.4315, 2.3732, 2.0025, 1.9473, 1.9214, 2.3806, 1.6617, 2.433, 2.0246, 2.1133, 1.9312, 2.106, 1.5562, 2.9132, 2.9122, 2.9073, 2.9065, 2.9033, 2.9028, 2.9012, 2.898, 2.8976, 2.8975, 2.8946, 2.8943, 2.8943, 2.8939, 2.8926, 2.8906, 2.8894, 2.8888, 2.8875, 2.8834, 2.8834, 2.879, 2.879, 2.8763, 2.8732, 2.8732, 2.8696, 2.8694, 2.8649, 2.8649, 2.8615, 2.7134, 2.7105, 2.8044, 2.6528, 2.5232, 2.54, 1.8113, 1.842, 2.1518, 2.5895, 1.6173, 1.9485, 2.5837, 1.7315, 2.2859, 1.3953, 2.1187, 1.7321, 1.5661, 2.1764, 2.3564, 1.9538, 1.2402, 1.057, 1.1958, 0.4503, 1.1593, 1.66, 0.1579, 1.4424, 1.0816, 0.3993, 2.9124, 2.9108, 2.9106, 2.9101, 2.9099, 2.9095, 2.9085, 2.9068, 2.906, 2.9053, 2.9047, 2.904, 2.9039, 2.9034, 2.9032, 2.9029, 2.9027, 2.9012, 2.8981, 2.8981, 2.8981, 2.8975, 2.8973, 2.8967, 2.895, 2.892, 2.8898, 2.8892, 2.8886, 2.8879, 2.8755, 2.8803, 2.8804, 2.8184, 2.8041, 2.4024, 2.6942, 2.3874, 2.2214, 2.6233, 2.5812, 2.1151, 2.1446, 2.4851, 1.3082, 2.4243, 1.6424, 2.3713, 2.3294, 1.9298, 2.0612, 0.5741, 0.7224, 2.0529, 1.5945, 0.7739, 0.658, 0.9285, 1.8656, 1.1705, 2.9157, 2.9153, 2.9152, 2.9142, 2.9134, 2.9125, 2.9123, 2.9118, 2.9116, 2.9108, 2.9104, 2.91, 2.91, 2.9092, 2.9088, 2.9076, 2.9072, 2.9065, 2.9064, 2.9055, 2.9052, 2.905, 2.9035, 2.9029, 2.9027, 2.9027, 2.9024, 2.901, 2.9008, 2.8999, 2.8609, 2.8924, 2.7212, 2.7108, 2.613, 2.7494, 2.4667, 2.4109, 2.4064, 2.8375, 2.0807, 2.4186, 2.1587, 2.2825, 1.2075, 2.0414, 1.4396, 1.3297, 1.216, 2.85, 2.8494, 2.8493, 2.8491, 2.8488, 2.8486, 2.8481, 2.8474, 2.8467, 2.8454, 2.8453, 2.8451, 2.8445, 2.842, 2.842, 2.8419, 2.8418, 2.8407, 2.8403, 2.8394, 2.8393, 2.8387, 2.8385, 2.8376, 2.8373, 2.8366, 2.8352, 2.8334, 2.8328, 2.8328, 2.8317, 2.8294, 2.4051, 2.5838, 2.3129, 2.4905, 2.4156, 2.4161, 2.6244, 2.4126, 1.4503, 1.4499, 2.0004, 1.8824, 2.1466, 1.984, 1.0538, 0.9655, 1.3703, 1.2948, 0.9571, 0.797, 2.8393, 2.8357, 2.8327, 2.8294, 2.8235, 2.8203, 2.8195, 2.8158, 2.8131, 2.8124, 2.8009, 2.7993, 2.7955, 2.7955, 2.7933, 2.7909, 2.7909, 2.7901, 2.7854, 2.7852, 2.7843, 2.7739, 2.7739, 2.769, 2.769, 2.7609, 2.7597, 2.7566, 2.7566, 2.7566, 2.7542, 2.7566, 2.6785, 2.7417, 2.6449, 2.5629, 2.4908, 2.6737, 2.3671, 2.5296, 2.51, 2.2074, 2.6319, 2.3075, 2.4241, 2.6765, 2.0494, 2.0099, 2.4532, 1.6801, 2.282, 1.5288, 1.9051, 1.7677, 1.9625, 1.1628, 1.8406, 1.541, 1.773, 1.1659, 1.2615, 1.1048, 1.2673, 1.5053, 0.958, 1.3618, 2.847, 2.8442, 2.8441, 2.8427, 2.8422, 2.8384, 2.8364, 2.8357, 2.8319, 2.8301, 2.8301, 2.8296, 2.8273, 2.8266, 2.8266, 2.826, 2.8252, 2.825, 2.8245, 2.8236, 2.823, 2.8198, 2.8187, 2.8187, 2.8175, 2.8175, 2.816, 2.8133, 2.8133, 2.8133, 2.8113, 2.8057, 2.7966, 2.7532, 2.7955, 2.6859, 2.6551, 2.7912, 2.6639, 2.5385, 2.7469, 2.6405, 2.4666, 2.5983, 2.606, 2.3833, 2.5816, 2.2242, 2.275, 2.0871, 2.2724, 2.1683, 1.903, 2.3486, 2.3079, 2.3866, 1.7236, 2.008, 1.6677, 1.5295, 1.2404, 1.6546, 1.0372, -0.0102, 1.6678, 1.131, 0.9108, 0.8267, 2.89, 2.8866, 2.8865, 2.8857, 2.8852, 2.885, 2.8833, 2.8807, 2.8768, 2.8766, 2.8751, 2.8749, 2.8734, 2.8727, 2.8689, 2.8689, 2.8684, 2.8678, 2.8666, 2.8666, 2.8655, 2.8653, 2.8638, 2.863, 2.863, 2.863, 2.8622, 2.8603, 2.8581, 2.8564, 2.8436, 2.8033, 2.7547, 2.8376, 2.6074, 2.7056, 2.6314, 2.6006, 2.7435, 2.5752, 2.3919, 2.7316, 2.4739, 2.4112, 2.4944, 2.269, 2.5075, 2.2342, 2.5007, 1.641, 2.441, 1.7803, 2.1607, 1.8248, 2.1088, 1.8435, 1.5786, 1.3656, 1.6943, 0.9983, 2.9033, 2.9016, 2.901, 2.8999, 2.8989, 2.8987, 2.8979, 2.8959, 2.8922, 2.8918, 2.8913, 2.8898, 2.889, 2.8883, 2.8873, 2.8869, 2.8865, 2.8861, 2.8856, 2.884, 2.8837, 2.8837, 2.8832, 2.8832, 2.8832, 2.882, 2.88, 2.88, 2.8793, 2.8785, 2.8578, 2.8722, 2.8657, 2.8737, 2.8364, 2.873, 2.8575, 2.7011, 2.8586, 2.8089, 2.6922, 2.7154, 2.5242, 2.7191, 2.0825, 2.4596, 2.595, 2.5808, 2.4759, 1.76, 2.2203, 2.6574, 2.5175, 2.5529, 1.6481, 1.4858, 2.1219, 2.1924, 1.872, 1.3885, 1.17, 1.7119, 1.1362, 2.8756, 2.8737, 2.8737, 2.8717, 2.8707, 2.8701, 2.87, 2.8698, 2.8695, 2.8689, 2.8679, 2.8678, 2.8676, 2.8662, 2.8653, 2.8651, 2.8638, 2.8628, 2.8625, 2.8623, 2.8615, 2.8603, 2.8585, 2.8585, 2.8581, 2.8581, 2.8577, 2.8573, 2.8573, 2.8553, 2.8457, 2.8462, 2.6765, 2.6731, 2.672, 2.6279, 2.4548, 2.5561, 2.5815, 2.6024, 2.3175, 1.9829, 1.4424, 2.4389, 1.8642, 1.5172, 2.0811, 1.3933, 1.7128, 2.0817, 1.3221, 1.7804, 2.2415, 0.3765, 2.9141, 2.9131, 2.9119, 2.9114, 2.9113, 2.9102, 2.9099, 2.9085, 2.9078, 2.9064, 2.906, 2.9056, 2.9055, 2.9051, 2.9045, 2.9035, 2.9022, 2.9015, 2.9001, 2.8978, 2.8968, 2.8958, 2.8954, 2.895, 2.8941, 2.8917, 2.8911, 2.8905, 2.8905, 2.8892, 2.8862, 2.8722, 2.8804, 2.7908, 2.8756, 2.7769, 2.728, 2.5423, 2.6643, 2.6092, 2.3597, 2.6134, 2.4471, 2.7009, 2.3827, 2.3353, 2.3169, 2.2791, 1.6718, 1.9527, 1.4744, 1.7041, 1.9948, 1.7954, 0.3046, 1.8644, 1.2052, -0.3921]}, \"token.table\": {\"Topic\": [18, 13, 15, 15, 12, 2, 15, 16, 18, 18, 4, 10, 14, 10, 12, 6, 12, 13, 1, 4, 16, 18, 6, 18, 1, 10, 14, 17, 18, 4, 6, 7, 7, 6, 3, 8, 10, 1, 8, 6, 6, 1, 17, 12, 10, 12, 6, 6, 13, 9, 11, 8, 8, 8, 14, 13, 5, 2, 4, 8, 10, 8, 9, 18, 6, 8, 11, 12, 13, 11, 9, 11, 2, 11, 1, 8, 17, 1, 13, 14, 9, 11, 10, 16, 17, 2, 11, 2, 8, 2, 12, 17, 1, 5, 10, 12, 17, 16, 6, 10, 17, 2, 16, 7, 8, 6, 8, 11, 2, 2, 11, 7, 7, 11, 1, 7, 8, 18, 17, 10, 10, 8, 11, 12, 17, 4, 14, 3, 3, 1, 14, 8, 3, 8, 15, 17, 14, 7, 17, 15, 2, 12, 12, 14, 6, 6, 17, 3, 1, 3, 9, 14, 4, 6, 14, 5, 9, 15, 1, 5, 5, 9, 15, 1, 10, 13, 14, 18, 3, 15, 6, 5, 18, 9, 12, 10, 3, 5, 12, 16, 18, 1, 14, 10, 17, 8, 9, 12, 15, 7, 10, 11, 10, 2, 1, 2, 13, 3, 14, 16, 6, 13, 3, 16, 12, 7, 7, 1, 4, 6, 10, 4, 16, 8, 12, 15, 5, 14, 18, 11, 14, 2, 7, 9, 10, 14, 18, 6, 9, 15, 17, 10, 17, 18, 8, 14, 6, 18, 2, 15, 12, 13, 15, 9, 16, 8, 9, 14, 18, 10, 10, 7, 11, 2, 7, 11, 8, 8, 3, 9, 16, 9, 10, 16, 2, 6, 15, 18, 1, 3, 15, 3, 1, 10, 5, 10, 12, 13, 17, 4, 5, 6, 7, 15, 16, 17, 6, 13, 5, 8, 10, 13, 17, 6, 9, 12, 13, 1, 4, 6, 6, 18, 4, 6, 8, 10, 11, 10, 12, 17, 2, 11, 15, 17, 9, 1, 3, 6, 9, 14, 15, 2, 6, 10, 11, 13, 6, 18, 10, 5, 10, 4, 5, 6, 17, 9, 13, 9, 18, 8, 14, 5, 7, 1, 11, 4, 6, 9, 18, 4, 5, 8, 13, 13, 1, 4, 10, 1, 2, 8, 8, 11, 8, 3, 4, 2, 10, 8, 9, 14, 9, 14, 9, 2, 7, 16, 17, 9, 5, 14, 18, 4, 18, 7, 16, 11, 9, 11, 1, 9, 11, 14, 16, 18, 11, 4, 18, 9, 11, 6, 1, 6, 7, 14, 14, 16, 2, 12, 14, 3, 11, 17, 13, 3, 5, 10, 18, 5, 15, 12, 13, 5, 8, 9, 10, 11, 3, 9, 13, 14, 14, 14, 10, 12, 14, 18, 12, 13, 15, 3, 12, 13, 9, 4, 6, 2, 15, 15, 15, 2, 10, 2, 4, 9, 18, 14, 1, 18, 3, 5, 16, 6, 7, 10, 7, 6, 12, 14, 9, 14, 5, 5, 5, 2, 14, 15, 4, 5, 7, 8, 15, 4, 17, 1, 2, 5, 15, 8, 7, 11, 1, 7, 11, 4, 1, 3, 1, 4, 10, 8, 9, 13, 6, 12, 15, 9, 18, 16, 16, 12, 13, 14, 17, 5, 2, 6, 17, 1, 16, 18, 2, 5, 10, 11, 11, 18, 18, 8, 15, 1, 1, 3, 13, 17, 18, 8, 13, 16, 18, 5, 12, 13, 14, 12, 4, 13, 17, 8, 18, 4, 6, 7, 9, 7, 5, 6, 9, 10, 11, 13, 14, 18, 13, 11, 17, 18, 14, 1, 6, 15, 4, 5, 15, 16, 6, 15, 18, 2, 9, 3, 16, 2, 16, 6, 16, 10, 2, 10, 1, 3, 5, 11, 10, 12, 15, 12, 15, 5, 7, 12, 14, 1, 6, 15, 16, 15, 16, 17, 2, 1, 3, 2, 3, 14, 2, 12, 15, 2, 12, 12, 15, 12, 7, 11, 17, 3, 16, 11, 5, 6, 11, 7, 14, 16, 3, 5, 10, 12, 12, 12, 12, 15, 1, 7, 13, 17, 9, 6, 13, 13, 15, 1, 3, 12, 13, 14, 17, 13, 1, 13, 14, 18, 1, 3, 6, 11, 18, 2, 7, 1, 3, 5, 12, 17, 3, 13, 14, 15, 3, 12, 13, 14, 6, 13, 15, 15, 11, 18, 4, 16, 17, 18, 3, 1, 11, 2, 1, 12, 17, 2, 17, 2, 6, 8, 5, 10, 14, 5, 14, 18, 5, 9, 12, 15, 5, 15, 7, 16, 5, 15, 15, 15, 15, 3, 5, 10, 8, 1, 3, 9, 15, 9, 4, 4, 14, 2, 10, 14, 5, 15, 11, 18, 4, 8, 10, 11, 3, 1, 4, 14, 16, 2, 4, 10, 12, 16, 17, 6, 14, 12, 12, 17, 3, 15, 17, 7, 1, 18, 1, 5, 7, 10, 14, 17, 7, 7, 6, 15, 3, 7, 8, 8, 2, 13, 14, 15, 18, 3, 14, 1, 2, 5, 14, 15, 14, 15, 3, 10, 4, 8, 11, 14, 8, 13, 4, 8, 13, 1, 1, 9, 9, 1, 6, 11, 16, 1, 9, 16, 3, 16, 4, 10, 16, 4, 2, 12, 17, 6, 7, 9, 15, 16, 18, 5, 16, 1, 4, 12, 12, 10, 12, 11, 16, 17, 8, 12, 4, 1, 13, 17, 11, 11, 1, 5, 2, 12, 15, 2, 3, 15, 17, 1, 4, 7, 10, 16, 1, 11, 5, 14, 18, 8, 13, 15, 17, 9, 13, 15, 17, 17, 5, 6, 9, 12, 13, 6, 5, 14, 4, 5, 14, 18, 1, 3, 8, 1, 11, 3, 17, 10, 4, 5, 16, 17, 18, 13, 8, 14, 10, 1, 3, 4, 9, 4, 8, 13, 3, 9, 16, 3, 3, 3, 8, 8, 2, 4, 2, 10, 16, 17, 1, 3, 18, 4, 11, 12, 17, 18, 4, 7, 10, 18, 4, 7, 9, 10, 14, 1, 6, 10, 13, 15, 17, 13, 6, 6, 13, 7, 7, 8, 14, 14, 4, 7, 12, 17, 1, 14, 7, 7, 6, 2, 18, 5, 7, 6, 1, 9, 18, 2, 12, 2, 8, 14, 15, 10, 1, 6, 8, 16, 1, 11, 6, 7, 7, 15, 7, 13, 15, 17, 9, 15, 13, 3, 14, 3, 14, 8, 13, 16, 5, 9, 11, 9, 9, 8, 10, 13, 3, 15, 3, 17, 7, 11, 13, 9, 17, 4, 5, 8, 9, 18, 17, 2, 6, 2, 17, 7, 8, 2, 8, 12, 15, 2, 9, 14, 8, 8, 2, 2, 12, 13, 6, 18, 9, 13, 10, 12, 17, 9, 4, 4, 5, 6, 4, 10, 13, 16, 1, 1, 14, 16, 6, 8, 16, 11, 5, 11, 16, 17, 2, 5, 14, 12, 14, 18, 16, 18, 14, 4, 12, 15, 16, 17, 4, 5, 10, 12, 14, 2, 12, 13, 1, 3, 14, 1, 5, 9, 11, 17, 8, 2, 10, 13, 3, 5, 3, 4, 11, 14, 3, 4, 17, 15, 13, 3, 5, 4, 5, 10, 16, 18, 10, 13, 18, 8, 11, 15, 3, 13, 15, 9, 17, 1, 8, 16, 10, 12, 5, 16, 18, 18, 12, 16, 17, 2, 6, 8, 17, 1, 6, 5, 16, 5, 14, 17, 16, 2, 12, 10, 12, 13, 17, 5, 12, 1, 2, 8, 18, 18, 4, 4, 5, 4, 8, 4, 9, 6, 11, 4, 7, 18, 7, 10, 10, 13, 2, 4, 11, 16, 4, 11, 16, 6, 13, 9, 3, 14, 18, 18, 18, 1, 10, 16, 2, 12, 1, 2, 7, 3, 8, 16, 3, 13, 17, 1, 3, 4, 11, 16, 10, 1, 13, 12, 5, 16, 17, 3, 6, 15, 3, 15, 16, 1, 7, 1, 8, 10, 12, 8, 1, 18, 5, 5, 5, 5, 17, 17, 10, 16, 17, 4, 13, 18, 11, 5, 6, 10, 17, 1, 4, 6, 11, 16, 18, 5, 7, 9, 16, 4, 16, 4, 14, 18, 18, 14, 8, 10, 17, 4, 12, 9, 10, 13, 15, 14, 10, 9, 5, 16, 17, 3, 15, 16, 17, 1, 9, 13, 15, 13, 16, 5, 13, 4, 6, 12, 11, 1, 14, 7, 5, 8, 13, 15, 13, 4, 2, 8, 16, 4, 5, 9, 11, 5, 6, 7, 6, 1, 14, 9, 18, 17, 8, 1, 16, 2, 17, 5, 18, 13, 15, 13, 11, 13, 1, 5, 7, 10, 17, 6, 12, 2, 12, 11, 4, 7, 8, 10, 7, 8, 5, 7, 17, 18, 9, 9, 15, 2, 12, 1, 4, 11, 13, 15, 17, 11, 16, 4, 18, 7, 18, 7, 14, 9, 15, 5, 10, 2, 6, 6, 2, 11, 13, 14, 18, 1, 4, 8, 14, 1, 11, 1, 18, 5, 5, 17, 17, 10, 11, 15, 16, 2, 16, 6, 8, 9, 10, 13, 15, 3, 11, 11, 5, 4, 18, 3, 12, 13, 15, 17, 12, 15, 15, 2, 3, 15, 3, 6, 4, 13, 14, 18, 13, 6, 9, 13, 18, 14, 18, 1, 7, 18, 8, 10, 2, 2, 7, 4, 14, 18, 5, 12, 13, 14, 16, 2, 4, 4, 9, 2, 4, 5, 8, 11, 4, 13, 14, 5, 5, 4, 6, 11, 18, 10, 2, 3, 2, 4, 5, 9, 18, 18, 7, 15, 4, 11, 18, 16, 8, 11, 13, 11, 11, 3, 18, 14, 15, 4, 1, 3, 1, 3, 11, 14, 2, 12, 15, 17, 2, 8, 10, 16, 5, 4, 5, 16, 5, 13, 14, 5, 11, 14, 10, 16, 3, 16, 10, 15, 1, 11, 15, 11, 9, 5, 17, 1, 11, 17, 1, 11, 3, 4, 5, 12, 14, 17, 2, 7, 7, 7, 14, 16, 17, 9, 4, 9, 9, 9, 9, 9, 5, 10, 16, 13, 12, 17, 4, 12, 12, 14, 18, 12, 6, 15, 16, 2, 9, 14, 9, 2, 16, 10, 8, 9, 11, 18, 6, 11, 16, 2, 3, 1, 7, 15, 16, 11, 5, 2, 3, 15, 1, 4, 5, 13, 15, 2, 3, 15, 4, 5, 6, 9, 10, 11, 13, 14, 15, 16, 17, 2, 5, 2], \"Freq\": [0.9984887883130127, 0.6836876195025612, 0.309795952587098, 0.9622668285405612, 0.9828133065202384, 0.09535328398964005, 0.8637885726120335, 0.03926311693691061, 0.9935803949121943, 0.9757306226582075, 0.7356356235121372, 0.2629992643644428, 0.9650622504905348, 0.994004227794571, 0.9957806081797185, 0.053531221666763926, 0.3589740747065346, 0.5856945429422407, 0.993981979760338, 0.16515269336237123, 0.8301095903213922, 0.9897011050961255, 0.9945179596867848, 0.9898094188525746, 0.9575534419022301, 0.022400160242089413, 0.9632068904098448, 0.0212327127234173, 0.9660884289154871, 0.28737736936701624, 0.00552648787244262, 0.7018639598002128, 0.9606004780206872, 0.9838468885077265, 0.008681420171077345, 0.9723190591606626, 0.008681420171077345, 0.01978233437034228, 0.9693343841467716, 0.984543229186854, 0.9974699455045681, 0.9162533590163664, 0.0791823890507971, 0.9959061756201094, 0.6522232425601563, 0.3430524847231991, 0.981518115538486, 0.995372751020462, 0.9597602707652014, 0.5333766659875365, 0.4602524456505355, 0.9970274830617255, 0.986760873242722, 0.9881794472268635, 0.9951925334700573, 0.9922977274260782, 0.9526957615005051, 0.9888436888568057, 0.042187039699137986, 0.3664245733867985, 0.5906185557879318, 0.9785370275799693, 0.019944703746852876, 0.9965865839595291, 0.20437607912309333, 0.7942797620465673, 0.9916659905785704, 0.9940932252099977, 0.976730797956556, 0.9936227012947894, 0.6773194495373721, 0.3190927184487175, 0.0011685920832282075, 0.9979776390768893, 0.7268491229171063, 0.2598790160150548, 0.008121219250470463, 0.41432254867397916, 0.002743857938238273, 0.5816978829065138, 0.9429716453326081, 0.9963551995826899, 0.18671445533239067, 0.6403722335228086, 0.17212738850954765, 0.9913735379702486, 0.005136650455804397, 0.02344853614066584, 0.9672521158024658, 0.9923659063296257, 0.2356354180939446, 0.7587460462625015, 0.04864256351959643, 0.9339372195762514, 0.9079230506557042, 0.08730029333227925, 0.9914708331611113, 0.9895801398623596, 0.9898307130148821, 0.9867275077432981, 0.9953792161905876, 0.9679749786078122, 0.018614903434765618, 0.010223869762247931, 0.9814914971758014, 0.062198508925006536, 0.40740023345879284, 0.5286873258625556, 0.9963540647382582, 0.9880714327095399, 0.9904637757459527, 0.9842964548247786, 0.9607863266237583, 0.9824622021392072, 0.0022741538187096614, 0.11370769093548308, 0.2933658426135463, 0.5867316852270926, 0.9954026054380105, 0.9979212991574546, 0.9956941221028794, 0.3749129024242466, 0.10066154640431826, 0.21056752053964534, 0.31225622558074234, 0.9431351081490874, 0.039297296172878644, 0.9819468180747105, 0.9905865162642002, 0.9800697532037821, 0.9846960873719678, 0.9774167114950328, 0.07176704362614911, 0.7493323672730274, 0.1709744274622964, 0.006332386202307274, 0.9785977896826562, 0.9312705535439154, 0.02822031980436107, 0.9970488428777129, 0.35250182723261453, 0.6450033434469118, 0.9867873976544802, 0.9837004907384062, 0.9987952151497431, 0.9791732702039128, 0.01398818957434161, 0.9920580161059918, 0.463085998679657, 0.20888134408529208, 0.003941157435571549, 0.323174909716867, 0.9234816737017121, 0.0580474194898219, 0.010554076270876709, 0.37041363818918427, 0.3424856257860315, 0.2866296009797259, 0.03516299964039164, 0.9494009902905743, 0.46948706692908176, 0.2595622330378844, 0.26886924537788826, 0.00013577884457106695, 0.200816911120608, 0.7050995398575507, 0.057162893564419184, 0.036660288034188075, 0.7008850017050495, 0.2932781212808363, 0.9980162553165768, 0.9935206347664023, 0.9753462702187722, 0.0021466404009437474, 0.9960411460378988, 0.9834280726419634, 0.33171004654652525, 0.4621578176603273, 0.02857427367254712, 0.17020328231038936, 0.004969438899573412, 0.9742715039663936, 0.011462017693722277, 0.97915642364725, 0.9782833866219743, 0.020488256009176406, 0.9629480324312911, 0.9797067684985467, 0.01804722994602586, 0.9608195357404735, 0.7490560336590797, 0.24425740228013465, 0.982605666797562, 0.9873294562469963, 0.9913739673500901, 0.0035030882238519085, 0.0035030882238519085, 0.15025105013748627, 0.8471297302989701, 0.001430962382261774, 0.581634021836122, 0.4162674862160481, 0.9813463567363877, 0.9791367482848075, 0.9871344565471065, 0.9603023988143797, 0.9605684904296565, 0.1030005226102245, 0.38303319345677234, 0.013518818592591965, 0.5001962879259026, 0.9432146310872422, 0.9785328454497414, 0.9978323116857489, 0.6960338812852093, 0.30062163744224996, 0.9647123373103773, 0.010049086846983097, 0.010049086846983097, 0.9945742653803844, 0.9934395011842502, 0.5844790904799169, 0.4100533933209888, 0.0030600999501566328, 0.029798666717926674, 0.9058794682249709, 0.05363760009226801, 0.36681600523385804, 0.22903633497528697, 0.279138033251131, 0.12346489932261563, 0.5580543128367437, 0.3446806049874005, 0.09519750042509156, 0.03169122385793382, 0.9507367157380145, 0.4250869757231184, 0.5742063248378342, 0.4805463583189297, 0.5189286553092596, 0.6399115564732658, 0.029891006927731195, 0.3294110967545887, 0.9671616477394784, 0.9965031756019146, 0.40594819272709026, 0.02485397098329124, 0.1843336181260767, 0.3831653859924066, 0.9972829029144853, 0.982605666797562, 0.9090935064073413, 0.08809045604722299, 0.0073102162364637934, 0.9759138675679164, 0.01096532435469569, 0.9887137413192485, 0.9812831364289534, 0.010301369674994783, 0.30389040541234613, 0.6798903985496557, 0.9878873759021182, 0.027939585617617228, 0.9592591062048582, 0.9842647469513699, 0.004872597757185, 0.004872597757185, 0.9800547908706015, 0.4457092968534518, 0.09550913504002538, 0.4570794319772643, 0.9855477654158148, 0.9841827110623512, 0.9868619954939938, 0.2255420901884005, 0.21678317406457911, 0.0021897290309553447, 0.21897290309553444, 0.3328388127052124, 0.016937567600568297, 0.33633169949699904, 0.024196525143668993, 0.03871444022987039, 0.004839305028733799, 0.457314325215344, 0.11856297320397807, 0.026670493008683616, 0.9334672553039266, 0.008946149030934132, 0.020128835319601798, 0.42270554171163777, 0.369028647526033, 0.17892298061868264, 0.2737167287570888, 0.3806373259278266, 0.19388268286960458, 0.15111444400130947, 0.8908928386157603, 0.09754301152727303, 0.006502867435151535, 0.9988184576119788, 0.9800547908706015, 0.9881471152379511, 0.0047616692932224815, 0.1523734173831194, 0.7190120632765947, 0.12380340162378452, 0.449520318905254, 0.13975805738585623, 0.40884446638250477, 0.10413903008039793, 0.008443705141653886, 0.07036420951378239, 0.8162248303598756, 0.9848998122566631, 0.17689316799486093, 0.11376400766955741, 0.014467099241215394, 0.15650770997314833, 0.3873237024125394, 0.15058935119265113, 0.09154651041800843, 0.10462458333486678, 0.22232723958659192, 0.006539036458429174, 0.5754352083417673, 0.8548331112593931, 0.14326811920548488, 0.9895135044118958, 0.9758074406616676, 0.013743766769882641, 0.8003159251926384, 0.005444326021718629, 0.18510708473843338, 0.9824001159630573, 0.119726723301215, 0.838087063108505, 0.4504946079453427, 0.5461475726460661, 0.9811494771958033, 0.9723133820508545, 0.9922060585893812, 0.005062275809129496, 0.9910059250601303, 0.9833015208826442, 0.7238619608460429, 0.0009537048232490684, 0.27371328427248265, 0.0009537048232490684, 0.9713396138535925, 0.014284406086082243, 0.9827580336942645, 0.9596607285229363, 0.9589696202913669, 0.012407185485760728, 0.9553532824035761, 0.012407185485760728, 0.0013326671346815284, 0.0013326671346815284, 0.9955023496071017, 0.9870239599403752, 0.9961055497616447, 0.999616666467496, 0.9978524471077341, 0.9432187657951737, 0.015877621190965724, 0.9685348926489092, 0.9981935877237825, 0.03764041229544015, 0.9410103073860038, 0.7724064258893236, 0.22528520755105272, 0.9684679823937036, 0.025060894704384457, 0.9344133596920491, 0.003580127814912065, 0.03222115033420859, 0.9766559031003259, 0.001323421065508531, 0.8218444816807978, 0.17601500171263462, 0.9970183030146411, 0.9976236001400923, 0.9988124923464866, 0.9931488066498202, 0.9910276682461863, 0.8187740461062871, 0.18093997588019867, 0.00992455133279649, 0.9825305819468525, 0.22826359907262647, 0.30631502327165355, 0.2842249975549478, 0.18113821087698745, 0.9986016004782436, 0.01365872511870687, 0.9697694834281878, 0.01210186900260854, 0.9802513892112917, 0.981518115538486, 0.978664355264896, 0.9996988805858472, 0.9604958902108355, 0.9884308125292735, 0.029453103015338905, 0.9572258479985144, 0.35093094368652533, 0.6470289274220311, 0.9806736845314012, 0.9877940646916515, 0.9907725420551858, 0.9938830047127275, 0.9589696202913669, 0.004736060302857814, 0.2912677086257556, 0.07577696484572502, 0.6275279901286603, 0.9703437509895471, 0.014062952912891986, 0.13293554270666189, 0.8419251038088587, 0.07117098936721324, 0.4442051405332964, 0.0760793334615038, 0.11043774212153779, 0.29940898975172464, 0.986246105596372, 0.08106263731048564, 0.18715932437862126, 0.7313518822056315, 0.9864484311948349, 0.9745577617183482, 0.8987381920303865, 0.08987381920303865, 0.2568839273759471, 0.7390352987584939, 0.31460933956975096, 0.004494419136710727, 0.6786572896433198, 0.005131360139678252, 0.9852211468182245, 0.005131360139678252, 0.942975441457508, 0.004853486780338467, 0.9901113031890473, 0.9959127977735287, 0.9854634180392703, 0.9977452293695428, 0.9836525073727078, 0.9955152408306703, 0.0018133246645367401, 0.003656197535404975, 0.16087269155781891, 0.003656197535404975, 0.8299568405369293, 0.9935974133841146, 0.8896849891386608, 0.10345174292310008, 0.045739326800247684, 0.2458488815513313, 0.7032421495538081, 0.06339025582468324, 0.8161495437427968, 0.11093294769319567, 0.9855135805275211, 0.9946323263558343, 0.7994210819788571, 0.1969588172991387, 0.9035256601512813, 0.07856744870880707, 0.9977747359267506, 0.9856474009746292, 0.9826750823919139, 0.15603452622736774, 0.7801726311368388, 0.055726616509774195, 0.0025924576720914136, 0.15554746032548483, 0.005184915344182827, 0.4407178042555403, 0.3940535661578949, 0.004617361907608274, 0.9927328101357789, 0.5980826377060124, 0.10211166985224603, 0.2844539374455425, 0.010940536055597787, 0.9786506168268237, 0.3621475334441935, 0.636766962128461, 0.0009892700462755197, 0.5648731964233217, 0.4333002802686776, 0.9794988161160273, 0.7574137260892478, 0.23853614100862677, 0.1456781130360073, 0.8425707078298801, 0.007874492596540935, 0.6923368906701229, 0.03416135973701264, 0.2732908778961011, 0.9941853892067782, 0.22792930587569282, 0.7712868454750933, 0.0016663006014392217, 0.9964477596606546, 0.988293507565724, 0.96317208891557, 0.9937901675070677, 0.36871184790325956, 0.6283150877535137, 0.9931025423101791, 0.9821944786167363, 0.1055618460977489, 0.8911855853252262, 0.0020300355018797863, 0.9891987904903912, 0.18284293985573175, 0.8058633275122992, 0.017576610330278693, 0.7499353740918909, 0.2109193239633443, 0.011717740220185796, 0.035440019492816624, 0.9568805263060488, 0.9936759088989275, 0.03261795703249622, 0.9459207539423903, 0.9902175434525756, 0.9831286724051617, 0.9853250135244955, 0.7326461752051415, 0.008231979496686984, 0.2551913643972965, 0.0021915106241226843, 0.4361106142004142, 0.008766042496490737, 0.5500691666547938, 0.3832060381593287, 0.12850716083288666, 0.31374270797938997, 0.1748160476195125, 0.9866155167792264, 0.008867915621339118, 0.9222632246192682, 0.06207540934937382, 0.01837485385894507, 0.9554924006651436, 0.9746655341199882, 0.0008813774671671673, 0.8187996669982984, 0.17980100330210214, 0.9984900734659089, 0.007695611749376175, 0.0010993731070537392, 0.025285581462236004, 0.17480032402154455, 0.2044833979119955, 0.1758996971285983, 0.08355235613608418, 0.32651381279496056, 0.9596211744429632, 0.22896145070955815, 0.2089551103562958, 0.5601775298913462, 0.9745577617183482, 0.9911419860289237, 0.14246077981773306, 0.8547646789063983, 0.9308043338203157, 0.0224290200920558, 0.0336435301380837, 0.9826005728644859, 0.9902272999894405, 0.9832661469873188, 0.9812937100777441, 0.5180216895185448, 0.47783035153865766, 0.9822712831200954, 0.009095104473334217, 0.9870473217900467, 0.9983289280735075, 0.9835180971392223, 0.9662057880842319, 0.9986455565305923, 0.0025129389943004225, 0.9967991344058342, 0.3164430975207563, 0.6756990847060855, 0.0018614299854162134, 0.003722859970832427, 0.5819332905311926, 0.2567352752343497, 0.15746430214373447, 0.9988365213472783, 0.9777759793886673, 0.08280142614155023, 0.5649979666129309, 0.15153202169695465, 0.19969755716491525, 0.25073761554724705, 0.016941730780219395, 0.07793196158900922, 0.6505624619604248, 0.2394477785564512, 0.722948100641593, 0.03683811977791557, 0.9920263271221729, 0.9640855517123521, 0.017528828212951857, 0.9802626141545188, 0.025796052368035872, 0.9544539376173272, 0.19512493313437462, 0.49323246986744695, 0.3089478107960931, 0.836982009188467, 0.15478434416499048, 0.37914186384368065, 0.6189153745748621, 0.9767509202083832, 0.00529147874794693, 0.984215047118129, 0.00529147874794693, 0.9176197142244954, 0.07390225886371775, 0.9830821216352649, 0.9821944786167363, 0.0074506883599972495, 0.9834908635196369, 0.010614823803245934, 0.010614823803245934, 0.9659489660953801, 0.9886550912161913, 0.7241422713944043, 0.27112435753629355, 0.9980487608402769, 0.9843186903705281, 0.9880033283423278, 0.9840021902184379, 0.9733076148519706, 0.01913961501244411, 0.2870942251866616, 0.1607727661045305, 0.5282533743434574, 0.9766559031003259, 0.3352324696500218, 0.6580489219055984, 0.9591867361079576, 0.9816557819678831, 0.47201351885381615, 0.525957921008538, 0.15012198563059284, 0.06134792682019419, 0.13207847774230042, 0.6553402065027802, 0.995977184172871, 0.44108379058776326, 0.0017365503566447373, 0.28653080884638166, 0.26916530527993426, 0.8026666784891988, 0.11113846317542753, 0.0009499013946617738, 0.08359132273023609, 0.0009499013946617738, 0.26322092977041284, 0.7356687524352564, 0.14368025883660066, 0.6845941744567443, 0.16903559863129491, 0.42693575524988914, 0.5709622750932252, 0.2549367684698884, 0.2063209195988864, 0.001185752411487853, 0.5371458424039973, 0.0024778153591000986, 0.0024778153591000986, 0.8505101220111089, 0.1437132908278057, 0.038937951726541006, 0.9474901586791645, 0.9754327483021429, 0.9601684878591028, 0.46785195848633176, 0.530553767355634, 0.4962707493570178, 0.03017862665008892, 0.3420244353676744, 0.12742086807815323, 0.9905865162642002, 0.9952053719864111, 0.9916659905785704, 0.9893249304288815, 0.0070603340720024384, 0.2659392500454252, 0.7248609647255837, 0.9980732851387794, 0.9919230403601227, 0.6253182199713306, 0.0037110873588803, 0.3692531922085899, 0.26795914755652833, 0.05055832972764685, 0.6805151181341266, 0.8500418052383695, 0.14489348952926753, 0.996197490278299, 0.9808649874439371, 0.00801796992460984, 0.005345313283073227, 0.0026726566415366136, 0.951122425796695, 0.9893678290394048, 0.9908967951254395, 0.985225713901828, 0.9972034728645464, 0.9919640709489467, 0.9955187330433894, 0.9803726257867139, 0.9929707980826762, 0.9959807142876941, 0.9827479030262548, 0.009827479030262548, 0.9925206618261513, 0.43864624254838996, 0.20337234881788988, 0.0717784760533729, 0.2851200576564535, 0.9807045276714736, 0.9718093950537711, 0.18685769517300088, 0.8108918847130228, 0.5625187876119193, 0.004835405051105323, 0.4303510495483738, 0.9346091305401345, 0.03977060129958019, 0.260720107886108, 0.7377824329543057, 0.5499382959581605, 0.002401477274926465, 0.18491375016933778, 0.2593595456920582, 0.9944242729194055, 0.0020913644321844805, 0.07947184842301025, 0.5604856678254407, 0.3555319534713617, 0.1107465537731599, 0.10733896750321652, 0.11756172631304666, 0.16583586513724458, 0.24193862516598008, 0.25670483233573477, 0.21965574829200257, 0.7752555822070679, 0.977396925113654, 0.030588878710148485, 0.9688332129650666, 0.0027903864904364126, 0.18137512187836682, 0.8147928552074325, 0.977331346024008, 0.6848628684059904, 0.3113013038209047, 0.0010568970496353932, 0.0031706911489061797, 0.3255242912877011, 0.28060616667819693, 0.16276214564385055, 0.22670441714679185, 0.994215555977353, 0.9947494352983818, 0.9768387605573194, 0.011492220712439053, 0.0017285480289445153, 0.7432756524461416, 0.25409656025484373, 0.9982561119633281, 0.1385635553028132, 0.2628632152068074, 0.2975041040325107, 0.016301594741507434, 0.2832402086336917, 0.034881083000382625, 0.9417892410103309, 0.0030604826171969886, 0.27442327467532995, 0.0020403217447979923, 0.5621086406918469, 0.15710477434944542, 0.9740901169688, 0.024660509290349367, 0.9895773612570401, 0.9968972991999112, 0.30739688062410847, 0.08453414217162983, 0.6071088392326143, 0.9887648667215522, 0.9904804368967874, 0.004161682507969695, 0.023624277971131886, 0.9331589798597094, 0.023624277971131886, 0.9870232608745444, 0.4228267725539327, 0.5724423997653243, 0.9913467389837121, 0.030201338070525628, 0.011615899257894472, 0.0023231798515788945, 0.9525037391473468, 0.5891195087852384, 0.012209730752025668, 0.3937638167528278, 0.9920580161059918, 0.9925659579526335, 0.6787399686086992, 0.19313738944149977, 0.12140064479179985, 0.9871029891942086, 0.1791054903043408, 0.0012020502704989315, 0.8173941839392734, 0.13567902426153708, 0.09539931393389325, 0.10811922245841235, 0.6593152585209067, 0.9907982556902235, 0.9789337110889376, 0.939538706439022, 0.02539293801186546, 0.9575534419022301, 0.9833706827819311, 0.9986477148417969, 0.9984329193696414, 0.98581728272348, 0.9969387832026191, 0.06195548724767653, 0.932148467226406, 0.0028161585112580242, 0.9942520624395712, 0.986033102719384, 0.9432161346132049, 0.34808742075625554, 0.004520615853977345, 0.6464480671187602, 0.9955757523625985, 0.9887149210699042, 0.5897982718261375, 0.4073192484987138, 0.06773900052981369, 0.2921244397848215, 0.6392868175001166, 0.9888436888568057, 0.6794070819246198, 0.31685352699623526, 0.9753644345067097, 0.04018821377006486, 0.7980231020055737, 0.0019137244652411838, 0.15692540614977707, 0.0019137244652411838, 0.2611797692655385, 0.7373638789761887, 0.01742007645692175, 0.9406841286737745, 0.01742007645692175, 0.13892299180304213, 0.15221127797550701, 0.3442874144684087, 0.3636158307192668, 0.46754193117203324, 0.1815540832386246, 0.35025478005327576, 0.9977823716123939, 0.9792619132502592, 0.32577956441427763, 0.02159453112688926, 0.21929618678858231, 0.24647551044828775, 0.1869043900982484, 0.9900286023812679, 0.46558159313879394, 0.5336222528914256, 0.0007938758939721641, 0.5215764623397118, 0.1786220761437369, 0.2977034602395615, 0.7328786619666936, 0.2611502019451453, 0.005803337821003229, 0.9776766704316142, 0.012220958380395178, 0.9797736340960381, 0.9946403530609205, 0.9846329194096098, 0.0015683268965080857, 0.34973689792130314, 0.054891441377783005, 0.19290420827049456, 0.3983550317130538, 0.9592735687556286, 0.16986509120401183, 0.8280923196195578, 0.9859011899519365, 0.9585042949187575, 0.99858871518759, 0.27077890416430306, 0.718964676574184, 0.27130898530295955, 0.005898021419629555, 0.7195586131948057, 0.9830244543258092, 0.002708056348004984, 0.010832225392019936, 0.9891579403703262, 0.9934521433213643, 0.9985496019870327, 0.9914131129822089, 0.9961484886726999, 0.9889259805051471, 0.9925167564125701, 0.015181578497154073, 0.03415855161859666, 0.732511162487684, 0.21633749358444554, 0.16336493492697376, 0.8347862643388816, 0.000855313795429182, 0.7154820306141322, 0.005951329274978918, 0.12828420881621225, 0.049594410624824316, 0.09985008005797963, 0.6931303794525546, 0.13690864203772993, 0.09640312664195184, 0.073558015958733, 0.2982813263117225, 0.39467712079051087, 0.3064658748995442, 0.9889388972611708, 0.9678245401341738, 0.0005704470564291213, 0.1871066345087518, 0.10496225838295832, 0.6229281856206005, 0.001711341169287364, 0.08214437612579348, 0.9840350983195469, 0.9911777947063513, 0.9991517281494796, 0.0005422804494705452, 0.997269653042362, 0.9733352147793629, 0.01280704229972846, 0.9733968733681021, 0.9785977896826562, 0.06398808297230743, 0.7528009761447932, 0.18067223427475038, 0.9777804771575943, 0.9945396250455811, 0.9663687679371665, 0.9605338107080922, 0.9608195357404735, 0.9922049838379883, 0.9665621165086091, 0.024367112180889303, 0.029068517043663266, 0.9301925453972245, 0.9983775695893556, 0.7499409630633903, 0.004629265204095002, 0.24072179061294008, 0.6349688195366974, 0.36317404807449477, 0.20137527907384284, 0.12188503733416803, 0.002649674724655827, 0.67301738006258, 0.9849934982400289, 0.9918679786853603, 0.9832012563772773, 0.0855567234361779, 0.9030987473818779, 0.072208902297643, 0.9206635042949483, 0.02957590167665843, 0.9612168044913989, 0.960039184852919, 0.02461638935520305, 0.9778912378755401, 0.9592735687556286, 0.01482534124170857, 0.963647180711057, 0.029535588338271124, 0.9599066209938115, 0.9594763081293487, 0.08573080436124958, 0.9001734457931205, 0.6956543416132799, 0.29872215845746725, 0.9843981136634112, 0.920977003329129, 0.03683908013316516, 0.951122425796695, 0.8169369866110686, 0.18199091285890143, 0.9886152658617997, 0.9901359966312749, 0.5755317408595018, 0.19624688868651863, 0.22832570702950727, 0.9851069998432515, 0.9848405795438842, 0.8146872511078562, 0.1830094549590112, 0.9603023988143797, 0.02400601215389795, 0.960240486155918, 0.9429716453326081, 0.9765472754263842, 0.179923237195851, 0.4375733128603096, 0.07196929487834039, 0.3065891961817301, 0.0014393858975668078, 0.9872915565501561, 0.15655571631657741, 0.8369709449232408, 0.5669052359131491, 0.4295803651018894, 0.9606004780206872, 0.9843981136634112, 0.0015304067721267258, 0.6091018953064369, 0.23262182936326234, 0.15457108398479932, 0.9498366667826083, 0.02316674797030752, 0.01158337398515376, 0.9843981136634112, 0.9905525170285704, 0.9961366379898985, 0.9859294876592865, 0.16301873642645284, 0.8150936821322642, 0.004448759458534877, 0.9920733592532776, 0.966557438924182, 0.9595777305733644, 0.6138691643054511, 0.09444140989314632, 0.2905889535173733, 0.9724482459230713, 0.9694293364592588, 0.9769095192525824, 0.004910636544724615, 0.9935854608826138, 0.5923364162181516, 0.13717264375578248, 0.2696689473835269, 0.9833741346453279, 0.9831286724051617, 0.5202838346400366, 0.30210029108131153, 0.17622516979743175, 0.3852879229108621, 0.6121796997361476, 0.9775286405225267, 0.9850486394666724, 0.6016392917240835, 0.003269778759370019, 0.029428008834330173, 0.36294544229007214, 0.0008689142214087562, 0.5326444177235675, 0.4657380226750933, 0.003938540166931028, 0.21268116901427553, 0.7798309530523436, 0.9898439387179511, 0.9910546671253478, 0.9940224665839751, 0.9432110876822121, 0.0789169047631318, 0.3030409142904261, 0.5034898523887809, 0.1136403428589098, 0.16343591174994834, 0.08527091047823392, 0.009474545608692658, 0.583868873135685, 0.15751432074451543, 0.055407003719587566, 0.12153794364296627, 0.8221684422906541, 0.34811341230218046, 0.36324877805444916, 0.2875719492931056, 0.5856084283492056, 0.2321068231765508, 0.17286616956245207, 0.004855791279844159, 0.0029134747679064954, 0.9945744932196933, 0.9920263271221729, 0.9928103201483489, 0.0033093677338278294, 0.670599109693801, 0.3289839810398527, 0.004839987980802659, 0.2920126081750938, 0.07582647836590832, 0.6259717788504773, 0.9979011493536268, 0.9432161346132049, 0.9753644345067097, 0.9863076311843045, 0.9596607285229363, 0.9030978643397444, 0.09087777251217553, 0.43362383839122104, 0.009823193749962936, 0.18102742767788838, 0.14454127946374035, 0.23014339642770307, 0.37461213218043127, 0.3423709240829351, 0.2824943947590137, 0.28224686268906124, 0.10990921444278086, 0.6075781374396926, 0.9921031915091206, 0.9589696202913669, 0.9848405795438842, 0.9423413940702227, 0.024162599847954425, 0.9769997452959542, 0.009769997452959542, 0.9810583284198523, 0.35042131787892783, 0.6476140811433351, 0.28914612508654475, 0.49154841264712607, 0.2184659611765005, 0.989647330005276, 0.006859156081515841, 0.9808593196567653, 0.006859156081515841, 0.0816043646759024, 0.01419206342189607, 0.5783265844422648, 0.3193214269926616, 0.9854375311638808, 0.9801363204966299, 0.032966448613706414, 0.9560270097974861, 0.2023855541417466, 0.014456111010124758, 0.7782206427117161, 0.9811994956066444, 0.23118938261132507, 0.7642849001621452, 0.982605666797562, 0.9897666101435941, 0.006710282102668434, 0.9865308898533761, 0.00432129756221355, 0.989577141746903, 0.8996474053220068, 0.0012564907895558756, 0.09800628158535829, 0.9950773127351212, 0.9868763479535109, 0.9662365413521299, 0.6897461507451847, 0.30925054431821564, 0.9847015406553704, 0.9826891406823743, 0.9854721230652167, 0.99984555010369, 0.6787336863305093, 0.31739345044232453, 0.027542253406801446, 0.7350932460987696, 0.2369583525861021, 0.9832008882318634, 0.007392487881442582, 0.017452308265014167, 0.9686031087082861, 0.2816171146594819, 0.7178676268228975, 0.992865782744837, 0.9717957877316651, 0.10573167807613124, 0.07835472571713296, 0.8147003408901897, 0.980349228400724, 0.9797123798487123, 0.9839836572853916, 0.9813463567363877, 0.11332625385223985, 0.8825711284856255, 0.9852689591388323, 0.993152248933655, 0.3155960231082199, 0.4628741672253892, 0.21960223274613636, 0.7223208307285641, 0.2754375152194525, 0.07489457880172137, 0.9153781853543723, 0.00832161986685793, 0.9434076184924015, 0.04717038092462008, 0.9929244492527436, 0.9645018048391829, 0.01988663515132336, 0.987127018168994, 0.14717936151436034, 0.002016155637183018, 0.4294411507199829, 0.4153280612597018, 0.002016155637183018, 0.984170544298464, 0.9706158816596941, 0.9591867361079576, 0.9935880040689533, 0.0037123850739966473, 0.2487297999577754, 0.7424770147993295, 0.5833091813249714, 0.005921920622588542, 0.40861252295860945, 0.9708265761708085, 0.007299447941133899, 0.014598895882267798, 0.9448915727596016, 0.030980051565888574, 0.7074985478366842, 0.28889524036664604, 0.8042539025867098, 0.19449277382815858, 0.9812831364289534, 0.006052373519654404, 0.9895630704634951, 0.9908152516484068, 0.993717312706979, 0.9951075400988031, 0.99709079760455, 0.9917231890063771, 0.9929025445990339, 0.9903391080548434, 0.8252504862517004, 0.17142884497015998, 0.5312531763610736, 0.08551880399958746, 0.38224313908906515, 0.9933047677363446, 0.9766360578766622, 0.010389745296560237, 0.9732935357273209, 0.9924425316767536, 0.9907054731498227, 0.10675339461424031, 0.00444805810892668, 0.8451310406960691, 0.00444805810892668, 0.03113640676248676, 0.0008190704765886071, 0.1277749943478227, 0.187567139138791, 0.6831047774748983, 0.6290645721045679, 0.3662907635039256, 0.003198855841779808, 0.3054907328899717, 0.6893534339035486, 0.9749768948352414, 0.980133156119003, 0.12149155075024369, 0.42738991960353584, 0.451254331358048, 0.9918615628372662, 0.977396925113654, 0.0017849801761809065, 0.0017849801761809065, 0.9924489779565839, 0.0017849801761809065, 0.9656982856353382, 0.996354528671031, 0.991041789704855, 0.6366892369544774, 0.15091077069682252, 0.21149538666999942, 0.08421944778763782, 0.8730749420651787, 0.03930240896756432, 0.9790673259115928, 0.004376399626697158, 0.2844659757353153, 0.4529573613631559, 0.2538311783484352, 0.01574076493917671, 0.9601866612897793, 0.00043479427184156235, 0.9991572366919103, 0.9663268979496094, 0.007549428890231323, 0.015098857780462646, 0.9893565580733085, 0.9891987904903912, 0.967076434005652, 0.9605684904296565, 0.06074218364475933, 0.001412608921971147, 0.20765351152975864, 0.7289062037371119, 0.9595777305733644, 0.9432146310872422, 0.9984444885105801, 0.9974178161125461, 0.9791367482848075, 0.9736520408722779, 0.14046971673928157, 0.688970515435524, 0.16722585326104952, 0.7556474954373359, 0.22863180631180932, 0.01162534608365132, 0.9917386408713313, 0.013633757404860135, 0.9679967757450695, 0.7174603145294, 0.269047617948525, 0.998389461661256, 0.9978839504132702, 0.7369287043346044, 0.2584749933113911, 0.9764051692184641, 0.013375413276965262, 0.9829198236505456, 0.9794806126786914, 0.3167596413405333, 0.6803133206063726, 0.9599834629013654, 0.06861753642447195, 0.914900485659626, 0.9726415879401834, 0.45524871548878354, 0.297920115283101, 0.08703284266697332, 0.15900230871850896, 0.9931905436210872, 0.9868725638853784, 0.576781559109316, 0.4202571954848548, 0.9952284651948917, 0.19437979944360786, 0.15092470004876282, 0.05513657772679261, 0.5999607271288281, 0.9063839491890749, 0.08550791973481839, 0.39920758230711484, 0.012808799432313845, 0.4504427800363702, 0.1344923940392954, 0.9814741433912525, 0.9792452217052792, 0.9848405795438842, 0.01042753112718111, 0.9801879259550242, 0.9390082380059207, 0.02874515014303839, 0.00958171671434613, 0.00958171671434613, 0.9777759793886673, 0.9858604812165019, 0.21324115373676972, 0.7818842303681556, 0.9727019649845218, 0.9995051218938996, 0.8482325136044803, 0.14981769071455756, 0.9604958902108355, 0.9785977896826562, 0.07922266861190123, 0.9150218224674592, 0.015602568827210847, 0.9673592672870726, 0.8734567178812241, 0.12477953112588917, 0.9964451133887412, 0.9940176745271058, 0.9957916995815201, 0.0005885293732751301, 0.0023541174931005202, 0.0005885293732751301, 0.004170830440346872, 0.10367492808862226, 0.5684246057272737, 0.32353727558690737, 0.9831473486415419, 0.014511399979948957, 0.963933193230703, 0.017526058058740055, 0.9937132679765606, 0.9841402635724682, 0.9790673259115928, 0.9765472754263842, 0.1544976880444518, 0.013056142651643815, 0.8312410821546562, 0.9646455593572958, 0.9925387057122941, 0.9899253809357859, 0.26163449074665374, 0.16603727297383797, 0.15974798233088955, 0.26792378138960216, 0.14465368478781337, 0.9583244579579562, 0.9932279761210461, 0.9938508728941137, 0.9926928569320346, 0.9821944786167363, 0.6875958820157251, 0.3086541514826144, 0.09346931945195307, 0.15377210619514858, 0.002010092891439851, 0.7477545556156245, 0.0010050464457199255, 0.24650825827691789, 0.753085150531645, 0.9772565513359857, 0.9925719977640745, 0.9802635118420333, 0.9743448742140264, 0.9933685606801547, 0.9828956393787444, 0.05389665780323935, 0.531155468205837, 0.26635884508557417, 0.14762997572191647, 0.9805299851431534, 0.17808794714900014, 0.06372586116550295, 0.757821051697873, 0.0003444641144081241, 0.12148178130884293, 0.8735118560778706, 0.9889497135997461, 0.7106625128190376, 0.2883578258820702, 0.004928355208258567, 0.990599396859972, 0.9960919715470491, 0.6518025782913427, 0.3459287426685897, 0.14358200046998404, 0.5049037379164274, 0.3502769681795215, 0.415872947628252, 0.08562090098228717, 0.3445221968096793, 0.15085587315926788, 0.0020385928805306468, 0.9926501577708782, 0.9825348763538211, 0.9778536637657904, 0.008653572245714959, 0.13569260545977965, 0.6022060258834848, 0.26129237249693105, 0.3966440445984766, 0.6027165827117081, 0.03995833278314172, 0.9190416540122596, 0.9656982856353382, 0.997843184060873, 0.9829198236505456, 0.6463012871863036, 0.28843197940545784, 0.010682665903905845, 0.048071996567576304, 0.993265961193028, 0.7397908156342239, 0.2579533765040386, 0.9807470349396725, 0.14498935231245375, 0.522581943628844, 0.3321057356889538, 0.97395100183392, 0.9825113609974798, 0.9860826652513898, 0.9993830215478705, 0.2892935643408854, 0.5995842422226415, 0.10965159293565817, 0.9867282857928628, 0.1766856043956182, 0.820884445200881, 0.959729852889223, 0.997106850260347, 0.9921371529384948, 0.9980383553314653, 0.9911536191285066, 0.9837004907384062, 0.9733076148519706, 0.9432110876822121, 0.7882153820162053, 0.2102504140451853, 0.12843589620340826, 0.0547741322043947, 0.8121681671686111, 0.0018887631794618862, 0.29263477800748444, 0.007962851102244475, 0.4817524916857907, 0.2149969797606008, 0.9603168736083477, 0.02182538349109881, 0.9897266772347103, 0.9964022706172413, 0.9844525507411584, 0.28059735824688525, 0.41316303930840587, 0.30269163842380536, 0.2288467033742728, 0.39262914794605625, 0.376923982028214, 0.9943063512737432, 0.013642181912969464, 0.9685949158208319, 0.01520915467499885, 0.9733858991999264, 0.1886209063727156, 0.8092445337926186, 0.9872380900337654, 0.9898847736725217, 0.9893499502180674, 0.016618778166112996, 0.9638891336345536, 0.9859334870323722, 0.9799650927120579, 0.005341409309806539, 0.9881607223142097, 0.9946293848786725, 0.002013419807446705, 0.002013419807446705, 0.7419513584293823, 0.2555064280683965, 0.11200593974114727, 0.010182358158286116, 0.06618532802885975, 0.02545589539571529, 0.7636768618714587, 0.015273537237429174, 0.5523572963521011, 0.4455478744055622, 0.9605684904296565, 0.9603023988143797, 0.9733968733681021, 0.96317208891557, 0.9901059640891032, 0.9429737411776493, 0.9432090532053979, 0.9987371136240142, 0.9807045276714736, 0.9908237803553883, 0.9724482459230713, 0.942975441457508, 0.023398306739959553, 0.9593305763383416, 0.9947721130548102, 0.9589696202913669, 0.9950553672725686, 0.9848279876184948, 0.99395641433012, 0.9989633625109051, 0.9945687646006088, 0.003187720399360926, 0.9765484773258887, 0.9914129206110144, 0.9051926007096877, 0.09010967065888294, 0.004095894120858315, 0.00902675760510504, 0.3821327386161134, 0.6047927595420377, 0.9926204049634166, 0.9891634439333357, 0.9775286405225267, 0.9944376154790381, 0.001132760457553883, 0.052106981047478615, 0.9447222215999383, 0.001132760457553883, 0.757868571204368, 0.2405211633163563, 0.9791367482848075, 0.9972701329691086, 0.9819468180747105, 0.17674296237122364, 0.37199139906348044, 0.012075606124741987, 0.43895612393704964, 0.9833015208826442, 0.9749736860185555, 0.36744929898331025, 0.4145383898194067, 0.21769055107834767, 0.08930187612378447, 0.011162734515473059, 0.8930187612378447, 0.012240971587437584, 0.9792777269950067, 0.5463453043577597, 0.45121054986760256, 0.9962275811003779, 0.027036888190547427, 0.13973520431154215, 0.019809205208915937, 0.085126044005882, 0.11189524023414678, 0.016596901661524163, 0.0002676919622826478, 0.0053538392456529554, 0.03801225864413599, 0.31801805119178556, 0.2379781544692739, 0.9870578141886734, 0.009311866171591259, 0.9941403966832504], \"Term\": [\"ability\", \"accelerate\", \"accelerate\", \"acceleration\", \"accelerator\", \"access\", \"access\", \"access\", \"accomplish\", \"accomplished\", \"account\", \"account\", \"accountability\", \"accounting\", \"acquire\", \"acquisition\", \"acquisition\", \"acquisition\", \"action\", \"activity\", \"activity\", \"acumen\", \"ad\", \"adapt\", \"add_value\", \"address\", \"address\", \"adept\", \"adept\", \"administration\", \"administration\", \"administration\", \"administration_mba\", \"adobe\", \"advance\", \"advance\", \"advance\", \"advanced\", \"advanced\", \"advertise\", \"advertising\", \"advice\", \"advice\", \"advisor\", \"advisory\", \"advisory\", \"affiliate\", \"agency\", \"aggressive\", \"agile\", \"agile\", \"ai\", \"ai_ml\", \"algorithm\", \"align\", \"alliance\", \"ambition\", \"american\", \"analysis\", \"analysis\", \"analysis\", \"analytic\", \"analytic\", \"analytical\", \"analytics\", \"analytics\", \"android\", \"angel\", \"apac\", \"api\", \"app\", \"app\", \"application\", \"application\", \"apply\", \"apply\", \"apply\", \"approach\", \"approach\", \"approach\", \"apps\", \"architecture\", \"area\", \"area\", \"area\", \"art\", \"art\", \"artificial_intelligence\", \"artificial_intelligence\", \"artist\", \"asia\", \"asia\", \"assessment\", \"assessment\", \"asset\", \"asset\", \"assignment\", \"assistant\", \"audience\", \"audit\", \"australia\", \"author\", \"author\", \"automate\", \"automate\", \"automation\", \"automation\", \"automation\", \"award\", \"award_winning\", \"aws\", \"bachelor\", \"bachelor_degree\", \"backend\", \"background\", \"background\", \"background\", \"background\", \"bangalore\", \"bank\", \"banking\", \"base\", \"base\", \"base\", \"base\", \"basis\", \"basis\", \"bear\", \"begin\", \"behaviour\", \"best_practice\", \"bi\", \"big\", \"big\", \"big\", \"big\", \"big_picture\", \"biotechnology\", \"biotechnology\", \"blockchain\", \"board\", \"board\", \"board_member\", \"bottom_line\", \"brand\", \"branding\", \"branding\", \"break\", \"bring\", \"bring\", \"bring\", \"bring\", \"budget\", \"budget\", \"budget\", \"build\", \"build\", \"build\", \"builder\", \"builder\", \"building\", \"building\", \"building\", \"business\", \"business\", \"business\", \"business\", \"business\", \"call\", \"call\", \"campaign\", \"candidate\", \"capable\", \"capital\", \"capital\", \"card\", \"career\", \"career\", \"career\", \"career\", \"career\", \"case\", \"case\", \"cash\", \"centre\", \"centric\", \"centric\", \"ceo\", \"ceo\", \"certificate\", \"certify\", \"certify\", \"cfo\", \"chair\", \"challenge\", \"challenge\", \"challenge\", \"change\", \"change\", \"change\", \"channel\", \"channel\", \"chat\", \"chemical\", \"chief\", \"chief_operating\", \"civil\", \"client\", \"client\", \"client\", \"client\", \"client_facing\", \"clinical\", \"cloud\", \"co_founder\", \"co_founder\", \"coaching\", \"coaching\", \"coaching\", \"code\", \"collaboration\", \"college\", \"college\", \"college\", \"combine\", \"combine\", \"combine\", \"commerce\", \"commerce\", \"commerce\", \"commerce\", \"commercial\", \"commercial\", \"commercial\", \"commit\", \"commit\", \"communication\", \"communication\", \"community\", \"community\", \"company\", \"company\", \"company\", \"competitive_analysis\", \"complete\", \"complex\", \"complex\", \"complex\", \"complex\", \"compliance\", \"comprehensive\", \"computer\", \"computer\", \"computer_science\", \"computer_science\", \"computer_science\", \"computer_vision\", \"computing\", \"concept\", \"concept\", \"concept\", \"conceptualize\", \"conduct\", \"conduct\", \"conference\", \"conference\", \"conference\", \"confident\", \"connect\", \"connect\", \"connect\", \"connection\", \"constantly\", \"construction\", \"consult\", \"consult\", \"consult\", \"consult\", \"consult\", \"consultant\", \"consultant\", \"consultant\", \"consultant\", \"consultant\", \"consultant\", \"consultant\", \"consultative\", \"consultative\", \"consulting\", \"consulting\", \"consulting\", \"consulting\", \"consulting\", \"consumer\", \"consumer\", \"consumer\", \"consumer\", \"contact\", \"contact\", \"contact\", \"content\", \"continuous_improvement\", \"contract_negotiation\", \"control\", \"control\", \"control\", \"control\", \"corporate\", \"corporate\", \"corporate\", \"country\", \"country\", \"country\", \"country\", \"craft\", \"create\", \"create\", \"create\", \"create\", \"create\", \"create\", \"creation\", \"creation\", \"creation\", \"creation\", \"creation\", \"creative\", \"creative\", \"credit\", \"critical\", \"critical\", \"crm\", \"crm\", \"crm\", \"cross_border\", \"cross_cultural\", \"cross_cultural\", \"cross_functional\", \"cross_functional\", \"cto\", \"cultivate\", \"culture\", \"culture\", \"curious\", \"custom\", \"customer\", \"customer\", \"customer\", \"customer\", \"customer_satisfaction\", \"customer_satisfaction\", \"cutting_edge\", \"cxo\", \"cxos\", \"cycle\", \"cycle\", \"cycle\", \"data\", \"data\", \"data\", \"data_scientist\", \"database\", \"datum\", \"day\", \"day_day\", \"debt\", \"debt\", \"deep\", \"deep_understande\", \"deep_understande\", \"define\", \"define\", \"definition\", \"degree\", \"degree\", \"degree\", \"degree\", \"delightful\", \"deliver\", \"deliver\", \"deliver\", \"delivery\", \"demonstrate\", \"demonstrated_history\", \"department\", \"deployment\", \"design\", \"design\", \"designer\", \"designer\", \"develop\", \"develop\", \"develop\", \"develop\", \"developer\", \"development\", \"development\", \"devops\", \"devops\", \"di\", \"difficult\", \"digital\", \"diploma\", \"direction\", \"directly\", \"directly\", \"director\", \"director\", \"discipline\", \"discover\", \"distribute\", \"distribution\", \"distributor\", \"diverse\", \"diverse\", \"diverse\", \"diverse\", \"diversity\", \"diversity\", \"dollar\", \"dollar\", \"domain\", \"domain\", \"domain\", \"domain\", \"domain\", \"dream\", \"drive\", \"drive\", \"drive\", \"driver\", \"driving\", \"due_diligence\", \"due_diligence\", \"dynamic\", \"dynamic\", \"early\", \"early\", \"early\", \"early_stage\", \"early_stage\", \"early_stage\", \"ebay\", \"ecommerce\", \"ecommerce\", \"economic\", \"economy\", \"ecosystem\", \"edtech\", \"education\", \"education\", \"effective\", \"effective\", \"effective\", \"effective\", \"efficiency\", \"efficient\", \"efficient\", \"effort\", \"effort\", \"effort\", \"electronic\", \"electronic\", \"electronic\", \"electronics\", \"email\", \"emerge\", \"emerge\", \"empathy\", \"empathy\", \"employee\", \"employee_engagement\", \"employer\", \"empower\", \"empower\", \"empower\", \"enable\", \"enable\", \"enable\", \"enable\", \"enable\", \"energy\", \"energy\", \"engage\", \"engage\", \"engage\", \"engage\", \"engine\", \"engineer\", \"engineer\", \"engineering\", \"engineering\", \"engineering\", \"enhancement\", \"enjoy\", \"enjoy\", \"ensure\", \"ensure\", \"ensure\", \"enterprise\", \"enterprise\", \"enterprise\", \"entertainment\", \"entrepreneur\", \"entrepreneur\", \"environment\", \"environment\", \"environmental\", \"equipment\", \"equity\", \"establish\", \"establish\", \"europe\", \"europe_asia\", \"event\", \"event\", \"event\", \"evolve\", \"excel\", \"excel\", \"excellence\", \"excellence\", \"excellence\", \"excellence\", \"excellent\", \"excellent\", \"exceptional\", \"exchange\", \"exchange\", \"excite\", \"excited\", \"exciting\", \"execute\", \"execute\", \"execute\", \"execution\", \"execution\", \"execution\", \"execution\", \"executive\", \"executive\", \"executive\", \"executive\", \"exit\", \"expansion\", \"expansion\", \"expansion\", \"expectation\", \"expectation\", \"expense\", \"experience\", \"experience\", \"experience\", \"experienced\", \"expertise\", \"expertise\", \"expertise\", \"expertise\", \"expertise\", \"expertise\", \"expertise\", \"expertise\", \"exponential\", \"extensive\", \"extensive\", \"extensive\", \"eye\", \"face\", \"facebook\", \"facebook\", \"facilitate\", \"facilitate\", \"facilitate\", \"facility\", \"fashion\", \"fast_growe\", \"fast_paced\", \"feature\", \"feature\", \"feel\", \"feel\", \"fellow\", \"field\", \"film\", \"finally\", \"finance\", \"financial\", \"financial\", \"find\", \"find\", \"find\", \"find\", \"fintech\", \"fintech\", \"fintech\", \"firm\", \"flipkart\", \"focus\", \"focus\", \"focus\", \"focus\", \"follow\", \"follow\", \"follow\", \"follow\", \"food\", \"food\", \"food\", \"forbes\", \"fortunate\", \"fortunate\", \"forum\", \"foster\", \"foster\", \"found\", \"found\", \"found\", \"foundation\", \"foundation\", \"founder\", \"founder\", \"founding\", \"framework\", \"framework\", \"framework\", \"free\", \"free\", \"front_end\", \"fulfil\", \"full_stack\", \"full_stack\", \"full_time\", \"full_time\", \"full_time\", \"fun\", \"function\", \"function\", \"fund\", \"fund_raise\", \"funding\", \"fundraising\", \"gaming\", \"general\", \"general\", \"general\", \"general\", \"generalist\", \"generate\", \"generate\", \"geo\", \"get_touch\", \"give\", \"give\", \"global\", \"global\", \"global\", \"global\", \"go_market\", \"goal\", \"goal\", \"goal\", \"goal\", \"good\", \"good\", \"good\", \"good\", \"good\", \"graduate\", \"graduate\", \"great\", \"great\", \"great\", \"group\", \"group\", \"grow\", \"grow\", \"grow\", \"grow\", \"growth\", \"growth\", \"growth\", \"growth\", \"gtm\", \"gtm\", \"guy\", \"half\", \"hand\", \"hand\", \"handle\", \"handle\", \"handle\", \"handle\", \"happy\", \"hard\", \"hardware\", \"harvard\", \"head\", \"head\", \"head\", \"health\", \"health_care\", \"healthcare\", \"healthcare\", \"healthcare\", \"high\", \"high\", \"high\", \"high_performing\", \"high_performing\", \"highly\", \"hire\", \"hire\", \"hire\", \"hire\", \"hiring\", \"home\", \"hospitality\", \"hotel\", \"hr\", \"http\", \"https\", \"https_medium\", \"https_www\", \"human\", \"human_resource\", \"human_resource\", \"ibm\", \"idea\", \"idea\", \"idea\", \"idea\", \"ideation\", \"identification\", \"identify\", \"identify\", \"impact\", \"impact\", \"impact\", \"impactful\", \"impactful\", \"implement\", \"implement\", \"implementation\", \"implementation\", \"implementation\", \"implementation\", \"important\", \"improve\", \"improve\", \"improve\", \"improve\", \"include\", \"include\", \"include\", \"include\", \"include\", \"include\", \"increase\", \"increase\", \"incubator\", \"india\", \"india\", \"indian\", \"indian\", \"indian\", \"indian_institute\", \"individual\", \"individual\", \"industry\", \"industry\", \"industry\", \"industry\", \"industry\", \"industry\", \"industry_skille\", \"industry_skilled\", \"influencer\", \"influencer\", \"information\", \"information\", \"information\", \"infrastructure\", \"initiative\", \"initiative\", \"initiative\", \"initiative\", \"initiative\", \"innovate\", \"innovate\", \"innovation\", \"innovation\", \"innovation\", \"innovation\", \"innovation\", \"innovative\", \"innovative\", \"inspire\", \"insurance\", \"integration\", \"integration\", \"integration\", \"integrity\", \"intelligence\", \"intelligence\", \"intelligent\", \"intelligent\", \"intelligent\", \"interact\", \"interaction\", \"interaction\", \"interactive\", \"interest\", \"interest\", \"interest\", \"interest\", \"interested\", \"interested\", \"interested\", \"interesting\", \"intern\", \"internal\", \"internal\", \"internal\", \"internal_external\", \"international\", \"international\", \"international\", \"internet\", \"internet\", \"internet\", \"internet\", \"internship\", \"interpersonal_skill\", \"intervention\", \"intervention\", \"intuitive\", \"inventory\", \"invest\", \"investment\", \"investment_banke\", \"investor\", \"involve\", \"involve\", \"involve\", \"iot\", \"ipo\", \"iso\", \"issue\", \"issue\", \"issue\", \"java\", \"javascript\", \"job\", \"job\", \"join\", \"join\", \"join\", \"journal\", \"journey\", \"journey\", \"keen_interest\", \"key\", \"key\", \"key\", \"key\", \"key\", \"knowledge\", \"knowledge\", \"landscape\", \"landscape\", \"landscape\", \"large\", \"large\", \"large\", \"large\", \"launch\", \"launch\", \"launch\", \"law\", \"lawyer\", \"lead\", \"lead\", \"lead\", \"lead\", \"lead\", \"lead_generation\", \"leader\", \"leader\", \"leadership\", \"leadership\", \"leadership\", \"leadership\", \"learn\", \"learn\", \"learn\", \"learner\", \"learner\", \"leave\", \"legal\", \"lending\", \"level\", \"level\", \"level\", \"level\", \"level\", \"level_executive\", \"leverage\", \"leverage\", \"license\", \"lie\", \"life\", \"lifecycle\", \"lifecycle\", \"line\", \"line\", \"line\", \"live\", \"live\", \"live\", \"long\", \"lot\", \"love\", \"machine_learne\", \"machine_learning\", \"magazine\", \"maintain\", \"major\", \"major\", \"major\", \"major\", \"make\", \"make\", \"make\", \"manage\", \"manage\", \"manage\", \"manage\", \"manage\", \"management\", \"management\", \"management\", \"management\", \"manager\", \"manager\", \"manager\", \"manufacturing\", \"mark\", \"market\", \"market\", \"market\", \"market\", \"market\", \"market\", \"market_entry\", \"marketer\", \"marketing\", \"marketing\", \"master\", \"master_degree\", \"master_degree\", \"matrix\", \"maximum\", \"mba\", \"mba\", \"mba\", \"mckinsey\", \"meaningful\", \"measurement\", \"mechanical\", \"mechanical_engineering\", \"media\", \"medical\", \"medical\", \"medical_devices\", \"medical_devices\", \"medium\", \"meet\", \"meet\", \"meet\", \"member\", \"member\", \"mentor\", \"mentor\", \"mentor\", \"mentor\", \"mergers_acquisition\", \"message\", \"messaging\", \"method\", \"method\", \"methodology\", \"methodology\", \"microsoft_excel\", \"microsoft_excel\", \"microsoft_office\", \"microsoft_office\", \"microsoft_word\", \"mid_size\", \"middle_east\", \"middle_east\", \"million\", \"million\", \"minded\", \"mindset\", \"mindset\", \"mission\", \"mission\", \"ml\", \"mm\", \"mm\", \"mncs\", \"mobile\", \"mobile\", \"mobile_app\", \"mobile_apps\", \"model\", \"model\", \"model\", \"money\", \"monthly\", \"move\", \"move\", \"msc\", \"multi_million\", \"multi_million\", \"multimedia\", \"multinational\", \"multiple\", \"multiple\", \"multiple\", \"multiple\", \"multiple\", \"mumbai\", \"music\", \"music\", \"national\", \"national\", \"national_institute\", \"natural_language\", \"network\", \"network\", \"network\", \"network\", \"news\", \"news\", \"news\", \"next_generation\", \"nlp\", \"non_profit\", \"nonprofit\", \"north_america\", \"north_america\", \"objective\", \"objective\", \"obsess\", \"oem\", \"office\", \"office\", \"office\", \"offline\", \"offshore\", \"onboarding\", \"online\", \"online\", \"operation\", \"operation\", \"operation\", \"operator\", \"opinion\", \"opportunity\", \"opportunity\", \"opportunity\", \"optimization\", \"optimization\", \"option\", \"oracle\", \"organisation\", \"organisation\", \"organisation\", \"organisation\", \"organization\", \"organization\", \"organization\", \"organizational\", \"organizational\", \"organizational\", \"organize\", \"orient\", \"outcome\", \"packaging\", \"part\", \"part\", \"part\", \"part\", \"partner\", \"partner\", \"partner\", \"partner\", \"partner\", \"partnership\", \"partnership\", \"partnership\", \"passion\", \"passion\", \"passion\", \"passionate\", \"passionate\", \"passionate\", \"passionate\", \"passionate\", \"patent\", \"patient\", \"payment\", \"payment\", \"people\", \"people\", \"performance\", \"performance\", \"performance\", \"performance\", \"personal\", \"personnel\", \"pharma\", \"pitch\", \"pivot\", \"place\", \"place\", \"plan\", \"plan\", \"plan\", \"plan\", \"plan\", \"planning\", \"planning\", \"planning\", \"platform\", \"platform\", \"platform\", \"play\", \"playbook\", \"please_reach\", \"pm\", \"pm\", \"point\", \"point\", \"portal\", \"portfolio\", \"portfolio\", \"position\", \"position\", \"position\", \"possess\", \"post\", \"post\", \"post\", \"power\", \"power\", \"power\", \"power\", \"powerful\", \"pr\", \"practical\", \"practical\", \"practice\", \"practice\", \"practice\", \"previous\", \"previously\", \"previously\", \"price\", \"prior\", \"prior\", \"privacy\", \"private_equity\", \"private_equity\", \"problem\", \"problem\", \"problem\", \"problem_solve\", \"problem_solving\", \"procedure\", \"process\", \"process\", \"process_improvement\", \"processing\", \"procurement\", \"product\", \"production\", \"production\", \"professional\", \"professional\", \"professional\", \"professional_bachelor\", \"professional_bachelor\", \"profitability\", \"profitability\", \"program\", \"program\", \"programming\", \"progress\", \"project\", \"project\", \"project\", \"promotion\", \"prospect\", \"prototype\", \"proud\", \"prove\", \"prove\", \"proven_ability\", \"proven_track\", \"provide\", \"provide\", \"provide\", \"public\", \"public\", \"publish\", \"publish\", \"publish\", \"purpose\", \"purpose\", \"pursue\", \"put\", \"put\", \"pvt_ltd\", \"quality\", \"quality\", \"quality\", \"quality\", \"quality\", \"quantitative\", \"quick\", \"quota\", \"raise\", \"range\", \"range\", \"range\", \"reach\", \"reach\", \"reach\", \"read\", \"read\", \"read\", \"ready\", \"ready\", \"real\", \"real\", \"real_estate\", \"real_estate\", \"recommendation\", \"record\", \"record\", \"recruit\", \"recruiter\", \"recruiting\", \"recruitment\", \"region\", \"regional\", \"regulatory\", \"relate\", \"relate\", \"relationship\", \"relationship\", \"relationship\", \"release\", \"remote\", \"remote\", \"reporting\", \"represent\", \"require\", \"requirement\", \"requirement\", \"requirement\", \"requirement\", \"requirement\", \"research\", \"research\", \"research\", \"research\", \"resource\", \"resource\", \"result\", \"result\", \"result\", \"result_oriented\", \"results_oriented\", \"retail\", \"retail\", \"retail\", \"retention\", \"return\", \"revenue\", \"revenue\", \"revenue\", \"revenue\", \"reward\", \"risk\", \"roadmap\", \"role\", \"role\", \"role\", \"run\", \"run\", \"run\", \"rural\", \"saas\", \"saas\", \"saas\", \"saas\", \"safety\", \"safety\", \"sale\", \"sale\", \"salesforce\", \"salesforce\", \"salesforce\", \"sap\", \"save\", \"savvy\", \"sc\", \"scale\", \"scale\", \"scale\", \"scale\", \"scaling\", \"scheduling\", \"school\", \"science\", \"scientific\", \"scope\", \"scratch\", \"scratch\", \"scratch\", \"search\", \"search\", \"search\", \"search_engine\", \"season\", \"season\", \"seasoned\", \"seasoned\", \"sector\", \"security\", \"seek\", \"seek\", \"select\", \"select\", \"selection\", \"self_motivate\", \"sell\", \"sell\", \"selling\", \"semiconductor\", \"semiconductor\", \"send\", \"senior\", \"senior\", \"senior\", \"senior\", \"seo\", \"series\", \"serve\", \"serve\", \"server\", \"service\", \"service\", \"service\", \"service\", \"services\", \"services\", \"set\", \"set\", \"set\", \"set\", \"ship\", \"shipping\", \"shop\", \"silicon_valley\", \"silicon_valley\", \"simple\", \"simple\", \"simple\", \"simple\", \"simplify\", \"singapore\", \"site\", \"site\", \"six_sigma\", \"skill\", \"skilled\", \"skilled\", \"skills\", \"skillset\", \"small\", \"small\", \"sme\", \"sme\", \"social\", \"social\", \"social_media\", \"society\", \"software\", \"software\", \"software\", \"software\", \"solution\", \"solution\", \"solution\", \"solution\", \"solve\", \"solve\", \"solve_problem\", \"solve_problem\", \"source\", \"sourcing\", \"south\", \"south_east\", \"space\", \"space\", \"space\", \"spanish\", \"speaker\", \"specialization\", \"specialty\", \"specialty\", \"specialty\", \"specialty\", \"specialty\", \"speed\", \"sport\", \"sql\", \"stack\", \"staffing\", \"stakeholder\", \"stakeholder\", \"start\", \"start\", \"start\", \"start\", \"start\", \"startup\", \"startup\", \"startup_ecosystem\", \"state\", \"step\", \"stint\", \"story\", \"storytelling\", \"strategic\", \"strategic\", \"strategic\", \"strategic\", \"strategic_alliance\", \"strategy\", \"strategy\", \"strategy\", \"strategy\", \"strength\", \"strength\", \"strive\", \"strong\", \"strong\", \"structure\", \"structure\", \"student\", \"study\", \"study\", \"success\", \"success\", \"success\", \"successful\", \"successful\", \"successful\", \"successful\", \"successful\", \"summit\", \"supplier\", \"supply_chain\", \"supply_chain\", \"support\", \"support\", \"support\", \"system\", \"system\", \"tactic\", \"tactic\", \"tactical\", \"talent\", \"talent_acquisition\", \"target\", \"target\", \"target\", \"target\", \"tax\", \"teach\", \"teach\", \"teaching\", \"team\", \"team\", \"team\", \"team_members\", \"team_player\", \"teamwork\", \"tech\", \"technical\", \"technical\", \"technical\", \"technological\", \"technology\", \"technology\", \"territory\", \"test\", \"testing\", \"thing\", \"thinker\", \"thought_leadership\", \"thousand\", \"ticket\", \"time\", \"time\", \"tool\", \"tool\", \"tool\", \"tool\", \"top\", \"top\", \"top\", \"top\", \"topic\", \"topic\", \"trading\", \"train\", \"trainer\", \"training\", \"training\", \"training\", \"transformation\", \"transformation\", \"transformation\", \"transition\", \"translate\", \"translate\", \"transportation\", \"transportation\", \"travel\", \"travel\", \"treasury\", \"twitter\", \"type\", \"uber\", \"uber\", \"ui\", \"ui_ux\", \"uk\", \"uk\", \"understand\", \"understand\", \"understand\", \"understanding\", \"understanding\", \"unique\", \"unique\", \"unique\", \"unique\", \"unique\", \"unique\", \"university\", \"university\", \"university_california\", \"university_michigan\", \"unlock\", \"update\", \"usa\", \"usability\", \"usage\", \"user\", \"user_interface\", \"ux\", \"ux_designer\", \"ux_ui\", \"valuation\", \"valuation\", \"variety\", \"various_stage\", \"vc\", \"vehicle\", \"vendor\", \"venture\", \"venture_capital\", \"venture_capital\", \"versatile\", \"vice_president\", \"video\", \"video\", \"video\", \"vision\", \"vision\", \"vision\", \"visual\", \"volunteer\", \"water\", \"wealth\", \"web\", \"web\", \"web\", \"web\", \"website\", \"website\", \"well_verse\", \"woman\", \"word\", \"work\", \"work\", \"work\", \"work\", \"workflow\", \"workplace\", \"world\", \"world\", \"world\", \"world_class\", \"world_class\", \"world_class\", \"worldwide\", \"worldwide\", \"write\", \"write\", \"www\", \"year\", \"year\", \"year\", \"year\", \"year\", \"year\", \"year\", \"year\", \"year\", \"year\", \"year\", \"young\", \"young\", \"youth\"]}, \"R\": 30, \"lambda.step\": 0.01, \"plot.opts\": {\"xlab\": \"PC1\", \"ylab\": \"PC2\"}, \"topic.order\": [1, 2, 3, 4, 5, 6, 7, 8, 9, 10, 11, 12, 13, 14, 15, 16, 17, 18]};\n",
              "\n",
              "function LDAvis_load_lib(url, callback){\n",
              "  var s = document.createElement('script');\n",
              "  s.src = url;\n",
              "  s.async = true;\n",
              "  s.onreadystatechange = s.onload = callback;\n",
              "  s.onerror = function(){console.warn(\"failed to load library \" + url);};\n",
              "  document.getElementsByTagName(\"head\")[0].appendChild(s);\n",
              "}\n",
              "\n",
              "if(typeof(LDAvis) !== \"undefined\"){\n",
              "   // already loaded: just create the visualization\n",
              "   !function(LDAvis){\n",
              "       new LDAvis(\"#\" + \"ldavis_el1011405890946463128718382583\", ldavis_el1011405890946463128718382583_data);\n",
              "   }(LDAvis);\n",
              "}else if(typeof define === \"function\" && define.amd){\n",
              "   // require.js is available: use it to load d3/LDAvis\n",
              "   require.config({paths: {d3: \"https://cdnjs.cloudflare.com/ajax/libs/d3/3.5.5/d3.min\"}});\n",
              "   require([\"d3\"], function(d3){\n",
              "      window.d3 = d3;\n",
              "      LDAvis_load_lib(\"https://cdn.rawgit.com/bmabey/pyLDAvis/files/ldavis.v1.0.0.js\", function(){\n",
              "        new LDAvis(\"#\" + \"ldavis_el1011405890946463128718382583\", ldavis_el1011405890946463128718382583_data);\n",
              "      });\n",
              "    });\n",
              "}else{\n",
              "    // require.js not available: dynamically load d3 & LDAvis\n",
              "    LDAvis_load_lib(\"https://cdnjs.cloudflare.com/ajax/libs/d3/3.5.5/d3.min.js\", function(){\n",
              "         LDAvis_load_lib(\"https://cdn.rawgit.com/bmabey/pyLDAvis/files/ldavis.v1.0.0.js\", function(){\n",
              "                 new LDAvis(\"#\" + \"ldavis_el1011405890946463128718382583\", ldavis_el1011405890946463128718382583_data);\n",
              "            })\n",
              "         });\n",
              "}\n",
              "</script>"
            ],
            "text/plain": [
              "<IPython.core.display.HTML object>"
            ]
          },
          "metadata": {
            "tags": []
          },
          "execution_count": 43
        }
      ]
    },
    {
      "cell_type": "code",
      "metadata": {
        "id": "NttwDn7W3uq5",
        "outputId": "b5356756-b2c8-4812-9ddb-90bb21efc025",
        "colab": {
          "base_uri": "https://localhost:8080/",
          "height": 649
        }
      },
      "source": [
        "ldamallet.print_topics()"
      ],
      "execution_count": null,
      "outputs": [
        {
          "output_type": "execute_result",
          "data": {
            "text/plain": [
              "[(0,\n",
              "  '0.052*\"work\" + 0.041*\"learn\" + 0.041*\"time\" + 0.039*\"good\" + 0.033*\"problem\" + 0.028*\"passionate\" + 0.026*\"challenge\" + 0.025*\"solve\" + 0.023*\"understand\" + 0.020*\"opportunity\"'),\n",
              " (1,\n",
              "  '0.027*\"school\" + 0.025*\"social\" + 0.024*\"education\" + 0.021*\"world\" + 0.018*\"health\" + 0.016*\"student\" + 0.016*\"award\" + 0.016*\"university\" + 0.015*\"impact\" + 0.015*\"healthcare\"'),\n",
              " (2,\n",
              "  '0.050*\"people\" + 0.042*\"make\" + 0.037*\"love\" + 0.028*\"life\" + 0.023*\"world\" + 0.018*\"thing\" + 0.016*\"find\" + 0.016*\"live\" + 0.014*\"great\" + 0.014*\"learn\"'),\n",
              " (3,\n",
              "  '0.191*\"management\" + 0.068*\"customer\" + 0.048*\"manage\" + 0.039*\"process\" + 0.034*\"operation\" + 0.031*\"program\" + 0.027*\"client\" + 0.025*\"team\" + 0.024*\"support\" + 0.020*\"delivery\"'),\n",
              " (4,\n",
              "  '0.094*\"team\" + 0.047*\"build\" + 0.041*\"lead\" + 0.030*\"leadership\" + 0.028*\"organization\" + 0.028*\"leader\" + 0.027*\"role\" + 0.027*\"people\" + 0.025*\"talent\" + 0.024*\"hr\"'),\n",
              " (5,\n",
              "  '0.169*\"marketing\" + 0.090*\"digital\" + 0.055*\"brand\" + 0.037*\"medium\" + 0.032*\"content\" + 0.028*\"online\" + 0.025*\"creative\" + 0.024*\"strategy\" + 0.020*\"event\" + 0.020*\"communication\"'),\n",
              " (6,\n",
              "  '0.129*\"work\" + 0.084*\"professional\" + 0.062*\"strong\" + 0.057*\"focus\" + 0.050*\"experience\" + 0.046*\"management\" + 0.038*\"demonstrated_history\" + 0.035*\"experienced\" + 0.033*\"industry\" + 0.031*\"engineering\"'),\n",
              " (7,\n",
              "  '0.074*\"datum\" + 0.046*\"solution\" + 0.038*\"analytic\" + 0.036*\"data\" + 0.029*\"enterprise\" + 0.028*\"science\" + 0.026*\"cloud\" + 0.022*\"ai\" + 0.021*\"deep\" + 0.021*\"system\"'),\n",
              " (8,\n",
              "  '0.267*\"product\" + 0.093*\"design\" + 0.061*\"team\" + 0.044*\"build\" + 0.041*\"user\" + 0.029*\"mobile\" + 0.028*\"lead\" + 0.027*\"customer\" + 0.016*\"manager\" + 0.015*\"year\"'),\n",
              " (9,\n",
              "  '0.070*\"business\" + 0.060*\"service\" + 0.056*\"financial\" + 0.039*\"finance\" + 0.037*\"client\" + 0.028*\"management\" + 0.025*\"industry\" + 0.023*\"analysis\" + 0.020*\"corporate\" + 0.020*\"year\"'),\n",
              " (10,\n",
              "  '0.080*\"software\" + 0.040*\"application\" + 0.039*\"web\" + 0.031*\"system\" + 0.028*\"engineer\" + 0.025*\"technology\" + 0.024*\"technical\" + 0.024*\"knowledge\" + 0.024*\"developer\" + 0.021*\"engineering\"'),\n",
              " (11,\n",
              "  '0.046*\"company\" + 0.040*\"investment\" + 0.029*\"lead\" + 0.027*\"venture\" + 0.024*\"fund\" + 0.022*\"startup\" + 0.022*\"firm\" + 0.022*\"partner\" + 0.021*\"capital\" + 0.019*\"investor\"'),\n",
              " (12,\n",
              "  '0.227*\"business\" + 0.101*\"sale\" + 0.096*\"strategy\" + 0.060*\"growth\" + 0.048*\"market\" + 0.030*\"strategic\" + 0.024*\"revenue\" + 0.022*\"lead\" + 0.020*\"partnership\" + 0.015*\"operation\"'),\n",
              " (13,\n",
              "  '0.054*\"drive\" + 0.031*\"leader\" + 0.030*\"high\" + 0.027*\"deliver\" + 0.026*\"change\" + 0.026*\"create\" + 0.024*\"innovative\" + 0.024*\"innovation\" + 0.024*\"solution\" + 0.024*\"organization\"'),\n",
              " (14,\n",
              "  '0.072*\"startup\" + 0.059*\"tech\" + 0.036*\"build\" + 0.034*\"start\" + 0.033*\"entrepreneur\" + 0.032*\"platform\" + 0.025*\"company\" + 0.024*\"scale\" + 0.021*\"grow\" + 0.019*\"founder\"'),\n",
              " (15,\n",
              "  '0.131*\"work\" + 0.056*\"year\" + 0.040*\"project\" + 0.039*\"research\" + 0.021*\"area\" + 0.020*\"include\" + 0.019*\"field\" + 0.019*\"interest\" + 0.018*\"develop\" + 0.015*\"involve\"'),\n",
              " (16,\n",
              "  '0.079*\"india\" + 0.041*\"global\" + 0.040*\"year\" + 0.031*\"international\" + 0.025*\"sector\" + 0.021*\"include\" + 0.019*\"industry\" + 0.018*\"corporate\" + 0.015*\"group\" + 0.015*\"practice\"'),\n",
              " (17,\n",
              "  '0.078*\"skill\" + 0.029*\"ability\" + 0.028*\"environment\" + 0.028*\"communication\" + 0.024*\"professional\" + 0.022*\"strong\" + 0.021*\"management\" + 0.020*\"result\" + 0.018*\"leadership\" + 0.017*\"highly\"')]"
            ]
          },
          "metadata": {
            "tags": []
          },
          "execution_count": 44
        }
      ]
    },
    {
      "cell_type": "code",
      "metadata": {
        "id": "DeNN3D2wAzaW"
      },
      "source": [
        ""
      ],
      "execution_count": null,
      "outputs": []
    }
  ]
}