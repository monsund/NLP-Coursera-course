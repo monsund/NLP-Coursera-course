{
  "nbformat": 4,
  "nbformat_minor": 0,
  "metadata": {
    "colab": {
      "name": "random_forest_classification.ipynb",
      "provenance": [],
      "mount_file_id": "1oiiCt5NsqSSt2vR2-r7Yz0OnmsS3_Y-z",
      "authorship_tag": "ABX9TyPxayV7e8anBws/YV9CidKj",
      "include_colab_link": true
    },
    "kernelspec": {
      "name": "python3",
      "display_name": "Python 3"
    }
  },
  "cells": [
    {
      "cell_type": "markdown",
      "metadata": {
        "id": "view-in-github",
        "colab_type": "text"
      },
      "source": [
        "<a href=\"https://colab.research.google.com/github/monsund/unsupervised-classification-of-Linkedin-Profiles-using-KMeans-LDA-TFIDF/blob/master/random_forest_classification.ipynb\" target=\"_parent\"><img src=\"https://colab.research.google.com/assets/colab-badge.svg\" alt=\"Open In Colab\"/></a>"
      ]
    },
    {
      "cell_type": "code",
      "metadata": {
        "id": "iPVeUdv-flGv"
      },
      "source": [
        "import pandas as pd"
      ],
      "execution_count": null,
      "outputs": []
    },
    {
      "cell_type": "code",
      "metadata": {
        "id": "YNsYWWGhftCp"
      },
      "source": [
        "input_file = '/content/drive/My Drive/NLP/with_swaraj/Data/data_for_statistical_classification_1.csv'"
      ],
      "execution_count": null,
      "outputs": []
    },
    {
      "cell_type": "code",
      "metadata": {
        "id": "C6_2lFOUf8sO"
      },
      "source": [
        "df = pd.read_csv(input_file)"
      ],
      "execution_count": null,
      "outputs": []
    },
    {
      "cell_type": "code",
      "metadata": {
        "id": "dIBM9V_dgFrf",
        "outputId": "7cfc8a69-a2a0-4289-9c88-36972768fd0c",
        "colab": {
          "base_uri": "https://localhost:8080/",
          "height": 306
        }
      },
      "source": [
        "df.head()"
      ],
      "execution_count": null,
      "outputs": [
        {
          "output_type": "execute_result",
          "data": {
            "text/html": [
              "<div>\n",
              "<style scoped>\n",
              "    .dataframe tbody tr th:only-of-type {\n",
              "        vertical-align: middle;\n",
              "    }\n",
              "\n",
              "    .dataframe tbody tr th {\n",
              "        vertical-align: top;\n",
              "    }\n",
              "\n",
              "    .dataframe thead th {\n",
              "        text-align: right;\n",
              "    }\n",
              "</style>\n",
              "<table border=\"1\" class=\"dataframe\">\n",
              "  <thead>\n",
              "    <tr style=\"text-align: right;\">\n",
              "      <th></th>\n",
              "      <th>Unnamed: 0</th>\n",
              "      <th>url</th>\n",
              "      <th>username</th>\n",
              "      <th>title</th>\n",
              "      <th>about</th>\n",
              "      <th>dominant_topic</th>\n",
              "      <th>topic_prob</th>\n",
              "      <th>keywords</th>\n",
              "    </tr>\n",
              "  </thead>\n",
              "  <tbody>\n",
              "    <tr>\n",
              "      <th>0</th>\n",
              "      <td>0</td>\n",
              "      <td>https://www.linkedin.com/in/lokesh-kumar-xess-...</td>\n",
              "      <td>lokesh-kumar-xess-54814068</td>\n",
              "      <td>Marketing &amp; Strategy at Mobistreak</td>\n",
              "      <td>I am a Google Adwords and Google Analytics cer...</td>\n",
              "      <td>5</td>\n",
              "      <td>0.184839</td>\n",
              "      <td>['marketing', 'digital', 'brand', 'medium', 'c...</td>\n",
              "    </tr>\n",
              "    <tr>\n",
              "      <th>1</th>\n",
              "      <td>77</td>\n",
              "      <td>https://www.linkedin.com/in/jdellisanti</td>\n",
              "      <td>jdellisanti</td>\n",
              "      <td>Product Innovation, Strategy and Marketing Exe...</td>\n",
              "      <td>Innovation, Strategy and Marketing Leader at t...</td>\n",
              "      <td>5</td>\n",
              "      <td>0.175725</td>\n",
              "      <td>['marketing', 'digital', 'brand', 'medium', 'c...</td>\n",
              "    </tr>\n",
              "    <tr>\n",
              "      <th>2</th>\n",
              "      <td>78</td>\n",
              "      <td>https://www.linkedin.com/in/niharmanwatkar</td>\n",
              "      <td>niharmanwatkar</td>\n",
              "      <td>Founder  The Banana Design Company | Helping b...</td>\n",
              "      <td>Specialties: Digital Marketing, Marketing &amp; Co...</td>\n",
              "      <td>5</td>\n",
              "      <td>0.207002</td>\n",
              "      <td>['marketing', 'digital', 'brand', 'medium', 'c...</td>\n",
              "    </tr>\n",
              "    <tr>\n",
              "      <th>3</th>\n",
              "      <td>99</td>\n",
              "      <td>https://www.linkedin.com/in/gregarious</td>\n",
              "      <td>gregarious</td>\n",
              "      <td>Serial Entrepreneur, Startup Mentor, Innovatio...</td>\n",
              "      <td>Gregarious “Greg” Narain has been at the foref...</td>\n",
              "      <td>5</td>\n",
              "      <td>0.161111</td>\n",
              "      <td>['marketing', 'digital', 'brand', 'medium', 'c...</td>\n",
              "    </tr>\n",
              "    <tr>\n",
              "      <th>4</th>\n",
              "      <td>143</td>\n",
              "      <td>https://www.linkedin.com/in/nadyakhoja</td>\n",
              "      <td>nadyakhoja</td>\n",
              "      <td>Chief Growth Officer at Venngage</td>\n",
              "      <td>Experienced Head Of Marketing with a demonstra...</td>\n",
              "      <td>5</td>\n",
              "      <td>0.161481</td>\n",
              "      <td>['marketing', 'digital', 'brand', 'medium', 'c...</td>\n",
              "    </tr>\n",
              "  </tbody>\n",
              "</table>\n",
              "</div>"
            ],
            "text/plain": [
              "   Unnamed: 0  ...                                           keywords\n",
              "0           0  ...  ['marketing', 'digital', 'brand', 'medium', 'c...\n",
              "1          77  ...  ['marketing', 'digital', 'brand', 'medium', 'c...\n",
              "2          78  ...  ['marketing', 'digital', 'brand', 'medium', 'c...\n",
              "3          99  ...  ['marketing', 'digital', 'brand', 'medium', 'c...\n",
              "4         143  ...  ['marketing', 'digital', 'brand', 'medium', 'c...\n",
              "\n",
              "[5 rows x 8 columns]"
            ]
          },
          "metadata": {
            "tags": []
          },
          "execution_count": 4
        }
      ]
    },
    {
      "cell_type": "code",
      "metadata": {
        "id": "YcfSrNNaHiGI",
        "outputId": "9ce85f7a-84a6-46a3-e940-2261a473c290",
        "colab": {
          "base_uri": "https://localhost:8080/",
          "height": 204
        }
      },
      "source": [
        "print(f'unique topic numbers: {df.dominant_topic.unique()}','\\n')\n",
        "topic_dic = {5: 'marketing domain', 8:'related to product visionnaire', 7:'related to data domain', 10:'software domain',14: 'entrepreneur or working with entrepreneur', \n",
        "             11:'related to investment; startups looking for investment', 3:'managerial field', 12:'business,strategic growth,revenue', 4:'hr or people management'}\n",
        "topic_dic"
      ],
      "execution_count": null,
      "outputs": [
        {
          "output_type": "stream",
          "text": [
            "unique topic numbers: [ 5  8  7 10 14 11  3 12  4] \n",
            "\n"
          ],
          "name": "stdout"
        },
        {
          "output_type": "execute_result",
          "data": {
            "text/plain": [
              "{3: 'managerial field',\n",
              " 4: 'hr or people management',\n",
              " 5: 'marketing domain',\n",
              " 7: 'related to data domain',\n",
              " 8: 'related to product visionnaire',\n",
              " 10: 'software domain',\n",
              " 11: 'related to investment; startups looking for investment',\n",
              " 12: 'business,strategic growth,revenue',\n",
              " 14: 'entrepreneur or working with entrepreneur'}"
            ]
          },
          "metadata": {
            "tags": []
          },
          "execution_count": 8
        }
      ]
    },
    {
      "cell_type": "markdown",
      "metadata": {
        "id": "w-mezAedYt-u"
      },
      "source": [
        "# **Remove Punctuation**"
      ]
    },
    {
      "cell_type": "code",
      "metadata": {
        "id": "PslC-zpLYQsq"
      },
      "source": [
        "# define punctuation\n",
        "punctuations = '\\'!()-[]{};:\\\"\\,<>./?#$%^&*_~'"
      ],
      "execution_count": null,
      "outputs": []
    },
    {
      "cell_type": "code",
      "metadata": {
        "id": "1B9BqylmaLmg"
      },
      "source": [
        "#Function for removing punctuation and lowering case\n",
        "def remove_punct(text):\n",
        "  for char in text:\n",
        "    if char in punctuations:\n",
        "      text = text.lower().replace(char,' ')    #lowering case\n",
        "      text = text.replace('  ', ' ')\n",
        "  return text"
      ],
      "execution_count": null,
      "outputs": []
    },
    {
      "cell_type": "code",
      "metadata": {
        "id": "eBikD64SanB3",
        "outputId": "ccf1d514-67b3-4e99-8b3c-c88869df6b49",
        "colab": {
          "base_uri": "https://localhost:8080/",
          "height": 210
        }
      },
      "source": [
        "df['about_cleaned']= df.about.apply(lambda x: remove_punct(x))\n",
        "df.head(3)"
      ],
      "execution_count": null,
      "outputs": [
        {
          "output_type": "execute_result",
          "data": {
            "text/html": [
              "<div>\n",
              "<style scoped>\n",
              "    .dataframe tbody tr th:only-of-type {\n",
              "        vertical-align: middle;\n",
              "    }\n",
              "\n",
              "    .dataframe tbody tr th {\n",
              "        vertical-align: top;\n",
              "    }\n",
              "\n",
              "    .dataframe thead th {\n",
              "        text-align: right;\n",
              "    }\n",
              "</style>\n",
              "<table border=\"1\" class=\"dataframe\">\n",
              "  <thead>\n",
              "    <tr style=\"text-align: right;\">\n",
              "      <th></th>\n",
              "      <th>Unnamed: 0</th>\n",
              "      <th>url</th>\n",
              "      <th>username</th>\n",
              "      <th>title</th>\n",
              "      <th>about</th>\n",
              "      <th>dominant_topic</th>\n",
              "      <th>topic_prob</th>\n",
              "      <th>keywords</th>\n",
              "      <th>about_cleaned</th>\n",
              "    </tr>\n",
              "  </thead>\n",
              "  <tbody>\n",
              "    <tr>\n",
              "      <th>0</th>\n",
              "      <td>0</td>\n",
              "      <td>https://www.linkedin.com/in/lokesh-kumar-xess-...</td>\n",
              "      <td>lokesh-kumar-xess-54814068</td>\n",
              "      <td>Marketing &amp; Strategy at Mobistreak</td>\n",
              "      <td>I am a Google Adwords and Google Analytics cer...</td>\n",
              "      <td>5</td>\n",
              "      <td>0.184839</td>\n",
              "      <td>['marketing', 'digital', 'brand', 'medium', 'c...</td>\n",
              "      <td>i am a google adwords and google analytics cer...</td>\n",
              "    </tr>\n",
              "    <tr>\n",
              "      <th>1</th>\n",
              "      <td>77</td>\n",
              "      <td>https://www.linkedin.com/in/jdellisanti</td>\n",
              "      <td>jdellisanti</td>\n",
              "      <td>Product Innovation, Strategy and Marketing Exe...</td>\n",
              "      <td>Innovation, Strategy and Marketing Leader at t...</td>\n",
              "      <td>5</td>\n",
              "      <td>0.175725</td>\n",
              "      <td>['marketing', 'digital', 'brand', 'medium', 'c...</td>\n",
              "      <td>innovation strategy and marketing leader at th...</td>\n",
              "    </tr>\n",
              "    <tr>\n",
              "      <th>2</th>\n",
              "      <td>78</td>\n",
              "      <td>https://www.linkedin.com/in/niharmanwatkar</td>\n",
              "      <td>niharmanwatkar</td>\n",
              "      <td>Founder  The Banana Design Company | Helping b...</td>\n",
              "      <td>Specialties: Digital Marketing, Marketing &amp; Co...</td>\n",
              "      <td>5</td>\n",
              "      <td>0.207002</td>\n",
              "      <td>['marketing', 'digital', 'brand', 'medium', 'c...</td>\n",
              "      <td>specialties digital marketing marketing commun...</td>\n",
              "    </tr>\n",
              "  </tbody>\n",
              "</table>\n",
              "</div>"
            ],
            "text/plain": [
              "   Unnamed: 0  ...                                      about_cleaned\n",
              "0           0  ...  i am a google adwords and google analytics cer...\n",
              "1          77  ...  innovation strategy and marketing leader at th...\n",
              "2          78  ...  specialties digital marketing marketing commun...\n",
              "\n",
              "[3 rows x 9 columns]"
            ]
          },
          "metadata": {
            "tags": []
          },
          "execution_count": 11
        }
      ]
    },
    {
      "cell_type": "markdown",
      "metadata": {
        "id": "828lcEGxpBAJ"
      },
      "source": [
        "# **Remove Stopwords**"
      ]
    },
    {
      "cell_type": "code",
      "metadata": {
        "id": "BY3d-ytMowtT",
        "outputId": "167292eb-1e9e-48e9-856f-8b71ea6d26de",
        "colab": {
          "base_uri": "https://localhost:8080/",
          "height": 85
        }
      },
      "source": [
        "import nltk\n",
        "nltk.download('punkt')\n",
        "from nltk.corpus import stopwords\n",
        "nltk.download('stopwords')\n",
        "from nltk.tokenize import word_tokenize"
      ],
      "execution_count": null,
      "outputs": [
        {
          "output_type": "stream",
          "text": [
            "[nltk_data] Downloading package punkt to /root/nltk_data...\n",
            "[nltk_data]   Unzipping tokenizers/punkt.zip.\n",
            "[nltk_data] Downloading package stopwords to /root/nltk_data...\n",
            "[nltk_data]   Unzipping corpora/stopwords.zip.\n"
          ],
          "name": "stdout"
        }
      ]
    },
    {
      "cell_type": "code",
      "metadata": {
        "id": "yd0xuAYTpzSJ"
      },
      "source": [
        "stop_words = set(stopwords.words('english'))\n",
        "additional_stop_words = set(['technology', 'development', 'experience', 'project', 'company'])"
      ],
      "execution_count": null,
      "outputs": []
    },
    {
      "cell_type": "code",
      "metadata": {
        "id": "NCRfTHrX7Txx"
      },
      "source": [
        "stop_words = stop_words.union(additional_stop_words)"
      ],
      "execution_count": null,
      "outputs": []
    },
    {
      "cell_type": "code",
      "metadata": {
        "id": "lMGSaDrdpO95"
      },
      "source": [
        "# Function removing stopwords-----------\n",
        "def remove_stopwords(text):\n",
        "  word_tokens = word_tokenize(text)\n",
        "  filtered_text = [w for w in word_tokens if not w in stop_words]\n",
        "  data = (' '.join(filtered_text))\n",
        "  return data"
      ],
      "execution_count": null,
      "outputs": []
    },
    {
      "cell_type": "code",
      "metadata": {
        "id": "Ze5URi9hqOAi"
      },
      "source": [
        "df['about_cleaned'] = df.about_cleaned.apply(lambda x: remove_stopwords(x))"
      ],
      "execution_count": null,
      "outputs": []
    },
    {
      "cell_type": "code",
      "metadata": {
        "id": "GOaBGUgZgeRZ",
        "outputId": "72db55a0-0a43-4981-e1f2-6155d95aff72",
        "colab": {
          "base_uri": "https://localhost:8080/",
          "height": 306
        }
      },
      "source": [
        "df.head()"
      ],
      "execution_count": null,
      "outputs": [
        {
          "output_type": "execute_result",
          "data": {
            "text/html": [
              "<div>\n",
              "<style scoped>\n",
              "    .dataframe tbody tr th:only-of-type {\n",
              "        vertical-align: middle;\n",
              "    }\n",
              "\n",
              "    .dataframe tbody tr th {\n",
              "        vertical-align: top;\n",
              "    }\n",
              "\n",
              "    .dataframe thead th {\n",
              "        text-align: right;\n",
              "    }\n",
              "</style>\n",
              "<table border=\"1\" class=\"dataframe\">\n",
              "  <thead>\n",
              "    <tr style=\"text-align: right;\">\n",
              "      <th></th>\n",
              "      <th>Unnamed: 0</th>\n",
              "      <th>url</th>\n",
              "      <th>username</th>\n",
              "      <th>title</th>\n",
              "      <th>about</th>\n",
              "      <th>dominant_topic</th>\n",
              "      <th>topic_prob</th>\n",
              "      <th>keywords</th>\n",
              "      <th>about_cleaned</th>\n",
              "    </tr>\n",
              "  </thead>\n",
              "  <tbody>\n",
              "    <tr>\n",
              "      <th>0</th>\n",
              "      <td>0</td>\n",
              "      <td>https://www.linkedin.com/in/lokesh-kumar-xess-...</td>\n",
              "      <td>lokesh-kumar-xess-54814068</td>\n",
              "      <td>Marketing &amp; Strategy at Mobistreak</td>\n",
              "      <td>I am a Google Adwords and Google Analytics cer...</td>\n",
              "      <td>5</td>\n",
              "      <td>0.184839</td>\n",
              "      <td>['marketing', 'digital', 'brand', 'medium', 'c...</td>\n",
              "      <td>google adwords google analytics certified ppc ...</td>\n",
              "    </tr>\n",
              "    <tr>\n",
              "      <th>1</th>\n",
              "      <td>77</td>\n",
              "      <td>https://www.linkedin.com/in/jdellisanti</td>\n",
              "      <td>jdellisanti</td>\n",
              "      <td>Product Innovation, Strategy and Marketing Exe...</td>\n",
              "      <td>Innovation, Strategy and Marketing Leader at t...</td>\n",
              "      <td>5</td>\n",
              "      <td>0.175725</td>\n",
              "      <td>['marketing', 'digital', 'brand', 'medium', 'c...</td>\n",
              "      <td>innovation strategy marketing leader nexus med...</td>\n",
              "    </tr>\n",
              "    <tr>\n",
              "      <th>2</th>\n",
              "      <td>78</td>\n",
              "      <td>https://www.linkedin.com/in/niharmanwatkar</td>\n",
              "      <td>niharmanwatkar</td>\n",
              "      <td>Founder  The Banana Design Company | Helping b...</td>\n",
              "      <td>Specialties: Digital Marketing, Marketing &amp; Co...</td>\n",
              "      <td>5</td>\n",
              "      <td>0.207002</td>\n",
              "      <td>['marketing', 'digital', 'brand', 'medium', 'c...</td>\n",
              "      <td>specialties digital marketing marketing commun...</td>\n",
              "    </tr>\n",
              "    <tr>\n",
              "      <th>3</th>\n",
              "      <td>99</td>\n",
              "      <td>https://www.linkedin.com/in/gregarious</td>\n",
              "      <td>gregarious</td>\n",
              "      <td>Serial Entrepreneur, Startup Mentor, Innovatio...</td>\n",
              "      <td>Gregarious “Greg” Narain has been at the foref...</td>\n",
              "      <td>5</td>\n",
              "      <td>0.161111</td>\n",
              "      <td>['marketing', 'digital', 'brand', 'medium', 'c...</td>\n",
              "      <td>gregarious “ greg ” narain forefront social me...</td>\n",
              "    </tr>\n",
              "    <tr>\n",
              "      <th>4</th>\n",
              "      <td>143</td>\n",
              "      <td>https://www.linkedin.com/in/nadyakhoja</td>\n",
              "      <td>nadyakhoja</td>\n",
              "      <td>Chief Growth Officer at Venngage</td>\n",
              "      <td>Experienced Head Of Marketing with a demonstra...</td>\n",
              "      <td>5</td>\n",
              "      <td>0.161481</td>\n",
              "      <td>['marketing', 'digital', 'brand', 'medium', 'c...</td>\n",
              "      <td>experienced head marketing demonstrated histor...</td>\n",
              "    </tr>\n",
              "  </tbody>\n",
              "</table>\n",
              "</div>"
            ],
            "text/plain": [
              "   Unnamed: 0  ...                                      about_cleaned\n",
              "0           0  ...  google adwords google analytics certified ppc ...\n",
              "1          77  ...  innovation strategy marketing leader nexus med...\n",
              "2          78  ...  specialties digital marketing marketing commun...\n",
              "3          99  ...  gregarious “ greg ” narain forefront social me...\n",
              "4         143  ...  experienced head marketing demonstrated histor...\n",
              "\n",
              "[5 rows x 9 columns]"
            ]
          },
          "metadata": {
            "tags": []
          },
          "execution_count": 17
        }
      ]
    },
    {
      "cell_type": "markdown",
      "metadata": {
        "id": "TqNMF-Bq5yQ4"
      },
      "source": [
        "# **Train Test Split**"
      ]
    },
    {
      "cell_type": "code",
      "metadata": {
        "id": "-hQjlZJ953Aw"
      },
      "source": [
        "from sklearn.model_selection import train_test_split\n",
        "X = df.drop(['dominant_topic'],axis=1)\n",
        "y = df['dominant_topic']"
      ],
      "execution_count": null,
      "outputs": []
    },
    {
      "cell_type": "code",
      "metadata": {
        "id": "SBYJIbXD6EiG"
      },
      "source": [
        "X_train, X_test, y_train, y_test = train_test_split(X,y, test_size=0.2, random_state=42)"
      ],
      "execution_count": null,
      "outputs": []
    },
    {
      "cell_type": "markdown",
      "metadata": {
        "id": "Pjmq9f1LiYzR"
      },
      "source": [
        "# **TDIDF Vectorization**"
      ]
    },
    {
      "cell_type": "code",
      "metadata": {
        "id": "YtzUJts2iOho"
      },
      "source": [
        "from sklearn.feature_extraction.text import TfidfVectorizer\n",
        "tfidf_vec = TfidfVectorizer()"
      ],
      "execution_count": null,
      "outputs": []
    },
    {
      "cell_type": "code",
      "metadata": {
        "id": "MazPMRT6i3hI"
      },
      "source": [
        "X_traincv = tfidf_vec.fit_transform(X_train.about.to_list())\n",
        "X_testcv = tfidf_vec.transform(X_test.about.to_list())"
      ],
      "execution_count": null,
      "outputs": []
    },
    {
      "cell_type": "code",
      "metadata": {
        "id": "x_jsM7I3-jak"
      },
      "source": [
        "X_traincv_array = X_traincv.toarray()"
      ],
      "execution_count": null,
      "outputs": []
    },
    {
      "cell_type": "markdown",
      "metadata": {
        "id": "oU2o2bFBhGlf"
      },
      "source": [
        "# **Save TFIDF Model**"
      ]
    },
    {
      "cell_type": "code",
      "metadata": {
        "id": "rDGvF30-hPhQ"
      },
      "source": [
        "import pickle\n",
        "with open(\"/content/drive/My Drive/NLP/with_swaraj/model/tfidf_model_profile_classification.pkl\", \"wb\") as fp:   #Pickling\n",
        "  pickle.dump(tfidf_vec, fp)\n"
      ],
      "execution_count": null,
      "outputs": []
    },
    {
      "cell_type": "markdown",
      "metadata": {
        "id": "skAFD_Q7TP-O"
      },
      "source": [
        "# **Clustering**"
      ]
    },
    {
      "cell_type": "code",
      "metadata": {
        "id": "oNCQeQ8BTS0U"
      },
      "source": [
        "# from sklearn.cluster import KMeans"
      ],
      "execution_count": null,
      "outputs": []
    },
    {
      "cell_type": "code",
      "metadata": {
        "id": "1SdVlRDuTTqo"
      },
      "source": [
        "# kmeans_model = KMeans(n_clusters=9, init='k-means++', max_iter=100) \n",
        "# # X = kmeans_model.fit(model_pvdm.docvecs.doctag_syn0)\n",
        "# x = kmeans_model.fit(X_traincv_array)\n",
        "# labels = kmeans_model.labels_.tolist()"
      ],
      "execution_count": null,
      "outputs": []
    },
    {
      "cell_type": "code",
      "metadata": {
        "id": "SfTAS2QPTtKY"
      },
      "source": [
        "# kmeans_prediction = kmeans_model.fit_predict(X_traincv_array)"
      ],
      "execution_count": null,
      "outputs": []
    },
    {
      "cell_type": "markdown",
      "metadata": {
        "id": "mx2R8Pgx-69y"
      },
      "source": [
        "# **Scatter plot**"
      ]
    },
    {
      "cell_type": "code",
      "metadata": {
        "id": "TZA142Py-9qN"
      },
      "source": [
        "# # from sklearn.decomposition import PCA\n",
        "\n",
        "# pca = PCA(n_components=2).fit(X_traincv_array)\n",
        "# datapoint = pca.transform(X_traincv_array)"
      ],
      "execution_count": null,
      "outputs": []
    },
    {
      "cell_type": "code",
      "metadata": {
        "id": "oA8mHozzAvsk",
        "outputId": "a3ff0fb6-4449-4aa3-94c1-48a32b747608",
        "colab": {
          "base_uri": "https://localhost:8080/",
          "height": 320
        }
      },
      "source": [
        "# import matplotlib.pyplot as plt\n",
        "# %matplotlib inline\n",
        "# plt.figure(figsize=(10, 5))\n",
        "# # label1 = ['#FFFF00', '#008000', '#0000FF', '#800080', '#800450', '#800FF0', '#112328', '#620000', '#FF00FF', 'orange','#00FF66', '#302B54', '#CDAD00', '#D0FAEE', '#D41A1F']\n",
        "# label1 =['red', 'green', 'yellow', 'blue','black','pink','brown','orange','violet']\n",
        "# color = [label1[i] for i in labels]\n",
        "# plt.scatter(datapoint[:, 0], datapoint[:, 1], c=color)\n",
        "# centroids = kmeans_model.cluster_centers_\n",
        "# centroidpoint = pca.transform(centroids)\n",
        "# plt.scatter(centroidpoint[:, 0], centroidpoint[:, 1], marker='^', s=150, c='#000000')\n",
        "# plt.show()"
      ],
      "execution_count": null,
      "outputs": [
        {
          "output_type": "display_data",
          "data": {
            "image/png": "[encoded data removed]",
            "text/plain": [
              "<Figure size 720x360 with 1 Axes>"
            ]
          },
          "metadata": {
            "tags": [],
            "needs_background": "light"
          }
        }
      ]
    },
    {
      "cell_type": "code",
      "metadata": {
        "id": "td-np0rHBBmK"
      },
      "source": [
        ""
      ],
      "execution_count": null,
      "outputs": []
    },
    {
      "cell_type": "markdown",
      "metadata": {
        "id": "W6_95iBbBqLJ"
      },
      "source": [
        "# **Random Forest**"
      ]
    },
    {
      "cell_type": "code",
      "metadata": {
        "id": "FPhv9EvRDDEx",
        "outputId": "c21e2d46-3f6d-43f5-bee3-5e1b89241161",
        "colab": {
          "base_uri": "https://localhost:8080/",
          "height": 153
        }
      },
      "source": [
        "#  importing the Random Forest model\n",
        "from sklearn.ensemble import RandomForestClassifier\n",
        "model = RandomForestClassifier(n_estimators=100)\n",
        "model.fit(X_traincv,y_train)"
      ],
      "execution_count": null,
      "outputs": [
        {
          "output_type": "execute_result",
          "data": {
            "text/plain": [
              "RandomForestClassifier(bootstrap=True, ccp_alpha=0.0, class_weight=None,\n",
              "                       criterion='gini', max_depth=None, max_features='auto',\n",
              "                       max_leaf_nodes=None, max_samples=None,\n",
              "                       min_impurity_decrease=0.0, min_impurity_split=None,\n",
              "                       min_samples_leaf=1, min_samples_split=2,\n",
              "                       min_weight_fraction_leaf=0.0, n_estimators=100,\n",
              "                       n_jobs=None, oob_score=False, random_state=None,\n",
              "                       verbose=0, warm_start=False)"
            ]
          },
          "metadata": {
            "tags": []
          },
          "execution_count": 21
        }
      ]
    },
    {
      "cell_type": "code",
      "metadata": {
        "id": "huoTVM93EK2l"
      },
      "source": [
        "# Predicted results\n",
        "y_result = model.predict(X_testcv)\n",
        "y_prob = model.predict_proba(X_testcv)"
      ],
      "execution_count": null,
      "outputs": []
    },
    {
      "cell_type": "code",
      "metadata": {
        "id": "Yx0dmw1y9Y2B",
        "outputId": "5d05e1ea-9ce6-4875-fa63-67996fe8385a",
        "colab": {
          "base_uri": "https://localhost:8080/",
          "height": 34
        }
      },
      "source": [
        "y_prob[1]"
      ],
      "execution_count": null,
      "outputs": [
        {
          "output_type": "execute_result",
          "data": {
            "text/plain": [
              "array([0.02, 0.  , 0.04, 0.05, 0.02, 0.01, 0.69, 0.05, 0.12])"
            ]
          },
          "metadata": {
            "tags": []
          },
          "execution_count": 23
        }
      ]
    },
    {
      "cell_type": "code",
      "metadata": {
        "id": "d4EiMcB2EWdY",
        "outputId": "bcd3f979-bb9b-4029-a7f3-8a2661854fe2",
        "colab": {
          "base_uri": "https://localhost:8080/",
          "height": 119
        }
      },
      "source": [
        "# Accuracy check\n",
        "from sklearn.metrics import accuracy_score, recall_score, precision_score\n",
        "\n",
        "accuracy = accuracy_score(y_result,y_test)\n",
        "recall = recall_score(y_test, y_result, average='micro')\n",
        "precision = precision_score(y_test, y_result, average='weighted')\n",
        "\n",
        "print(f'accuracy: {accuracy}' ,'\\n' )\n",
        "print(f'recall: {recall}' ,'\\n' )\n",
        "print(f'precision: {precision}' ,'\\n' )"
      ],
      "execution_count": null,
      "outputs": [
        {
          "output_type": "stream",
          "text": [
            "accuracy: 0.8644688644688645 \n",
            "\n",
            "recall: 0.8644688644688645 \n",
            "\n",
            "precision: 0.8744262704442309 \n",
            "\n"
          ],
          "name": "stdout"
        }
      ]
    },
    {
      "cell_type": "code",
      "metadata": {
        "id": "xNf8Okg49mfM",
        "outputId": "24722b12-21ef-4049-dce0-fce91d15bef3",
        "colab": {
          "base_uri": "https://localhost:8080/",
          "height": 170
        }
      },
      "source": [
        "topic_dic"
      ],
      "execution_count": null,
      "outputs": [
        {
          "output_type": "execute_result",
          "data": {
            "text/plain": [
              "{3: 'managerial field',\n",
              " 4: 'hr or people management',\n",
              " 5: 'marketing domain',\n",
              " 7: 'related to data domain',\n",
              " 8: 'related to product visionnaire',\n",
              " 10: 'software domain',\n",
              " 11: 'related to investment; startups looking for investment',\n",
              " 12: 'business,strategic growth,revenue',\n",
              " 14: 'entrepreneur or working with entrepreneur'}"
            ]
          },
          "metadata": {
            "tags": []
          },
          "execution_count": 25
        }
      ]
    },
    {
      "cell_type": "markdown",
      "metadata": {
        "id": "DOxNXRscRu7u"
      },
      "source": [
        "# **Function for finding Probability of Each Class**"
      ]
    },
    {
      "cell_type": "code",
      "metadata": {
        "id": "F5Nm50VcMuRV"
      },
      "source": [
        "def get_class_prob(y_prob_list):\n",
        "  topic_prob = []\n",
        "  for i in range(len(y_prob_list)):\n",
        "    topic3_prob = y_prob_list[i][0]\n",
        "    topic4_prob = y_prob_list[i][1]\n",
        "    topic5_prob = y_prob_list[i][2]\n",
        "    topic7_prob = y_prob_list[i][3]\n",
        "    topic8_prob = y_prob_list[i][4]\n",
        "    topic10_prob = y_prob_list[i][5]\n",
        "    topic11_prob = y_prob_list[i][6]\n",
        "    topic12_prob = y_prob_list[i][7]\n",
        "    topic14_prob = y_prob_list[i][8]\n",
        "    \n",
        "    dic = {'managerial field':topic3_prob, 'hr or people management':topic4_prob, 'marketing domain':topic5_prob, 'data science domain':topic7_prob,\n",
        "          'product visionnaire, management related field':topic8_prob, 'software domain':topic10_prob, 'related to investment,startups looking for investment':topic11_prob,\n",
        "          'business,strategic growth,revenue':topic12_prob, 'entrepreneur or working with entrepreneur':topic14_prob}\n",
        "    sort_dic = sorted(dic.items(), key=lambda x: x[1], reverse=True)\n",
        "    topic_prob.append(sort_dic)\n",
        "  return topic_prob  "
      ],
      "execution_count": null,
      "outputs": []
    },
    {
      "cell_type": "code",
      "metadata": {
        "id": "PPnE8S0wPbtb"
      },
      "source": [
        "topic_prob = get_class_prob(y_prob[:len(y_prob)])\n"
      ],
      "execution_count": null,
      "outputs": []
    },
    {
      "cell_type": "code",
      "metadata": {
        "id": "s5hRpTV48MWb",
        "outputId": "0688e872-12ff-416f-dccf-1fd2fc53d004",
        "colab": {
          "base_uri": "https://localhost:8080/",
          "height": 170
        }
      },
      "source": [
        "topic_prob[1]"
      ],
      "execution_count": null,
      "outputs": [
        {
          "output_type": "execute_result",
          "data": {
            "text/plain": [
              "[('related to investment,startups looking for investment', 0.69),\n",
              " ('entrepreneur or working with entrepreneur', 0.12),\n",
              " ('data science domain', 0.05),\n",
              " ('business,strategic growth,revenue', 0.05),\n",
              " ('marketing domain', 0.04),\n",
              " ('managerial field', 0.02),\n",
              " ('product visionnaire, management related field', 0.02),\n",
              " ('software domain', 0.01),\n",
              " ('hr or people management', 0.0)]"
            ]
          },
          "metadata": {
            "tags": []
          },
          "execution_count": 36
        }
      ]
    },
    {
      "cell_type": "markdown",
      "metadata": {
        "id": "GqMss1GgVO-h"
      },
      "source": [
        "# **Export Result**"
      ]
    },
    {
      "cell_type": "code",
      "metadata": {
        "id": "4kAR_BwiWl22"
      },
      "source": [
        "df_final = X_test"
      ],
      "execution_count": null,
      "outputs": []
    },
    {
      "cell_type": "code",
      "metadata": {
        "id": "drvxlV3BWsmO",
        "outputId": "6b6240a4-f0f3-42f6-9824-723c4e52da5c",
        "colab": {
          "base_uri": "https://localhost:8080/",
          "height": 323
        }
      },
      "source": [
        "df_final['actual'] = y_test\n",
        "df_final['prediction'] = y_result\n",
        "df_final['class_prob'] = topic_prob"
      ],
      "execution_count": null,
      "outputs": [
        {
          "output_type": "stream",
          "text": [
            "/usr/local/lib/python3.6/dist-packages/ipykernel_launcher.py:1: SettingWithCopyWarning: \n",
            "A value is trying to be set on a copy of a slice from a DataFrame.\n",
            "Try using .loc[row_indexer,col_indexer] = value instead\n",
            "\n",
            "See the caveats in the documentation: https://pandas.pydata.org/pandas-docs/stable/user_guide/indexing.html#returning-a-view-versus-a-copy\n",
            "  \"\"\"Entry point for launching an IPython kernel.\n",
            "/usr/local/lib/python3.6/dist-packages/ipykernel_launcher.py:2: SettingWithCopyWarning: \n",
            "A value is trying to be set on a copy of a slice from a DataFrame.\n",
            "Try using .loc[row_indexer,col_indexer] = value instead\n",
            "\n",
            "See the caveats in the documentation: https://pandas.pydata.org/pandas-docs/stable/user_guide/indexing.html#returning-a-view-versus-a-copy\n",
            "  \n",
            "/usr/local/lib/python3.6/dist-packages/ipykernel_launcher.py:3: SettingWithCopyWarning: \n",
            "A value is trying to be set on a copy of a slice from a DataFrame.\n",
            "Try using .loc[row_indexer,col_indexer] = value instead\n",
            "\n",
            "See the caveats in the documentation: https://pandas.pydata.org/pandas-docs/stable/user_guide/indexing.html#returning-a-view-versus-a-copy\n",
            "  This is separate from the ipykernel package so we can avoid doing imports until\n"
          ],
          "name": "stderr"
        }
      ]
    },
    {
      "cell_type": "code",
      "metadata": {
        "id": "Toy8NZPtVR8P"
      },
      "source": [
        "df_final.to_csv('/content/drive/My Drive/NLP/with_swaraj/Data/random_forest_classification_result_1.csv', index=False)"
      ],
      "execution_count": null,
      "outputs": []
    },
    {
      "cell_type": "markdown",
      "metadata": {
        "id": "69QVglIQTT3q"
      },
      "source": [
        "# **Confusion Matrix**"
      ]
    },
    {
      "cell_type": "code",
      "metadata": {
        "id": "QzJmmS2DEX7I",
        "outputId": "b8898f9d-eb04-4f5e-cf70-7b06e2c1b4ad",
        "colab": {
          "base_uri": "https://localhost:8080/",
          "height": 170
        }
      },
      "source": [
        "from sklearn.metrics import confusion_matrix\n",
        "confusion_matrix(y_test,y_result)"
      ],
      "execution_count": null,
      "outputs": [
        {
          "output_type": "execute_result",
          "data": {
            "text/plain": [
              "array([[27,  0,  2,  0,  1,  1,  0,  0,  0],\n",
              "       [ 1, 15,  1,  0,  0,  0,  0,  0,  0],\n",
              "       [ 0,  0, 43,  0,  0,  0,  1,  0,  0],\n",
              "       [ 2,  0,  0, 28,  0,  5,  0,  0,  0],\n",
              "       [ 0,  0,  0,  0, 30,  2,  0,  0,  0],\n",
              "       [ 0,  0,  0,  0,  0, 44,  0,  0,  0],\n",
              "       [ 0,  0,  0,  0,  0,  0, 28,  0,  0],\n",
              "       [ 1,  0,  5,  2,  3,  0,  0, 12,  2],\n",
              "       [ 0,  0,  3,  1,  1,  0,  3,  0,  9]])"
            ]
          },
          "metadata": {
            "tags": []
          },
          "execution_count": 32
        }
      ]
    },
    {
      "cell_type": "markdown",
      "metadata": {
        "id": "zKm2MzavY4Sg"
      },
      "source": [
        "# **Save Model**"
      ]
    },
    {
      "cell_type": "code",
      "metadata": {
        "id": "pZj2Wm-3ZFCz"
      },
      "source": [
        "import pickle\n",
        "\n",
        "with open(\"/content/drive/My Drive/NLP/with_swaraj/model/ranforest_model.pkl\", \"wb\") as fp:   #Pickling\n",
        "  pickle.dump(model, fp)\n"
      ],
      "execution_count": null,
      "outputs": []
    },
    {
      "cell_type": "code",
      "metadata": {
        "id": "5G-xzANZaKbO"
      },
      "source": [
        ""
      ],
      "execution_count": null,
      "outputs": []
    }
  ]
}