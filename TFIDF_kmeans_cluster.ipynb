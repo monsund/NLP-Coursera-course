{
  "nbformat": 4,
  "nbformat_minor": 0,
  "metadata": {
    "colab": {
      "name": "TFIDF_kmeans_cluster.ipynb",
      "provenance": [],
      "mount_file_id": "18K1rInPXKHmglNLHlNtL30CWcbdfLur5",
      "authorship_tag": "ABX9TyNN2boVztOK+qc0uAGyZ7GO",
      "include_colab_link": true
    },
    "kernelspec": {
      "name": "python3",
      "display_name": "Python 3"
    }
  },
  "cells": [
    {
      "cell_type": "markdown",
      "metadata": {
        "id": "view-in-github",
        "colab_type": "text"
      },
      "source": [
        "<a href=\"https://colab.research.google.com/github/monsund/unsupervised-classification-of-Linkedin-Profiles-using-KMeans-LDA-TFIDF/blob/master/TFIDF_kmeans_cluster.ipynb\" target=\"_parent\"><img src=\"https://colab.research.google.com/assets/colab-badge.svg\" alt=\"Open In Colab\"/></a>"
      ]
    },
    {
      "cell_type": "markdown",
      "metadata": {
        "id": "dpkEBwfDgbpp"
      },
      "source": [
        "# **Importing necessary Libraries**"
      ]
    },
    {
      "cell_type": "code",
      "metadata": {
        "id": "h2l1lfxh9KgE"
      },
      "source": [
        "import os\n",
        "import pandas as pd\n",
        "import csv\n",
        "import matplotlib.pyplot as plt\n",
        "%matplotlib inline"
      ],
      "execution_count": 1,
      "outputs": []
    },
    {
      "cell_type": "markdown",
      "metadata": {
        "id": "64iao29iBalC"
      },
      "source": [
        "# **Loading Dataset**"
      ]
    },
    {
      "cell_type": "code",
      "metadata": {
        "id": "e5XMHFMB9Q-D"
      },
      "source": [
        "input_filepath = '/content/drive/My Drive/NLP/with swaraj/Data'\n",
        "input_filename = 'linkedin_about.csv'"
      ],
      "execution_count": null,
      "outputs": []
    },
    {
      "cell_type": "code",
      "metadata": {
        "id": "QwlGNp5K9r1y",
        "outputId": "efd1dd97-3588-4d42-daaa-e985a5f8b1e7",
        "colab": {
          "base_uri": "https://localhost:8080/",
          "height": 111
        }
      },
      "source": [
        "df = pd.read_csv(os.path.join(input_filepath,input_filename))\n",
        "df.dropna(inplace=True)\n",
        "df.reset_index(drop=True, inplace=True)  #Reindexing \n",
        "df.head(1)"
      ],
      "execution_count": null,
      "outputs": [
        {
          "output_type": "execute_result",
          "data": {
            "text/html": [
              "<div>\n",
              "<style scoped>\n",
              "    .dataframe tbody tr th:only-of-type {\n",
              "        vertical-align: middle;\n",
              "    }\n",
              "\n",
              "    .dataframe tbody tr th {\n",
              "        vertical-align: top;\n",
              "    }\n",
              "\n",
              "    .dataframe thead th {\n",
              "        text-align: right;\n",
              "    }\n",
              "</style>\n",
              "<table border=\"1\" class=\"dataframe\">\n",
              "  <thead>\n",
              "    <tr style=\"text-align: right;\">\n",
              "      <th></th>\n",
              "      <th>Unnamed: 0</th>\n",
              "      <th>url</th>\n",
              "      <th>username</th>\n",
              "      <th>title</th>\n",
              "      <th>about</th>\n",
              "    </tr>\n",
              "  </thead>\n",
              "  <tbody>\n",
              "    <tr>\n",
              "      <th>0</th>\n",
              "      <td>0</td>\n",
              "      <td>https://www.linkedin.com/in/lokesh-kumar-xess-...</td>\n",
              "      <td>lokesh-kumar-xess-54814068</td>\n",
              "      <td>Marketing &amp; Strategy at Mobistreak</td>\n",
              "      <td>I am a Google Adwords and Google Analytics cer...</td>\n",
              "    </tr>\n",
              "  </tbody>\n",
              "</table>\n",
              "</div>"
            ],
            "text/plain": [
              "   Unnamed: 0  ...                                              about\n",
              "0           0  ...  I am a Google Adwords and Google Analytics cer...\n",
              "\n",
              "[1 rows x 5 columns]"
            ]
          },
          "metadata": {
            "tags": []
          },
          "execution_count": 5
        }
      ]
    },
    {
      "cell_type": "markdown",
      "metadata": {
        "id": "3QZOMWWX6Bnr"
      },
      "source": [
        "# **Removing Stopwords, Punctuation and Text Lower Case**"
      ]
    },
    {
      "cell_type": "code",
      "metadata": {
        "id": "3VvG83IU6Fct",
        "outputId": "85437c35-eee3-42f0-dc8d-ab362a751506",
        "colab": {
          "base_uri": "https://localhost:8080/",
          "height": 87
        }
      },
      "source": [
        "import nltk\n",
        "nltk.download('punkt')\n",
        "from nltk.corpus import stopwords\n",
        "nltk.download('stopwords')\n",
        "from nltk.tokenize import word_tokenize"
      ],
      "execution_count": null,
      "outputs": [
        {
          "output_type": "stream",
          "text": [
            "[nltk_data] Downloading package punkt to /root/nltk_data...\n",
            "[nltk_data]   Unzipping tokenizers/punkt.zip.\n",
            "[nltk_data] Downloading package stopwords to /root/nltk_data...\n",
            "[nltk_data]   Unzipping corpora/stopwords.zip.\n"
          ],
          "name": "stdout"
        }
      ]
    },
    {
      "cell_type": "code",
      "metadata": {
        "id": "9bDZjoys7D4B"
      },
      "source": [
        "stop_words = set(stopwords.words('english'))\n",
        "punct = set(['.', ',', '&', '\\'', '\"', '(', ')'])\n",
        "stopwords_punct= stop_words.union(punct)\n"
      ],
      "execution_count": null,
      "outputs": []
    },
    {
      "cell_type": "code",
      "metadata": {
        "id": "jGjxw5t18Vx8"
      },
      "source": [
        "# removing stopwords and punctuation\n",
        "data_without_stopwords_punct = []\n",
        "for i in range(len(df)):\n",
        "  word_tokens = word_tokenize(df.about[i].lower())         #lowering case----------------\n",
        "  filtered_sentence = [w for w in word_tokens if not w in stopwords_punct]\n",
        "  data_without_stopwords_punct.append(' '.join(filtered_sentence))"
      ],
      "execution_count": null,
      "outputs": []
    },
    {
      "cell_type": "code",
      "metadata": {
        "id": "Fahud5zc6aU0",
        "outputId": "5a282d7a-47d3-4143-94f5-8d8988145a1d",
        "colab": {
          "base_uri": "https://localhost:8080/",
          "height": 331
        }
      },
      "source": [
        "df['cleaned_about_us'] = data_without_stopwords_punct\n",
        "df.head()"
      ],
      "execution_count": null,
      "outputs": [
        {
          "output_type": "execute_result",
          "data": {
            "text/html": [
              "<div>\n",
              "<style scoped>\n",
              "    .dataframe tbody tr th:only-of-type {\n",
              "        vertical-align: middle;\n",
              "    }\n",
              "\n",
              "    .dataframe tbody tr th {\n",
              "        vertical-align: top;\n",
              "    }\n",
              "\n",
              "    .dataframe thead th {\n",
              "        text-align: right;\n",
              "    }\n",
              "</style>\n",
              "<table border=\"1\" class=\"dataframe\">\n",
              "  <thead>\n",
              "    <tr style=\"text-align: right;\">\n",
              "      <th></th>\n",
              "      <th>Unnamed: 0</th>\n",
              "      <th>url</th>\n",
              "      <th>username</th>\n",
              "      <th>title</th>\n",
              "      <th>about</th>\n",
              "      <th>cleaned_about_us</th>\n",
              "    </tr>\n",
              "  </thead>\n",
              "  <tbody>\n",
              "    <tr>\n",
              "      <th>0</th>\n",
              "      <td>0</td>\n",
              "      <td>https://www.linkedin.com/in/lokesh-kumar-xess-...</td>\n",
              "      <td>lokesh-kumar-xess-54814068</td>\n",
              "      <td>Marketing &amp; Strategy at Mobistreak</td>\n",
              "      <td>I am a Google Adwords and Google Analytics cer...</td>\n",
              "      <td>google adwords google analytics certified ppc ...</td>\n",
              "    </tr>\n",
              "    <tr>\n",
              "      <th>1</th>\n",
              "      <td>1</td>\n",
              "      <td>https://in.linkedin.com/in/sujithnarayanan</td>\n",
              "      <td>sujithnarayanan</td>\n",
              "      <td>Reimagining Financial Services for India</td>\n",
              "      <td>Ideate. Execute. Disrupt. Iterate.</td>\n",
              "      <td>ideate execute disrupt iterate</td>\n",
              "    </tr>\n",
              "    <tr>\n",
              "      <th>2</th>\n",
              "      <td>2</td>\n",
              "      <td>https://www.linkedin.com/in/adarshramakrishnan</td>\n",
              "      <td>adarshramakrishnan</td>\n",
              "      <td>Product Strategist | Product Manager | Triple ...</td>\n",
              "      <td>Over the past decade, I have co-founded 3 vent...</td>\n",
              "      <td>past decade co-founded 3 ventures elegant solu...</td>\n",
              "    </tr>\n",
              "    <tr>\n",
              "      <th>3</th>\n",
              "      <td>3</td>\n",
              "      <td>https://www.linkedin.com/in/rhythm-bhatnagar-4...</td>\n",
              "      <td>rhythm-bhatnagar-4350b551</td>\n",
              "      <td>Product Marketer | Ex-SHEROES | Early-Stage St...</td>\n",
              "      <td>Hey,I am Rhythm. I am passionate about startup...</td>\n",
              "      <td>hey rhythm passionate startups building deeper...</td>\n",
              "    </tr>\n",
              "    <tr>\n",
              "      <th>4</th>\n",
              "      <td>4</td>\n",
              "      <td>https://www.linkedin.com/in/karthiksureshlbs</td>\n",
              "      <td>karthiksureshlbs</td>\n",
              "      <td>Product at Facebook | CMU MS | LBS MBA</td>\n",
              "      <td>I am a product-centric builder with experience...</td>\n",
              "      <td>product-centric builder experience founder ear...</td>\n",
              "    </tr>\n",
              "  </tbody>\n",
              "</table>\n",
              "</div>"
            ],
            "text/plain": [
              "   Unnamed: 0  ...                                   cleaned_about_us\n",
              "0           0  ...  google adwords google analytics certified ppc ...\n",
              "1           1  ...                     ideate execute disrupt iterate\n",
              "2           2  ...  past decade co-founded 3 ventures elegant solu...\n",
              "3           3  ...  hey rhythm passionate startups building deeper...\n",
              "4           4  ...  product-centric builder experience founder ear...\n",
              "\n",
              "[5 rows x 6 columns]"
            ]
          },
          "metadata": {
            "tags": []
          },
          "execution_count": 10
        }
      ]
    },
    {
      "cell_type": "markdown",
      "metadata": {
        "id": "vbM23U_jMoka"
      },
      "source": [
        "# **Vectorize data with TFIDF**"
      ]
    },
    {
      "cell_type": "code",
      "metadata": {
        "id": "wjnplSigMvGZ"
      },
      "source": [
        "from sklearn.feature_extraction.text import TfidfVectorizer"
      ],
      "execution_count": null,
      "outputs": []
    },
    {
      "cell_type": "code",
      "metadata": {
        "id": "gnsJ00bLNOdy",
        "outputId": "e0efdab1-34f2-4b13-c2b3-d5b783110eb6",
        "colab": {
          "base_uri": "https://localhost:8080/",
          "height": 34
        }
      },
      "source": [
        "tfidf_vectorizer = TfidfVectorizer(max_df=0.95, min_df=5, ngram_range=(1,2) , max_features=15000)\n",
        "X = tfidf_vectorizer.fit_transform(df.cleaned_about_us.to_list())\n",
        "model = X.toarray()\n",
        "print(len(model), len(model[0]))"
      ],
      "execution_count": null,
      "outputs": [
        {
          "output_type": "stream",
          "text": [
            "9541 15000\n"
          ],
          "name": "stdout"
        }
      ]
    },
    {
      "cell_type": "code",
      "metadata": {
        "id": "ACTirFbTj11S"
      },
      "source": [
        "from sklearn.decomposition import PCA\n",
        "\n",
        "pca = PCA(n_components=2).fit(model)\n",
        "datapoint = pca.transform(model)"
      ],
      "execution_count": null,
      "outputs": []
    },
    {
      "cell_type": "markdown",
      "metadata": {
        "id": "skAFD_Q7TP-O"
      },
      "source": [
        "# **Clustering**"
      ]
    },
    {
      "cell_type": "code",
      "metadata": {
        "id": "oNCQeQ8BTS0U"
      },
      "source": [
        "from sklearn.cluster import KMeans"
      ],
      "execution_count": null,
      "outputs": []
    },
    {
      "cell_type": "code",
      "metadata": {
        "id": "1SdVlRDuTTqo"
      },
      "source": [
        "kmeans_model = KMeans(n_clusters=4, init='k-means++', max_iter=100) \n",
        "# X = kmeans_model.fit(model_pvdm.docvecs.doctag_syn0)\n",
        "X = kmeans_model.fit(model)\n",
        "labels = kmeans_model.labels_.tolist()"
      ],
      "execution_count": null,
      "outputs": []
    },
    {
      "cell_type": "code",
      "metadata": {
        "id": "SfTAS2QPTtKY"
      },
      "source": [
        "kmeans_prediction = kmeans_model.fit_predict(model)"
      ],
      "execution_count": null,
      "outputs": []
    },
    {
      "cell_type": "markdown",
      "metadata": {
        "id": "pFNwtqbjlfoS"
      },
      "source": [
        "# **Elbow method for finding optimal K in Kmeans**"
      ]
    },
    {
      "cell_type": "code",
      "metadata": {
        "id": "zPwrD-gmlol5"
      },
      "source": [
        "# function returns Within-Cluster-Sum of Squared Errors (WSS) score for k values from 1 to kmax\n",
        "def calculate_WSS(points, kmax):\n",
        "  sse = []\n",
        "  for k in range(1, kmax+1):\n",
        "    kmeans = KMeans(n_clusters = k).fit(points)\n",
        "    centroids = kmeans.cluster_centers_\n",
        "    pred_clusters = kmeans.predict(points)\n",
        "    curr_sse = 0\n",
        "    \n",
        "    # calculate square of Euclidean distance of each point from its cluster center and add to current WSS\n",
        "    for i in range(len(points)):\n",
        "      curr_center = centroids[pred_clusters[i]]\n",
        "      curr_sse += (points[i, 0] - curr_center[0]) ** 2 + (points[i, 1] - curr_center[1]) ** 2\n",
        "      \n",
        "    sse.append(curr_sse)\n",
        "  return sse"
      ],
      "execution_count": null,
      "outputs": []
    },
    {
      "cell_type": "code",
      "metadata": {
        "id": "Zb1JN6BClypq"
      },
      "source": [
        "k_size = 10\n",
        "wss = calculate_WSS(datapoint, k_size)\n",
        "k = [x for x in range(k_size)]"
      ],
      "execution_count": null,
      "outputs": []
    },
    {
      "cell_type": "code",
      "metadata": {
        "id": "1n5LXfeumTM3",
        "outputId": "8f0ea582-b785-4ef7-8768-75b75e3a76fa",
        "colab": {
          "base_uri": "https://localhost:8080/",
          "height": 514
        }
      },
      "source": [
        "plt.figure(figsize=(20,10)) # Size of figure is adjusted.\n",
        "plt.xticks(fontsize=20) # Size of number labels on x-axis is adjusted.\n",
        "plt.yticks(fontsize=20) # Size of number labels on y-axis is adjusted.\n",
        "plt.plot(k,wss,'go--', linewidth=1.5, markersize=4) # Graph is plotted.\n",
        "plt.xlabel('Value of k',fontsize = 25) # x-axis is labelled.\n",
        "plt.ylabel('Value of WSS',fontsize = 25) # y-axis is labelled."
      ],
      "execution_count": null,
      "outputs": [
        {
          "output_type": "execute_result",
          "data": {
            "text/plain": [
              "Text(0, 0.5, 'Value of WSS')"
            ]
          },
          "metadata": {
            "tags": []
          },
          "execution_count": 16
        },
        {
          "output_type": "display_data",
          "data": {
            "image/png": "[encoded data removed]",
            "text/plain": [
              "<Figure size 1440x720 with 1 Axes>"
            ]
          },
          "metadata": {
            "tags": [],
            "needs_background": "light"
          }
        }
      ]
    },
    {
      "cell_type": "markdown",
      "metadata": {
        "id": "PyHG6vCLnXnr"
      },
      "source": [
        "# ***The Silhouette Method ***"
      ]
    },
    {
      "cell_type": "code",
      "metadata": {
        "id": "zoTeEpljnx34"
      },
      "source": [
        "from sklearn.metrics import silhouette_score\n",
        "\n",
        "sil = []\n",
        "kmax = 20\n",
        "\n",
        "# dissimilarity would not be defined for a single cluster, thus, minimum number of clusters should be 2\n",
        "for k in range(2, kmax+1):\n",
        "  kmeans = KMeans(n_clusters = k).fit(datapoint)\n",
        "  labels = kmeans.labels_\n",
        "  sil.append(silhouette_score(datapoint, labels, metric = 'euclidean'))"
      ],
      "execution_count": null,
      "outputs": []
    },
    {
      "cell_type": "code",
      "metadata": {
        "id": "1wEgIJVfotMD"
      },
      "source": [
        "k_sil = [x for x in range(2,21)]"
      ],
      "execution_count": null,
      "outputs": []
    },
    {
      "cell_type": "code",
      "metadata": {
        "id": "pccUwQwcofdG",
        "outputId": "26079c66-f762-40f6-88af-2fcd66de84a3",
        "colab": {
          "base_uri": "https://localhost:8080/",
          "height": 512
        }
      },
      "source": [
        "plt.figure(figsize=(20,10)) # Size of figure is adjusted.\n",
        "plt.xticks(fontsize=20) # Size of number labels on x-axis is adjusted.\n",
        "plt.yticks(fontsize=20) # Size of number labels on y-axis is adjusted.\n",
        "plt.plot(k_sil,sil,'go--', linewidth=1.5, markersize=4) # Graph is plotted.\n",
        "plt.xlabel('Value of k',fontsize = 25) # x-axis is labelled.\n",
        "plt.ylabel('Value of sil',fontsize = 25) # y-axis is labelled."
      ],
      "execution_count": null,
      "outputs": [
        {
          "output_type": "execute_result",
          "data": {
            "text/plain": [
              "Text(0, 0.5, 'Value of sil')"
            ]
          },
          "metadata": {
            "tags": []
          },
          "execution_count": 19
        },
        {
          "output_type": "display_data",
          "data": {
            "image/png": "[encoded data removed]",
            "text/plain": [
              "<Figure size 1440x720 with 1 Axes>"
            ]
          },
          "metadata": {
            "tags": [],
            "needs_background": "light"
          }
        }
      ]
    },
    {
      "cell_type": "markdown",
      "metadata": {
        "id": "5O9N8w-AltIR"
      },
      "source": [
        "# **Visualization of Clusters**"
      ]
    },
    {
      "cell_type": "code",
      "metadata": {
        "id": "uDOXGChkT6qD",
        "outputId": "f0b389f1-4724-474c-a7ab-03aa069db0cf",
        "colab": {
          "base_uri": "https://localhost:8080/",
          "height": 320
        }
      },
      "source": [
        "import matplotlib.pyplot as plt\n",
        "%matplotlib inline\n",
        "plt.figure(figsize=(10, 5))\n",
        "# label1 = ['#FFFF00', '#008000', '#0000FF', '#800080', '#800450', '#800FF0', '#112328', '#620000', '#FF00FF', 'orange','#00FF66', '#302B54', '#CDAD00', '#D0FAEE', '#D41A1F']\n",
        "label1 =['red', 'green', 'yellow', 'blue']\n",
        "color = [label1[i] for i in labels]\n",
        "plt.scatter(datapoint[:, 0], datapoint[:, 1], c=color)\n",
        "centroids = kmeans_model.cluster_centers_\n",
        "centroidpoint = pca.transform(centroids)\n",
        "plt.scatter(centroidpoint[:, 0], centroidpoint[:, 1], marker='^', s=150, c='#000000')\n",
        "plt.show()"
      ],
      "execution_count": null,
      "outputs": [
        {
          "output_type": "display_data",
          "data": {
            "image/png": "[encoded data removed]",
            "text/plain": [
              "<Figure size 720x360 with 1 Axes>"
            ]
          },
          "metadata": {
            "tags": [],
            "needs_background": "light"
          }
        }
      ]
    },
    {
      "cell_type": "code",
      "metadata": {
        "id": "zAUWc7AiYDhU",
        "outputId": "c7042c94-bde6-4195-d241-6f7e7c0eb332",
        "colab": {
          "base_uri": "https://localhost:8080/",
          "height": 1000
        }
      },
      "source": [
        "df[\"cluster\"] = kmeans_prediction\n",
        "\n",
        "df[df[\"cluster\"]==1].head(20)"
      ],
      "execution_count": null,
      "outputs": [
        {
          "output_type": "execute_result",
          "data": {
            "text/html": [
              "<div>\n",
              "<style scoped>\n",
              "    .dataframe tbody tr th:only-of-type {\n",
              "        vertical-align: middle;\n",
              "    }\n",
              "\n",
              "    .dataframe tbody tr th {\n",
              "        vertical-align: top;\n",
              "    }\n",
              "\n",
              "    .dataframe thead th {\n",
              "        text-align: right;\n",
              "    }\n",
              "</style>\n",
              "<table border=\"1\" class=\"dataframe\">\n",
              "  <thead>\n",
              "    <tr style=\"text-align: right;\">\n",
              "      <th></th>\n",
              "      <th>Unnamed: 0</th>\n",
              "      <th>url</th>\n",
              "      <th>username</th>\n",
              "      <th>title</th>\n",
              "      <th>about</th>\n",
              "      <th>cleaned_about_us</th>\n",
              "      <th>cluster</th>\n",
              "    </tr>\n",
              "  </thead>\n",
              "  <tbody>\n",
              "    <tr>\n",
              "      <th>0</th>\n",
              "      <td>0</td>\n",
              "      <td>https://www.linkedin.com/in/lokesh-kumar-xess-...</td>\n",
              "      <td>lokesh-kumar-xess-54814068</td>\n",
              "      <td>Marketing &amp; Strategy at Mobistreak</td>\n",
              "      <td>I am a Google Adwords and Google Analytics cer...</td>\n",
              "      <td>google adwords google analytics certified ppc ...</td>\n",
              "      <td>1</td>\n",
              "    </tr>\n",
              "    <tr>\n",
              "      <th>6</th>\n",
              "      <td>6</td>\n",
              "      <td>https://www.linkedin.com/in/karthikprabhakar</td>\n",
              "      <td>karthikprabhakar</td>\n",
              "      <td>Executive Director and Partner at Chiratae Ven...</td>\n",
              "      <td>Karthik Prabhakar is the Executive Director an...</td>\n",
              "      <td>karthik prabhakar executive director partner c...</td>\n",
              "      <td>1</td>\n",
              "    </tr>\n",
              "    <tr>\n",
              "      <th>10</th>\n",
              "      <td>10</td>\n",
              "      <td>https://www.linkedin.com/in/supadhyay</td>\n",
              "      <td>supadhyay</td>\n",
              "      <td>CEO/GM for AI/SaaS/Data companies</td>\n",
              "      <td>Product and GTM for companies at the intersect...</td>\n",
              "      <td>product gtm companies intersection data aispec...</td>\n",
              "      <td>1</td>\n",
              "    </tr>\n",
              "    <tr>\n",
              "      <th>13</th>\n",
              "      <td>13</td>\n",
              "      <td>https://www.linkedin.com/in/leandromargulis</td>\n",
              "      <td>leandromargulis</td>\n",
              "      <td>Business Accelerator | People Connector | Advo...</td>\n",
              "      <td>Entrepreneurial leader with strong Business De...</td>\n",
              "      <td>entrepreneurial leader strong business develop...</td>\n",
              "      <td>1</td>\n",
              "    </tr>\n",
              "    <tr>\n",
              "      <th>14</th>\n",
              "      <td>14</td>\n",
              "      <td>https://www.linkedin.com/in/jphillipnelson</td>\n",
              "      <td>jphillipnelson</td>\n",
              "      <td>Product Manager at Google</td>\n",
              "      <td>I am an experienced entrepreneur, product lead...</td>\n",
              "      <td>experienced entrepreneur product leader softwa...</td>\n",
              "      <td>1</td>\n",
              "    </tr>\n",
              "    <tr>\n",
              "      <th>17</th>\n",
              "      <td>17</td>\n",
              "      <td>https://www.linkedin.com/in/jatinmehtaaiqudo</td>\n",
              "      <td>jatinmehtaaiqudo</td>\n",
              "      <td>VP, Business Development at Aiqudo (Previously...</td>\n",
              "      <td>A senior leader with 15 years of experience in...</td>\n",
              "      <td>senior leader 15 years experience business dev...</td>\n",
              "      <td>1</td>\n",
              "    </tr>\n",
              "    <tr>\n",
              "      <th>19</th>\n",
              "      <td>20</td>\n",
              "      <td>https://www.linkedin.com/in/brianli2004</td>\n",
              "      <td>brianli2004</td>\n",
              "      <td>Bizops/CorpDev. Ex-Linkedin. Moved to LA.</td>\n",
              "      <td>Having fun building teams and operations at hi...</td>\n",
              "      <td>fun building teams operations high-growth tech...</td>\n",
              "      <td>1</td>\n",
              "    </tr>\n",
              "    <tr>\n",
              "      <th>20</th>\n",
              "      <td>21</td>\n",
              "      <td>https://www.linkedin.com/in/shravansogani</td>\n",
              "      <td>shravansogani</td>\n",
              "      <td>Senior Director Of Engineering at SurveyMonkey</td>\n",
              "      <td>Passionate, well-grounded, and decisive Engine...</td>\n",
              "      <td>passionate well-grounded decisive engineering ...</td>\n",
              "      <td>1</td>\n",
              "    </tr>\n",
              "    <tr>\n",
              "      <th>21</th>\n",
              "      <td>22</td>\n",
              "      <td>https://in.linkedin.com/in/nshntdxt</td>\n",
              "      <td>nshntdxt</td>\n",
              "      <td>Engineering Leader at Slack</td>\n",
              "      <td>Building high functioning agile teams, one ste...</td>\n",
              "      <td>building high functioning agile teams one step...</td>\n",
              "      <td>1</td>\n",
              "    </tr>\n",
              "    <tr>\n",
              "      <th>23</th>\n",
              "      <td>25</td>\n",
              "      <td>https://www.linkedin.com/in/rsudhirshenoy</td>\n",
              "      <td>rsudhirshenoy</td>\n",
              "      <td>Product Management, Marketing and Channel Mana...</td>\n",
              "      <td>Experienced Professional in the Technology Ind...</td>\n",
              "      <td>experienced professional technology industry r...</td>\n",
              "      <td>1</td>\n",
              "    </tr>\n",
              "    <tr>\n",
              "      <th>26</th>\n",
              "      <td>29</td>\n",
              "      <td>https://www.linkedin.com/in/talvindersingh</td>\n",
              "      <td>talvindersingh</td>\n",
              "      <td>pragmaticleaders.io - Become a Product Manager...</td>\n",
              "      <td>A committed and highly focused entrepreneur an...</td>\n",
              "      <td>committed highly focused entrepreneur product ...</td>\n",
              "      <td>1</td>\n",
              "    </tr>\n",
              "    <tr>\n",
              "      <th>28</th>\n",
              "      <td>33</td>\n",
              "      <td>https://www.linkedin.com/in/atingarg29</td>\n",
              "      <td>atingarg29</td>\n",
              "      <td>PM at Telio</td>\n",
              "      <td>Love solving product-journey problems in the c...</td>\n",
              "      <td>love solving product-journey problems consumer...</td>\n",
              "      <td>1</td>\n",
              "    </tr>\n",
              "    <tr>\n",
              "      <th>30</th>\n",
              "      <td>39</td>\n",
              "      <td>https://in.linkedin.com/in/deepak-gupta-92655a12</td>\n",
              "      <td>deepak-gupta-92655a12</td>\n",
              "      <td>CFO at Indo Nissin Foods Pvt. Ltd</td>\n",
              "      <td>Finance Professional with over 21+ years of ri...</td>\n",
              "      <td>finance professional 21+ years rich experience...</td>\n",
              "      <td>1</td>\n",
              "    </tr>\n",
              "    <tr>\n",
              "      <th>31</th>\n",
              "      <td>40</td>\n",
              "      <td>https://www.linkedin.com/in/deepa-wasson-29b58...</td>\n",
              "      <td>deepa-wasson-29b58a95</td>\n",
              "      <td>CFO at Indo Nissin Foods Pvt. Ltd</td>\n",
              "      <td>Finance Professional with over 21+ years of ri...</td>\n",
              "      <td>finance professional 21+ years rich experience...</td>\n",
              "      <td>1</td>\n",
              "    </tr>\n",
              "    <tr>\n",
              "      <th>32</th>\n",
              "      <td>41</td>\n",
              "      <td>https://in.linkedin.com/in/rishi-srivastava-12...</td>\n",
              "      <td>rishi-srivastava-120b005</td>\n",
              "      <td>Founder AARK TechAccess, General Partner BOV C...</td>\n",
              "      <td>Executive with 26+ years of international expe...</td>\n",
              "      <td>executive 26+ years international experience t...</td>\n",
              "      <td>1</td>\n",
              "    </tr>\n",
              "    <tr>\n",
              "      <th>33</th>\n",
              "      <td>42</td>\n",
              "      <td>https://www.linkedin.com/in/erincummins</td>\n",
              "      <td>erincummins</td>\n",
              "      <td>Director of Product at Artemis</td>\n",
              "      <td>Product manager/leader and startup advisor wit...</td>\n",
              "      <td>product manager/leader startup advisor nine ye...</td>\n",
              "      <td>1</td>\n",
              "    </tr>\n",
              "    <tr>\n",
              "      <th>34</th>\n",
              "      <td>43</td>\n",
              "      <td>https://in.linkedin.com/in/anjali-tiwary</td>\n",
              "      <td>anjali-tiwary</td>\n",
              "      <td>Founder &amp; CEO, AugLi</td>\n",
              "      <td>Well communicated ideas hold the power to infl...</td>\n",
              "      <td>well communicated ideas hold power influence p...</td>\n",
              "      <td>1</td>\n",
              "    </tr>\n",
              "    <tr>\n",
              "      <th>41</th>\n",
              "      <td>55</td>\n",
              "      <td>https://www.linkedin.com/in/mohammedaboobacker</td>\n",
              "      <td>mohammedaboobacker</td>\n",
              "      <td>YCombinator Alum | Ex Freshworks | 2X Entrepre...</td>\n",
              "      <td>Energetic self-starter and continuous learner ...</td>\n",
              "      <td>energetic self-starter continuous learner focu...</td>\n",
              "      <td>1</td>\n",
              "    </tr>\n",
              "    <tr>\n",
              "      <th>47</th>\n",
              "      <td>63</td>\n",
              "      <td>https://www.linkedin.com/in/ujjwaltrivedi</td>\n",
              "      <td>ujjwaltrivedi</td>\n",
              "      <td>Products at MoveInSync</td>\n",
              "      <td>Currently, leading the SaaS Product team that ...</td>\n",
              "      <td>currently leading saas product team manages 3 ...</td>\n",
              "      <td>1</td>\n",
              "    </tr>\n",
              "    <tr>\n",
              "      <th>49</th>\n",
              "      <td>66</td>\n",
              "      <td>https://www.linkedin.com/in/sandeeptodi</td>\n",
              "      <td>sandeeptodi</td>\n",
              "      <td>Co-founder &amp; Chief Business Officer at REMITR....</td>\n",
              "      <td>International payments technology is age-old a...</td>\n",
              "      <td>international payments technology age-old brok...</td>\n",
              "      <td>1</td>\n",
              "    </tr>\n",
              "  </tbody>\n",
              "</table>\n",
              "</div>"
            ],
            "text/plain": [
              "    Unnamed: 0  ... cluster\n",
              "0            0  ...       1\n",
              "6            6  ...       1\n",
              "10          10  ...       1\n",
              "13          13  ...       1\n",
              "14          14  ...       1\n",
              "17          17  ...       1\n",
              "19          20  ...       1\n",
              "20          21  ...       1\n",
              "21          22  ...       1\n",
              "23          25  ...       1\n",
              "26          29  ...       1\n",
              "28          33  ...       1\n",
              "30          39  ...       1\n",
              "31          40  ...       1\n",
              "32          41  ...       1\n",
              "33          42  ...       1\n",
              "34          43  ...       1\n",
              "41          55  ...       1\n",
              "47          63  ...       1\n",
              "49          66  ...       1\n",
              "\n",
              "[20 rows x 7 columns]"
            ]
          },
          "metadata": {
            "tags": []
          },
          "execution_count": 19
        }
      ]
    },
    {
      "cell_type": "code",
      "metadata": {
        "id": "d7mrOJJDnRL1",
        "outputId": "d89b5a07-2bc9-445b-fb49-5816b5d7f310",
        "colab": {
          "base_uri": "https://localhost:8080/",
          "height": 221
        }
      },
      "source": [
        "print(len(df[df['cluster']==0]))\n",
        "df[df[\"cluster\"]==0].about.head(10)"
      ],
      "execution_count": null,
      "outputs": [
        {
          "output_type": "stream",
          "text": [
            "171\n"
          ],
          "name": "stdout"
        },
        {
          "output_type": "execute_result",
          "data": {
            "text/plain": [
              "310     Socio en EntrepreneurlandSocio en FairwindSoci...\n",
              "923     Problemen oplossen op snijvlak Business - IT, ...\n",
              "1255    Emprendedor & Programador | Cofundador de Cole...\n",
              "1457    Co-fundador de Rocketbot, solución de RPA que ...\n",
              "1480    Antti Kulppi es experto en tecnología y nuevas...\n",
              "1482    En los últimos años he incubado 5 proyectos es...\n",
              "1483     En los últimos años he incubado 5 proyectos e...\n",
              "1557    Building Open Banking en FloidInformación fina...\n",
              "2478    Orientación y Atención en la Estrategia y Ases...\n",
              "2907    🔥 DEUX.IO ➭• La meilleure agence de Growth Mar...\n",
              "Name: about, dtype: object"
            ]
          },
          "metadata": {
            "tags": []
          },
          "execution_count": 24
        }
      ]
    },
    {
      "cell_type": "code",
      "metadata": {
        "id": "2hJjX5o1cntu"
      },
      "source": [
        "df.to_csv('/content/drive/My Drive/NLP/with swaraj/Data/tfidf_kmeans_cluster_results_123.csv', index=False)"
      ],
      "execution_count": null,
      "outputs": []
    },
    {
      "cell_type": "code",
      "metadata": {
        "id": "rSrJwEM1ZqcQ"
      },
      "source": [
        ""
      ],
      "execution_count": null,
      "outputs": []
    }
  ]
}