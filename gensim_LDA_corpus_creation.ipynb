{
  "nbformat": 4,
  "nbformat_minor": 0,
  "metadata": {
    "colab": {
      "name": "gensim_LDA_corpus_creation.ipynb",
      "provenance": [],
      "toc_visible": true,
      "mount_file_id": "1vxPpxYqAf5N8rwOH491Fdj_aIj8fEcN0",
      "authorship_tag": "ABX9TyMvvJqWYGI/boZsNe8dfgLi",
      "include_colab_link": true
    },
    "kernelspec": {
      "name": "python3",
      "display_name": "Python 3"
    }
  },
  "cells": [
    {
      "cell_type": "markdown",
      "metadata": {
        "id": "view-in-github",
        "colab_type": "text"
      },
      "source": [
        "<a href=\"https://colab.research.google.com/github/monsund/unsupervised-classification-of-Linkedin-Profiles-using-KMeans-LDA-TFIDF/blob/master/gensim_LDA_corpus_creation.ipynb\" target=\"_parent\"><img src=\"https://colab.research.google.com/assets/colab-badge.svg\" alt=\"Open In Colab\"/></a>"
      ]
    },
    {
      "cell_type": "markdown",
      "metadata": {
        "id": "kbQlTWfvlW6r"
      },
      "source": [
        "# **Importing Gesim Libraries**"
      ]
    },
    {
      "cell_type": "code",
      "metadata": {
        "id": "Ly6Cjoe88rdz"
      },
      "source": [
        "import gensim\n",
        "import gensim.corpora as corpora\n",
        "from gensim.utils import simple_preprocess\n",
        "from gensim.models import CoherenceModel"
      ],
      "execution_count": null,
      "outputs": []
    },
    {
      "cell_type": "markdown",
      "metadata": {
        "id": "iqxzA_r19Jtf"
      },
      "source": [
        "# **Other Libraries**"
      ]
    },
    {
      "cell_type": "code",
      "metadata": {
        "id": "2h5wZw3V9O7g",
        "outputId": "726d3771-3100-4d42-ef13-77eddc0e5037",
        "colab": {
          "base_uri": "https://localhost:8080/",
          "height": 51
        }
      },
      "source": [
        "import spacy\n",
        "import nltk \n",
        "nltk.download('stopwords')\n",
        "import pandas as pd"
      ],
      "execution_count": null,
      "outputs": [
        {
          "output_type": "stream",
          "text": [
            "[nltk_data] Downloading package stopwords to /root/nltk_data...\n",
            "[nltk_data]   Unzipping corpora/stopwords.zip.\n"
          ],
          "name": "stdout"
        }
      ]
    },
    {
      "cell_type": "code",
      "metadata": {
        "id": "GOPQ7nl8YRfP",
        "outputId": "7b5f9dca-6178-468c-9816-4bba928ffdd7",
        "colab": {
          "base_uri": "https://localhost:8080/",
          "height": 187
        }
      },
      "source": [
        "!pip show spacy"
      ],
      "execution_count": null,
      "outputs": [
        {
          "output_type": "stream",
          "text": [
            "Name: spacy\n",
            "Version: 2.2.4\n",
            "Summary: Industrial-strength Natural Language Processing (NLP) in Python\n",
            "Home-page: https://spacy.io\n",
            "Author: Explosion\n",
            "Author-email: contact@explosion.ai\n",
            "License: MIT\n",
            "Location: /usr/local/lib/python3.6/dist-packages\n",
            "Requires: thinc, srsly, blis, preshed, numpy, catalogue, tqdm, requests, plac, murmurhash, setuptools, cymem, wasabi\n",
            "Required-by: fastai, en-core-web-sm\n"
          ],
          "name": "stdout"
        }
      ]
    },
    {
      "cell_type": "markdown",
      "metadata": {
        "id": "44tfQKaG9mDO"
      },
      "source": [
        "# **Import and Read File**"
      ]
    },
    {
      "cell_type": "code",
      "metadata": {
        "id": "0zUq4lXg9QQE"
      },
      "source": [
        "df = pd.read_csv('/content/drive/My Drive/NLP/with_swaraj/Data/linkedin_about_no_foreign_lang.csv')"
      ],
      "execution_count": null,
      "outputs": []
    },
    {
      "cell_type": "code",
      "metadata": {
        "id": "m3oJYYWy9lKp",
        "outputId": "70651785-95e8-41d3-e4db-9a38a3420d47",
        "colab": {
          "base_uri": "https://localhost:8080/",
          "height": 204
        }
      },
      "source": [
        "df = df.dropna()\n",
        "df = df.drop(['cleaned_about_us', 'cluster'], axis=1)\n",
        "df.head()"
      ],
      "execution_count": null,
      "outputs": [
        {
          "output_type": "execute_result",
          "data": {
            "text/html": [
              "<div>\n",
              "<style scoped>\n",
              "    .dataframe tbody tr th:only-of-type {\n",
              "        vertical-align: middle;\n",
              "    }\n",
              "\n",
              "    .dataframe tbody tr th {\n",
              "        vertical-align: top;\n",
              "    }\n",
              "\n",
              "    .dataframe thead th {\n",
              "        text-align: right;\n",
              "    }\n",
              "</style>\n",
              "<table border=\"1\" class=\"dataframe\">\n",
              "  <thead>\n",
              "    <tr style=\"text-align: right;\">\n",
              "      <th></th>\n",
              "      <th>url</th>\n",
              "      <th>username</th>\n",
              "      <th>title</th>\n",
              "      <th>about</th>\n",
              "    </tr>\n",
              "  </thead>\n",
              "  <tbody>\n",
              "    <tr>\n",
              "      <th>0</th>\n",
              "      <td>https://www.linkedin.com/in/lokesh-kumar-xess-...</td>\n",
              "      <td>lokesh-kumar-xess-54814068</td>\n",
              "      <td>Marketing &amp; Strategy at Mobistreak</td>\n",
              "      <td>I am a Google Adwords and Google Analytics cer...</td>\n",
              "    </tr>\n",
              "    <tr>\n",
              "      <th>1</th>\n",
              "      <td>https://in.linkedin.com/in/sujithnarayanan</td>\n",
              "      <td>sujithnarayanan</td>\n",
              "      <td>Reimagining Financial Services for India</td>\n",
              "      <td>Ideate. Execute. Disrupt. Iterate.</td>\n",
              "    </tr>\n",
              "    <tr>\n",
              "      <th>2</th>\n",
              "      <td>https://www.linkedin.com/in/adarshramakrishnan</td>\n",
              "      <td>adarshramakrishnan</td>\n",
              "      <td>Product Strategist | Product Manager | Triple ...</td>\n",
              "      <td>Over the past decade, I have co-founded 3 vent...</td>\n",
              "    </tr>\n",
              "    <tr>\n",
              "      <th>3</th>\n",
              "      <td>https://www.linkedin.com/in/rhythm-bhatnagar-4...</td>\n",
              "      <td>rhythm-bhatnagar-4350b551</td>\n",
              "      <td>Product Marketer | Ex-SHEROES | Early-Stage St...</td>\n",
              "      <td>Hey,I am Rhythm. I am passionate about startup...</td>\n",
              "    </tr>\n",
              "    <tr>\n",
              "      <th>4</th>\n",
              "      <td>https://www.linkedin.com/in/karthiksureshlbs</td>\n",
              "      <td>karthiksureshlbs</td>\n",
              "      <td>Product at Facebook | CMU MS | LBS MBA</td>\n",
              "      <td>I am a product-centric builder with experience...</td>\n",
              "    </tr>\n",
              "  </tbody>\n",
              "</table>\n",
              "</div>"
            ],
            "text/plain": [
              "                                                 url  ...                                              about\n",
              "0  https://www.linkedin.com/in/lokesh-kumar-xess-...  ...  I am a Google Adwords and Google Analytics cer...\n",
              "1         https://in.linkedin.com/in/sujithnarayanan  ...                 Ideate. Execute. Disrupt. Iterate.\n",
              "2     https://www.linkedin.com/in/adarshramakrishnan  ...  Over the past decade, I have co-founded 3 vent...\n",
              "3  https://www.linkedin.com/in/rhythm-bhatnagar-4...  ...  Hey,I am Rhythm. I am passionate about startup...\n",
              "4       https://www.linkedin.com/in/karthiksureshlbs  ...  I am a product-centric builder with experience...\n",
              "\n",
              "[5 rows x 4 columns]"
            ]
          },
          "metadata": {
            "tags": []
          },
          "execution_count": 4
        }
      ]
    },
    {
      "cell_type": "markdown",
      "metadata": {
        "id": "w-mezAedYt-u"
      },
      "source": [
        "# **Remove Punctuation**"
      ]
    },
    {
      "cell_type": "code",
      "metadata": {
        "id": "PslC-zpLYQsq"
      },
      "source": [
        "# define punctuation\n",
        "punctuations = '\\'!()-[]{};:\\\"\\,<>./?#$%^&*_~'"
      ],
      "execution_count": null,
      "outputs": []
    },
    {
      "cell_type": "code",
      "metadata": {
        "id": "1B9BqylmaLmg"
      },
      "source": [
        "#Function for removing punctuation and lowering case\n",
        "def remove_punct(text):\n",
        "  for char in text:\n",
        "    if char in punctuations:\n",
        "      text = text.lower().replace(char,' ')    #lowering case\n",
        "      text = text.replace('  ', ' ')\n",
        "  return text"
      ],
      "execution_count": null,
      "outputs": []
    },
    {
      "cell_type": "code",
      "metadata": {
        "id": "eBikD64SanB3",
        "outputId": "b38d7063-a8bc-43af-8fdc-223985995c42",
        "colab": {
          "base_uri": "https://localhost:8080/",
          "height": 176
        }
      },
      "source": [
        "df['about_cleaned']= df.about.apply(lambda x: remove_punct(x))\n",
        "df.head(3)"
      ],
      "execution_count": null,
      "outputs": [
        {
          "output_type": "execute_result",
          "data": {
            "text/html": [
              "<div>\n",
              "<style scoped>\n",
              "    .dataframe tbody tr th:only-of-type {\n",
              "        vertical-align: middle;\n",
              "    }\n",
              "\n",
              "    .dataframe tbody tr th {\n",
              "        vertical-align: top;\n",
              "    }\n",
              "\n",
              "    .dataframe thead th {\n",
              "        text-align: right;\n",
              "    }\n",
              "</style>\n",
              "<table border=\"1\" class=\"dataframe\">\n",
              "  <thead>\n",
              "    <tr style=\"text-align: right;\">\n",
              "      <th></th>\n",
              "      <th>url</th>\n",
              "      <th>username</th>\n",
              "      <th>title</th>\n",
              "      <th>about</th>\n",
              "      <th>about_cleaned</th>\n",
              "    </tr>\n",
              "  </thead>\n",
              "  <tbody>\n",
              "    <tr>\n",
              "      <th>0</th>\n",
              "      <td>https://www.linkedin.com/in/lokesh-kumar-xess-...</td>\n",
              "      <td>lokesh-kumar-xess-54814068</td>\n",
              "      <td>Marketing &amp; Strategy at Mobistreak</td>\n",
              "      <td>I am a Google Adwords and Google Analytics cer...</td>\n",
              "      <td>i am a google adwords and google analytics cer...</td>\n",
              "    </tr>\n",
              "    <tr>\n",
              "      <th>1</th>\n",
              "      <td>https://in.linkedin.com/in/sujithnarayanan</td>\n",
              "      <td>sujithnarayanan</td>\n",
              "      <td>Reimagining Financial Services for India</td>\n",
              "      <td>Ideate. Execute. Disrupt. Iterate.</td>\n",
              "      <td>ideate execute disrupt iterate</td>\n",
              "    </tr>\n",
              "    <tr>\n",
              "      <th>2</th>\n",
              "      <td>https://www.linkedin.com/in/adarshramakrishnan</td>\n",
              "      <td>adarshramakrishnan</td>\n",
              "      <td>Product Strategist | Product Manager | Triple ...</td>\n",
              "      <td>Over the past decade, I have co-founded 3 vent...</td>\n",
              "      <td>over the past decade i have co founded 3 ventu...</td>\n",
              "    </tr>\n",
              "  </tbody>\n",
              "</table>\n",
              "</div>"
            ],
            "text/plain": [
              "                                                 url  ...                                      about_cleaned\n",
              "0  https://www.linkedin.com/in/lokesh-kumar-xess-...  ...  i am a google adwords and google analytics cer...\n",
              "1         https://in.linkedin.com/in/sujithnarayanan  ...                    ideate execute disrupt iterate \n",
              "2     https://www.linkedin.com/in/adarshramakrishnan  ...  over the past decade i have co founded 3 ventu...\n",
              "\n",
              "[3 rows x 5 columns]"
            ]
          },
          "metadata": {
            "tags": []
          },
          "execution_count": 7
        }
      ]
    },
    {
      "cell_type": "markdown",
      "metadata": {
        "id": "828lcEGxpBAJ"
      },
      "source": [
        "# **Remove Stopwords**"
      ]
    },
    {
      "cell_type": "code",
      "metadata": {
        "id": "BY3d-ytMowtT",
        "outputId": "0f33d353-7548-4dc0-a43b-24c20aeda79f",
        "colab": {
          "base_uri": "https://localhost:8080/",
          "height": 85
        }
      },
      "source": [
        "import nltk\n",
        "nltk.download('punkt')\n",
        "from nltk.corpus import stopwords\n",
        "nltk.download('stopwords')\n",
        "from nltk.tokenize import word_tokenize"
      ],
      "execution_count": null,
      "outputs": [
        {
          "output_type": "stream",
          "text": [
            "[nltk_data] Downloading package punkt to /root/nltk_data...\n",
            "[nltk_data]   Unzipping tokenizers/punkt.zip.\n",
            "[nltk_data] Downloading package stopwords to /root/nltk_data...\n",
            "[nltk_data]   Package stopwords is already up-to-date!\n"
          ],
          "name": "stdout"
        }
      ]
    },
    {
      "cell_type": "code",
      "metadata": {
        "id": "yd0xuAYTpzSJ"
      },
      "source": [
        "stop_words = set(stopwords.words('english'))\n",
        "additional_stop_words = set(['technology', 'development', 'experience', 'project', 'company'])"
      ],
      "execution_count": null,
      "outputs": []
    },
    {
      "cell_type": "code",
      "metadata": {
        "id": "NCRfTHrX7Txx"
      },
      "source": [
        "stop_words = stop_words.union(additional_stop_words)"
      ],
      "execution_count": null,
      "outputs": []
    },
    {
      "cell_type": "code",
      "metadata": {
        "id": "lMGSaDrdpO95"
      },
      "source": [
        "# Function removing stopwords-----------\n",
        "def remove_stopwords(text):\n",
        "  word_tokens = word_tokenize(text)\n",
        "  filtered_text = [w for w in word_tokens if not w in stop_words]\n",
        "  data = (' '.join(filtered_text))\n",
        "  return data"
      ],
      "execution_count": null,
      "outputs": []
    },
    {
      "cell_type": "code",
      "metadata": {
        "id": "Ze5URi9hqOAi"
      },
      "source": [
        "df['about_cleaned'] = df.about_cleaned.apply(lambda x: remove_stopwords(x))"
      ],
      "execution_count": null,
      "outputs": []
    },
    {
      "cell_type": "markdown",
      "metadata": {
        "id": "euHoGSKU8XSr"
      },
      "source": [
        "# **Tokenize words and Clean-up text**\n"
      ]
    },
    {
      "cell_type": "markdown",
      "metadata": {
        "id": "J9gaBaWdC5p9"
      },
      "source": [
        "Let’s tokenize each sentence into a list of words, removing punctuations and unnecessary characters altogether.\n",
        "\n",
        "Gensim’s ***simple_preprocess()*** is great for this. Additionally I have set **deacc=True** to remove the punctuations."
      ]
    },
    {
      "cell_type": "code",
      "metadata": {
        "id": "zfNOOZu6D3NB"
      },
      "source": [
        "# Gensim\n",
        "import gensim\n",
        "# import gensim.corpora as corpora\n",
        "from gensim.utils import simple_preprocess\n",
        "# from gensim.models import CoherenceModel"
      ],
      "execution_count": null,
      "outputs": []
    },
    {
      "cell_type": "code",
      "metadata": {
        "id": "Bqlusuvb8qLr"
      },
      "source": [
        "def sent_to_words(sentences):\n",
        "    for sentence in sentences:\n",
        "        yield(gensim.utils.simple_preprocess(str(sentence), min_len=2, deacc=True))  # deacc=True removes punctuations"
      ],
      "execution_count": null,
      "outputs": []
    },
    {
      "cell_type": "code",
      "metadata": {
        "id": "GpnN2_slsKgB",
        "outputId": "231833ad-8bf7-46c3-bd17-72dcc338db20",
        "colab": {
          "base_uri": "https://localhost:8080/",
          "height": 54
        }
      },
      "source": [
        "data_words= list(sent_to_words(df.about_cleaned))\n",
        "print(data_words[0:3])\n",
        "# when entire 'data_words' is printed it gives error saying 'IOPub data rate exceeded' because of large amount of data."
      ],
      "execution_count": null,
      "outputs": [
        {
          "output_type": "stream",
          "text": [
            "[['google', 'adwords', 'google', 'analytics', 'certified', 'ppc', 'expert', 'five', 'years', 'areas', 'search', 'engine', 'marketing', 'seo', 'ppc', 'website', 'speed', 'optimization', 'email', 'marketing', 'currently', 'working', 'manager', 'media', 'services', 'los', 'angeles', 'based', 'marketing', 'firm', 'mobistreak', 'inc', 'manage', 'monthly', 'adwords', 'spending', 'firm', 'portfolio', 'includes', 'cable', 'internet', 'dentist', 'auto', 'insurance', 'sr', 'insurance', 'health', 'insurance', 'mortgage', 'hotel', 'flight', 'booking', 'home', 'improvement', 'flower', 'delivery', 'industry', 'strong', 'ability', 'develop', 'understand', 'marketing', 'strategies', 'big', 'picture', 'campaign', 'level', 'feel', 'free', 'reach', 'interested', 'taking', 'business', 'next', 'level', 'effective', 'digital', 'advertising', 'strategy'], ['ideate', 'execute', 'disrupt', 'iterate'], ['past', 'decade', 'co', 'founded', 'ventures', 'elegant', 'solutions', 'inseyete', 'startship', 'provided', 'end', 'end', 'product', 'consulting', 'services', 'design', 'management', 'strategy', 'clients', 'world', 'wide', 'served', 'head', 'product', 'archbolt', 'also', 'built', 'side', 'career', 'instructor', 'higher', 'education', 'teaching', 'courses', 'leadership', 'negotiations', 'products', 'university', 'virginia', 'virginia', 'commonwealth', 'university', 'connect', 'products', 'design']]\n"
          ],
          "name": "stdout"
        }
      ]
    },
    {
      "cell_type": "markdown",
      "metadata": {
        "id": "n9mskXUwJThi"
      },
      "source": [
        "# **Creating Bigram and Trigram**"
      ]
    },
    {
      "cell_type": "code",
      "metadata": {
        "id": "BWNmyX1oJYYq"
      },
      "source": [
        "# Build the bigram and trigram models\n",
        "bigram = gensim.models.Phrases(data_words, min_count=1, threshold=70) # higher threshold fewer phrases.\n",
        "# trigram = gensim.models.Phrases(bigram[data_words], threshold=30) "
      ],
      "execution_count": null,
      "outputs": []
    },
    {
      "cell_type": "code",
      "metadata": {
        "id": "g3qm-VLMJfOM"
      },
      "source": [
        "# Faster way to get a sentence clubbed as a trigram/bigram\n",
        "bigram_mod = gensim.models.phrases.Phraser(bigram)\n",
        "# trigram_mod = gensim.models.phrases.Phraser(trigram)"
      ],
      "execution_count": null,
      "outputs": []
    },
    {
      "cell_type": "code",
      "metadata": {
        "id": "xdVsihwqJkfS"
      },
      "source": [
        "# # See trigram example\n",
        "# # print(trigram_mod[bigram_mod[data_words[0]]])\n",
        "# for i in range(1000):\n",
        "#   print(bigram_mod[data_words[i]])"
      ],
      "execution_count": null,
      "outputs": []
    },
    {
      "cell_type": "markdown",
      "metadata": {
        "id": "eNDVQWaZEx9K"
      },
      "source": [
        "# **Create function for Making Bigram, Trigram and Lemmatization**"
      ]
    },
    {
      "cell_type": "code",
      "metadata": {
        "id": "fDCAhXkXJoG7"
      },
      "source": [
        "def make_bigrams(words_list):\n",
        "    return [bigram_mod[words] for words in words_list]\n",
        "\n",
        "# def make_trigrams(texts):\n",
        "#     return [trigram_mod[bigram_mod[words]] for words in words_list]\n",
        "\n",
        "def lemmatization(texts, allowed_postags=['NOUN', 'PROPN' 'ADJ', 'VERB', 'ADV']):\n",
        "    \"\"\"https://spacy.io/api/annotation\"\"\"\n",
        "    texts_out = []\n",
        "    for sent in texts:\n",
        "        doc = nlp(\" \".join(sent)) \n",
        "        texts_out.append([token.lemma_ for token in doc if token.pos_ in allowed_postags])\n",
        "    return texts_out"
      ],
      "execution_count": null,
      "outputs": []
    },
    {
      "cell_type": "code",
      "metadata": {
        "id": "4jF0B9KiOOBz"
      },
      "source": [
        "# Form Bigrams \n",
        "data_words_bigram = make_bigrams(data_words)"
      ],
      "execution_count": null,
      "outputs": []
    },
    {
      "cell_type": "markdown",
      "metadata": {
        "id": "4mEFmlXbNvzD"
      },
      "source": [
        "# **Importing Spacy**"
      ]
    },
    {
      "cell_type": "code",
      "metadata": {
        "id": "hB7DAm73NyyV"
      },
      "source": [
        "% cd /content/drive/My Drive/NLP/with_swaraj/Code\n"
      ],
      "execution_count": null,
      "outputs": []
    },
    {
      "cell_type": "code",
      "metadata": {
        "id": "UbRCjJHoOHkQ"
      },
      "source": [
        "!pip install en_core_web_lg-2.1.0.tar.gz"
      ],
      "execution_count": null,
      "outputs": []
    },
    {
      "cell_type": "code",
      "metadata": {
        "id": "iVHTQDKqOQOT",
        "outputId": "4bb47efc-7b6b-4ef3-c143-a4242e64677e",
        "colab": {
          "base_uri": "https://localhost:8080/",
          "height": 51
        }
      },
      "source": [
        "import spacy\n",
        "spacy.cli.download('en_core_web_lg')"
      ],
      "execution_count": null,
      "outputs": [
        {
          "output_type": "stream",
          "text": [
            "\u001b[38;5;2m✔ Download and installation successful\u001b[0m\n",
            "You can now load the model via spacy.load('en_core_web_lg')\n"
          ],
          "name": "stdout"
        }
      ]
    },
    {
      "cell_type": "code",
      "metadata": {
        "id": "dIRa6XRglOLe"
      },
      "source": [
        "# Initialize spacy 'en_core_web_lg' model, keeping only tagger component (for efficiency)\n",
        "\n",
        "nlp = spacy.load('en_core_web_lg', disable=['parser', 'ner'])"
      ],
      "execution_count": null,
      "outputs": []
    },
    {
      "cell_type": "code",
      "metadata": {
        "id": "Y_d3gJ2RlZII"
      },
      "source": [
        "# Do lemmatization keeping only noun, adj, vb, adv\n",
        "data_lemmatized = lemmatization(data_words_bigram, allowed_postags=['NOUN', 'PROPN', 'ADJ', 'VERB', 'ADV'])"
      ],
      "execution_count": null,
      "outputs": []
    },
    {
      "cell_type": "markdown",
      "metadata": {
        "id": "ns-3gUdwzvfb"
      },
      "source": [
        "# **Saving data_lemmatized**"
      ]
    },
    {
      "cell_type": "markdown",
      "metadata": {
        "id": "2BBOhz_Z0C3P"
      },
      "source": [
        "data_lemmatized is a list which contains list of words, document wise"
      ]
    },
    {
      "cell_type": "code",
      "metadata": {
        "id": "oxblyBl2zd0k"
      },
      "source": [
        "import pickle\n",
        "\n",
        "#Saving Corpus \n",
        "with open(\"/content/drive/My Drive/NLP/with_swaraj/Data/data_list_for_lda_dictionary.json\", \"wb\") as fp:   #Pickling\n",
        "  pickle.dump(data_lemmatized, fp)"
      ],
      "execution_count": null,
      "outputs": []
    },
    {
      "cell_type": "markdown",
      "metadata": {
        "id": "xloJAg5EPrY-"
      },
      "source": [
        "# **Create the Dictionary and Corpus needed for Topic Modeling**"
      ]
    },
    {
      "cell_type": "markdown",
      "metadata": {
        "id": "LEDIZrvOPzn3"
      },
      "source": [
        "The two main inputs to the LDA topic model are the dictionary(id2word) and the corpus. Let’s create them."
      ]
    },
    {
      "cell_type": "code",
      "metadata": {
        "id": "uh8t-3olOhXP",
        "outputId": "f7dde204-8edc-47ca-cbb7-909413138a90",
        "colab": {
          "base_uri": "https://localhost:8080/",
          "height": 34
        }
      },
      "source": [
        "import gensim.corpora as corpora\n",
        "\n",
        "# Create Dictionary\n",
        "id2word = corpora.Dictionary(data_lemmatized)\n",
        "print(f'Total vocabulary size: {len(id2word)}')"
      ],
      "execution_count": null,
      "outputs": [
        {
          "output_type": "stream",
          "text": [
            "Total vocabulary size: 41089\n"
          ],
          "name": "stdout"
        }
      ]
    },
    {
      "cell_type": "code",
      "metadata": {
        "id": "YhKWPy0oQsXm"
      },
      "source": [
        "# Create Corpus\n",
        "texts = data_lemmatized"
      ],
      "execution_count": null,
      "outputs": []
    },
    {
      "cell_type": "code",
      "metadata": {
        "id": "-bNDOg0ZP6Ic"
      },
      "source": [
        "# Term Document Frequency\n",
        "corpus = [id2word.doc2bow(text) for text in texts]"
      ],
      "execution_count": null,
      "outputs": []
    },
    {
      "cell_type": "code",
      "metadata": {
        "id": "u1RtGYGVQt8P",
        "outputId": "7ca2698d-fe99-487c-dd34-fc39f0f95c0c",
        "colab": {
          "base_uri": "https://localhost:8080/",
          "height": 187
        }
      },
      "source": [
        "corpus[9]"
      ],
      "execution_count": null,
      "outputs": [
        {
          "output_type": "execute_result",
          "data": {
            "text/plain": [
              "[(182, 1),\n",
              " (416, 1),\n",
              " (417, 1),\n",
              " (418, 1),\n",
              " (419, 2),\n",
              " (420, 1),\n",
              " (421, 1),\n",
              " (422, 1),\n",
              " (423, 1),\n",
              " (424, 1)]"
            ]
          },
          "metadata": {
            "tags": []
          },
          "execution_count": 57
        }
      ]
    },
    {
      "cell_type": "markdown",
      "metadata": {
        "id": "7jo9ClMCGydE"
      },
      "source": [
        "# **Find Frequecy of words in corpus**"
      ]
    },
    {
      "cell_type": "code",
      "metadata": {
        "id": "Ca3by6dzG8QK"
      },
      "source": [
        "dict_corpus = {}\n",
        "for i in range(len(corpus)):\n",
        "  for word_id, freq in corpus[i]:\n",
        "    if id2word[word_id] in dict_corpus:\n",
        "      dict_corpus[id2word[word_id]] += freq\n",
        "    else:\n",
        "      dict_corpus[id2word[word_id]] = freq\n"
      ],
      "execution_count": null,
      "outputs": []
    },
    {
      "cell_type": "markdown",
      "metadata": {
        "id": "MTsh0Av3EyI9"
      },
      "source": [
        "# **Making an Ordered Dictionary Type**"
      ]
    },
    {
      "cell_type": "code",
      "metadata": {
        "id": "QjDqLR2NDCdW"
      },
      "source": [
        "import collections\n",
        "od = collections.OrderedDict(sorted(dict_corpus.items()))"
      ],
      "execution_count": null,
      "outputs": []
    },
    {
      "cell_type": "markdown",
      "metadata": {
        "id": "Z-MAgkGpE8gp"
      },
      "source": [
        "# **Creating DataFrame for word vs frequency**"
      ]
    },
    {
      "cell_type": "code",
      "metadata": {
        "id": "QVgMDPl7ExA4"
      },
      "source": [
        "dict_corpus_list=[]\n",
        "for word, freq in od.items():\n",
        "  dic={'words':word, 'freq':freq}\n",
        "  dict_corpus_list.append(dic)\n",
        "\n",
        "dict_corpus_df = pd.DataFrame(dict_corpus_list)"
      ],
      "execution_count": null,
      "outputs": []
    },
    {
      "cell_type": "code",
      "metadata": {
        "id": "5MhEaUSkEXvW"
      },
      "source": [
        "pd.set_option(\"display.max_rows\", None, \"display.max_columns\", None) # This line is for displaying entire dataframe\n",
        "dict_corpus_df.sort_values('words')"
      ],
      "execution_count": null,
      "outputs": []
    },
    {
      "cell_type": "markdown",
      "metadata": {
        "id": "2wlZRroOImFR"
      },
      "source": [
        "# **Plotting histogram of word frequencies**"
      ]
    },
    {
      "cell_type": "code",
      "metadata": {
        "id": "wxCb5vF1JAEc"
      },
      "source": [
        "import seaborn as sns\n",
        "import matplotlib.pyplot as plt\n",
        "# sns.set()"
      ],
      "execution_count": null,
      "outputs": []
    },
    {
      "cell_type": "code",
      "metadata": {
        "id": "Goj21HgEI0MW",
        "outputId": "dbf9a05e-c811-4c15-a177-0c4036cc74c6",
        "colab": {
          "base_uri": "https://localhost:8080/",
          "height": 442
        }
      },
      "source": [
        "plt.figure(figsize=(8,6))\n",
        "sns.distplot(dict_corpus_df['freq'], bins=200);"
      ],
      "execution_count": null,
      "outputs": [
        {
          "output_type": "stream",
          "text": [
            "/usr/local/lib/python3.6/dist-packages/seaborn/distributions.py:2551: FutureWarning: `distplot` is a deprecated function and will be removed in a future version. Please adapt your code to use either `displot` (a figure-level function with similar flexibility) or `histplot` (an axes-level function for histograms).\n",
            "  warnings.warn(msg, FutureWarning)\n"
          ],
          "name": "stderr"
        },
        {
          "output_type": "display_data",
          "data": {
            "image/png": "[encoded data removed]",
            "text/plain": [
              "<Figure size 576x432 with 1 Axes>"
            ]
          },
          "metadata": {
            "tags": [],
            "needs_background": "light"
          }
        }
      ]
    },
    {
      "cell_type": "code",
      "metadata": {
        "id": "POufJw3qJS-T",
        "outputId": "22cf5b8f-8f19-4573-f7eb-da8eed572ab8",
        "colab": {
          "base_uri": "https://localhost:8080/",
          "height": 669
        }
      },
      "source": [
        "dict_corpus_df.sort_values('freq', ascending=False)[:20]"
      ],
      "execution_count": null,
      "outputs": [
        {
          "output_type": "execute_result",
          "data": {
            "text/html": [
              "<div>\n",
              "<style scoped>\n",
              "    .dataframe tbody tr th:only-of-type {\n",
              "        vertical-align: middle;\n",
              "    }\n",
              "\n",
              "    .dataframe tbody tr th {\n",
              "        vertical-align: top;\n",
              "    }\n",
              "\n",
              "    .dataframe thead th {\n",
              "        text-align: right;\n",
              "    }\n",
              "</style>\n",
              "<table border=\"1\" class=\"dataframe\">\n",
              "  <thead>\n",
              "    <tr style=\"text-align: right;\">\n",
              "      <th></th>\n",
              "      <th>words</th>\n",
              "      <th>freq</th>\n",
              "    </tr>\n",
              "  </thead>\n",
              "  <tbody>\n",
              "    <tr>\n",
              "      <th>4871</th>\n",
              "      <td>business</td>\n",
              "      <td>7028</td>\n",
              "    </tr>\n",
              "    <tr>\n",
              "      <th>40059</th>\n",
              "      <td>work</td>\n",
              "      <td>5950</td>\n",
              "    </tr>\n",
              "    <tr>\n",
              "      <th>21968</th>\n",
              "      <td>management</td>\n",
              "      <td>5838</td>\n",
              "    </tr>\n",
              "    <tr>\n",
              "      <th>28644</th>\n",
              "      <td>product</td>\n",
              "      <td>5340</td>\n",
              "    </tr>\n",
              "    <tr>\n",
              "      <th>35971</th>\n",
              "      <td>team</td>\n",
              "      <td>3588</td>\n",
              "    </tr>\n",
              "    <tr>\n",
              "      <th>22228</th>\n",
              "      <td>marketing</td>\n",
              "      <td>3562</td>\n",
              "    </tr>\n",
              "    <tr>\n",
              "      <th>40423</th>\n",
              "      <td>year</td>\n",
              "      <td>3446</td>\n",
              "    </tr>\n",
              "    <tr>\n",
              "      <th>34832</th>\n",
              "      <td>strategy</td>\n",
              "      <td>2787</td>\n",
              "    </tr>\n",
              "    <tr>\n",
              "      <th>20675</th>\n",
              "      <td>lead</td>\n",
              "      <td>2527</td>\n",
              "    </tr>\n",
              "    <tr>\n",
              "      <th>4776</th>\n",
              "      <td>build</td>\n",
              "      <td>2525</td>\n",
              "    </tr>\n",
              "    <tr>\n",
              "      <th>9591</th>\n",
              "      <td>design</td>\n",
              "      <td>2293</td>\n",
              "    </tr>\n",
              "    <tr>\n",
              "      <th>31619</th>\n",
              "      <td>sale</td>\n",
              "      <td>2208</td>\n",
              "    </tr>\n",
              "    <tr>\n",
              "      <th>24797</th>\n",
              "      <td>new</td>\n",
              "      <td>2034</td>\n",
              "    </tr>\n",
              "    <tr>\n",
              "      <th>28688</th>\n",
              "      <td>professional</td>\n",
              "      <td>2020</td>\n",
              "    </tr>\n",
              "    <tr>\n",
              "      <th>32584</th>\n",
              "      <td>service</td>\n",
              "      <td>2012</td>\n",
              "    </tr>\n",
              "    <tr>\n",
              "      <th>8751</th>\n",
              "      <td>customer</td>\n",
              "      <td>1977</td>\n",
              "    </tr>\n",
              "    <tr>\n",
              "      <th>16193</th>\n",
              "      <td>help</td>\n",
              "      <td>1963</td>\n",
              "    </tr>\n",
              "    <tr>\n",
              "      <th>34503</th>\n",
              "      <td>startup</td>\n",
              "      <td>1934</td>\n",
              "    </tr>\n",
              "    <tr>\n",
              "      <th>9980</th>\n",
              "      <td>digital</td>\n",
              "      <td>1895</td>\n",
              "    </tr>\n",
              "    <tr>\n",
              "      <th>17880</th>\n",
              "      <td>industry</td>\n",
              "      <td>1780</td>\n",
              "    </tr>\n",
              "  </tbody>\n",
              "</table>\n",
              "</div>"
            ],
            "text/plain": [
              "              words  freq\n",
              "4871       business  7028\n",
              "40059          work  5950\n",
              "21968    management  5838\n",
              "28644       product  5340\n",
              "35971          team  3588\n",
              "22228     marketing  3562\n",
              "40423          year  3446\n",
              "34832      strategy  2787\n",
              "20675          lead  2527\n",
              "4776          build  2525\n",
              "9591         design  2293\n",
              "31619          sale  2208\n",
              "24797           new  2034\n",
              "28688  professional  2020\n",
              "32584       service  2012\n",
              "8751       customer  1977\n",
              "16193          help  1963\n",
              "34503       startup  1934\n",
              "9980        digital  1895\n",
              "17880      industry  1780"
            ]
          },
          "metadata": {
            "tags": []
          },
          "execution_count": 64
        }
      ]
    },
    {
      "cell_type": "code",
      "metadata": {
        "id": "g7VCLM5XKnlA",
        "outputId": "49cabfd8-dcc0-40f3-8d6c-4d8f91587c52",
        "colab": {
          "base_uri": "https://localhost:8080/",
          "height": 51
        }
      },
      "source": [
        "tot_words_freq_one = str(len(dict_corpus_df[dict_corpus_df['freq']==1]))\n",
        "tot_words_freq_two = str(len(dict_corpus_df[dict_corpus_df['freq']==2]))\n",
        "print(f'total words with frequency of 1: {tot_words_freq_one}')\n",
        "print(f'total words with frequency of 2: {tot_words_freq_two}')"
      ],
      "execution_count": null,
      "outputs": [
        {
          "output_type": "stream",
          "text": [
            "total words with frequency of 1: 17310\n",
            "total words with frequency of 2: 12158\n"
          ],
          "name": "stdout"
        }
      ]
    },
    {
      "cell_type": "markdown",
      "metadata": {
        "id": "lW7XYD2AN3oX"
      },
      "source": [
        "# **Removing low frequency words from dictionary**"
      ]
    },
    {
      "cell_type": "code",
      "metadata": {
        "id": "ltvlqS0BO3Mz",
        "outputId": "996aaaf5-363e-4a19-deef-b5b26e32ae49",
        "colab": {
          "base_uri": "https://localhost:8080/",
          "height": 669
        }
      },
      "source": [
        "low_freq_words = dict_corpus_df[dict_corpus_df['freq']<3]\n",
        "low_freq_words = low_freq_words.reset_index(drop=True)\n",
        "low_freq_words[:20]"
      ],
      "execution_count": null,
      "outputs": [
        {
          "output_type": "execute_result",
          "data": {
            "text/html": [
              "<div>\n",
              "<style scoped>\n",
              "    .dataframe tbody tr th:only-of-type {\n",
              "        vertical-align: middle;\n",
              "    }\n",
              "\n",
              "    .dataframe tbody tr th {\n",
              "        vertical-align: top;\n",
              "    }\n",
              "\n",
              "    .dataframe thead th {\n",
              "        text-align: right;\n",
              "    }\n",
              "</style>\n",
              "<table border=\"1\" class=\"dataframe\">\n",
              "  <thead>\n",
              "    <tr style=\"text-align: right;\">\n",
              "      <th></th>\n",
              "      <th>words</th>\n",
              "      <th>freq</th>\n",
              "    </tr>\n",
              "  </thead>\n",
              "  <tbody>\n",
              "    <tr>\n",
              "      <th>0</th>\n",
              "      <td>aaa</td>\n",
              "      <td>2</td>\n",
              "    </tr>\n",
              "    <tr>\n",
              "      <th>1</th>\n",
              "      <td>aaaif</td>\n",
              "      <td>1</td>\n",
              "    </tr>\n",
              "    <tr>\n",
              "      <th>2</th>\n",
              "      <td>aaaim</td>\n",
              "      <td>1</td>\n",
              "    </tr>\n",
              "    <tr>\n",
              "      <th>3</th>\n",
              "      <td>aaas</td>\n",
              "      <td>1</td>\n",
              "    </tr>\n",
              "    <tr>\n",
              "      <th>4</th>\n",
              "      <td>aadab</td>\n",
              "      <td>1</td>\n",
              "    </tr>\n",
              "    <tr>\n",
              "      <th>5</th>\n",
              "      <td>aadil</td>\n",
              "      <td>1</td>\n",
              "    </tr>\n",
              "    <tr>\n",
              "      <th>6</th>\n",
              "      <td>aaf</td>\n",
              "      <td>1</td>\n",
              "    </tr>\n",
              "    <tr>\n",
              "      <th>7</th>\n",
              "      <td>aagnya</td>\n",
              "      <td>1</td>\n",
              "    </tr>\n",
              "    <tr>\n",
              "      <th>8</th>\n",
              "      <td>aaifr</td>\n",
              "      <td>1</td>\n",
              "    </tr>\n",
              "    <tr>\n",
              "      <th>9</th>\n",
              "      <td>aaj</td>\n",
              "      <td>1</td>\n",
              "    </tr>\n",
              "    <tr>\n",
              "      <th>10</th>\n",
              "      <td>aakash</td>\n",
              "      <td>1</td>\n",
              "    </tr>\n",
              "    <tr>\n",
              "      <th>11</th>\n",
              "      <td>aakrit</td>\n",
              "      <td>1</td>\n",
              "    </tr>\n",
              "    <tr>\n",
              "      <th>12</th>\n",
              "      <td>aalami</td>\n",
              "      <td>1</td>\n",
              "    </tr>\n",
              "    <tr>\n",
              "      <th>13</th>\n",
              "      <td>aalto</td>\n",
              "      <td>1</td>\n",
              "    </tr>\n",
              "    <tr>\n",
              "      <th>14</th>\n",
              "      <td>aama</td>\n",
              "      <td>1</td>\n",
              "    </tr>\n",
              "    <tr>\n",
              "      <th>15</th>\n",
              "      <td>aami</td>\n",
              "      <td>1</td>\n",
              "    </tr>\n",
              "    <tr>\n",
              "      <th>16</th>\n",
              "      <td>aamster</td>\n",
              "      <td>1</td>\n",
              "    </tr>\n",
              "    <tr>\n",
              "      <th>17</th>\n",
              "      <td>aarp</td>\n",
              "      <td>1</td>\n",
              "    </tr>\n",
              "    <tr>\n",
              "      <th>18</th>\n",
              "      <td>aarron</td>\n",
              "      <td>1</td>\n",
              "    </tr>\n",
              "    <tr>\n",
              "      <th>19</th>\n",
              "      <td>aarrr</td>\n",
              "      <td>1</td>\n",
              "    </tr>\n",
              "  </tbody>\n",
              "</table>\n",
              "</div>"
            ],
            "text/plain": [
              "      words  freq\n",
              "0       aaa     2\n",
              "1     aaaif     1\n",
              "2     aaaim     1\n",
              "3      aaas     1\n",
              "4     aadab     1\n",
              "5     aadil     1\n",
              "6       aaf     1\n",
              "7    aagnya     1\n",
              "8     aaifr     1\n",
              "9       aaj     1\n",
              "10   aakash     1\n",
              "11   aakrit     1\n",
              "12   aalami     1\n",
              "13    aalto     1\n",
              "14     aama     1\n",
              "15     aami     1\n",
              "16  aamster     1\n",
              "17     aarp     1\n",
              "18   aarron     1\n",
              "19    aarrr     1"
            ]
          },
          "metadata": {
            "tags": []
          },
          "execution_count": 66
        }
      ]
    },
    {
      "cell_type": "code",
      "metadata": {
        "id": "M83DvpEwOwlu"
      },
      "source": [
        "ids=[id2word.token2id[low_freq_words['words'][i]] for i in range(len(low_freq_words))]\n",
        "id2word.filter_tokens(bad_ids=ids)"
      ],
      "execution_count": null,
      "outputs": []
    },
    {
      "cell_type": "code",
      "metadata": {
        "id": "e8YRiEGpQYcn",
        "outputId": "2a20c450-9644-47ad-d548-0159905319f8",
        "colab": {
          "base_uri": "https://localhost:8080/",
          "height": 34
        }
      },
      "source": [
        "print(f'New vocabulary size: {len(id2word)}')"
      ],
      "execution_count": null,
      "outputs": [
        {
          "output_type": "stream",
          "text": [
            "New vocabulary size: 11621\n"
          ],
          "name": "stdout"
        }
      ]
    },
    {
      "cell_type": "markdown",
      "metadata": {
        "id": "Wa5WmzNDQwvE"
      },
      "source": [
        "# **Filter extreme words**"
      ]
    },
    {
      "cell_type": "code",
      "metadata": {
        "id": "7cUCPzWoQ4ia",
        "outputId": "3b9819c8-55a8-4e87-dfb8-fe8e3751b478",
        "colab": {
          "base_uri": "https://localhost:8080/",
          "height": 34
        }
      },
      "source": [
        "# Filter out words that occur in less than 10 documents, or more than\n",
        "# 95% of the documents.\n",
        "id2word.filter_extremes(no_below=10, no_above=0.90)\n",
        "print('Total Vocabulary Size:', len(id2word))\n"
      ],
      "execution_count": null,
      "outputs": [
        {
          "output_type": "stream",
          "text": [
            "Total Vocabulary Size: 3775\n"
          ],
          "name": "stdout"
        }
      ]
    },
    {
      "cell_type": "markdown",
      "metadata": {
        "id": "NpsTxBG1RJwL"
      },
      "source": [
        "# Creating Last version of **Corpus**"
      ]
    },
    {
      "cell_type": "code",
      "metadata": {
        "id": "kwFfr39FR0P-",
        "outputId": "53fd0103-489a-4600-e6ba-2d78c9c6fe16",
        "colab": {
          "base_uri": "https://localhost:8080/",
          "height": 34
        }
      },
      "source": [
        "print(id2word)"
      ],
      "execution_count": null,
      "outputs": [
        {
          "output_type": "stream",
          "text": [
            "Dictionary(3775 unique tokens: ['ability', 'advertising', 'analytics', 'area', 'base']...)\n"
          ],
          "name": "stdout"
        }
      ]
    },
    {
      "cell_type": "code",
      "metadata": {
        "id": "816QNKeXTHW0"
      },
      "source": [
        "corpus = [id2word.doc2bow(text) for text in texts]"
      ],
      "execution_count": null,
      "outputs": []
    },
    {
      "cell_type": "markdown",
      "metadata": {
        "id": "Ek0jovtsn7Mv"
      },
      "source": [
        "# **Save Corpus in .txt format using Pickle**"
      ]
    },
    {
      "cell_type": "code",
      "metadata": {
        "id": "ZoTZ8BR7oXGI"
      },
      "source": [
        "import pickle\n",
        "\n",
        "#Saving Corpus \n",
        "with open(\"/content/drive/My Drive/NLP/with_swaraj/Data/lda_corpus_bigram_threshold_70.txt\", \"wb\") as fp:   #Pickling\n",
        "  pickle.dump(corpus, fp)\n",
        "\n",
        "\n",
        "#saving word dictionary (id2word)\n",
        "with open(\"/content/drive/My Drive/NLP/with_swaraj/Data/lda_id2word_bigram_threshold_70.txt\", \"wb\") as fp:   #Pickling\n",
        "  pickle.dump(id2word, fp)"
      ],
      "execution_count": null,
      "outputs": []
    },
    {
      "cell_type": "markdown",
      "metadata": {
        "id": "rfsEeKKAqG5A"
      },
      "source": [
        "# **Load File**"
      ]
    },
    {
      "cell_type": "code",
      "metadata": {
        "id": "ePGVt-6VpbIY"
      },
      "source": [
        "with open(\"/content/drive/My Drive/NLP/with_swaraj/Data/lda_corpus_bigram_threshold_70.txt\", \"rb\") as fp:   # Unpickling\n",
        "  b = pickle.load(fp)"
      ],
      "execution_count": null,
      "outputs": []
    }
  ]
}